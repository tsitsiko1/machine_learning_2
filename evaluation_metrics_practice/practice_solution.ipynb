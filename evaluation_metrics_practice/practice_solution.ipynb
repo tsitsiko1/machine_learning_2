{
 "cells": [
  {
   "cell_type": "code",
   "execution_count": 2,
   "metadata": {},
   "outputs": [
    {
     "data": {
      "text/html": [
       "<style>.container { width:100% !important; }</style>"
      ],
      "text/plain": [
       "<IPython.core.display.HTML object>"
      ]
     },
     "metadata": {},
     "output_type": "display_data"
    },
    {
     "data": {
      "text/html": [
       "<style>.rendered_html { font-size: 16px; }</style>"
      ],
      "text/plain": [
       "<IPython.core.display.HTML object>"
      ]
     },
     "metadata": {},
     "output_type": "display_data"
    }
   ],
   "source": [
    "from IPython.core.display import display, HTML\n",
    "\n",
    "display(HTML(\"<style>.container { width:100% !important; }</style>\")) # Increase cell width\n",
    "display(HTML(\"<style>.rendered_html { font-size: 16px; }</style>\")) # Increase font size\n",
    "\n",
    "# Larger figures\n",
    "\n",
    "import matplotlib\n",
    "import matplotlib.pyplot as plt\n",
    "%matplotlib inline  \n",
    "\n",
    "import pandas as pd\n",
    "import numpy as np"
   ]
  },
  {
   "cell_type": "code",
   "execution_count": 3,
   "metadata": {},
   "outputs": [],
   "source": [
    "# Note that you should modify the filepath according to where you have them\n",
    "\n",
    "df = pd.read_csv(\"data/titanic.csv\", sep=\";\")\n",
    "df['sex'].replace(['female','male'],[0,1],inplace=True)\n",
    "df['embarked'].replace(['Q','S', 'C'],[0,1,2],inplace=True)\n",
    "df['age'] = df.age.apply(lambda x: str(x).replace(',','.')).astype('float64') # The numbers include commas instead of dots (26,4 instead of 26.4). We have to change it to allow its conversion to float\n",
    "df['fare'] = df.fare.apply(lambda x: str(x).replace(',','.')).astype('float64') # The nummbers include commas instead of dots (26,4 instead of 26.4). We have to change it to allow its conversion to float\n",
    "\n",
    "del df['cabin']\n",
    "del df['ticket']\n",
    "\n",
    "df['age'] = df['age'].replace(np.nan, df[\"age\"].mean())\n",
    "\n",
    "df.dropna(inplace=True)\n"
   ]
  },
  {
   "cell_type": "markdown",
   "metadata": {},
   "source": [
    "# Training & Model Evaluation\n",
    "\n",
    "Now it's time to train a model.\n",
    "\n",
    "I have created 2 functions, the `split_df` function that we already know and the `model_evaluation` function that takes care of training the Logistic Regression Model, predict the probability of survival, compute the ROC Curve, find the optimal threshold value according to the ROC Curve and compute the model accuracy for this threshold."
   ]
  },
  {
   "cell_type": "code",
   "execution_count": 4,
   "metadata": {
    "code_folding": []
   },
   "outputs": [],
   "source": [
    "from sklearn.model_selection import train_test_split\n",
    "from sklearn import linear_model\n",
    "from sklearn.metrics import roc_curve, roc_auc_score, accuracy_score\n",
    "from sklearn.preprocessing import OneHotEncoder\n",
    "from sklearn.model_selection import train_test_split\n",
    "\n",
    "def split_df(dataframe, seed=None, percentage=0.8):\n",
    "    \n",
    "    X = dataframe.loc[:, dataframe.columns != 'survived']\n",
    "    y = dataframe['survived']\n",
    "\n",
    "    return train_test_split(X, y, test_size=1-percentage, random_state=seed)\n",
    "\n",
    "def model_evaluation(X_train, y_train, X_test, y_test):\n",
    "\n",
    "    model = linear_model.LogisticRegression(max_iter=100, solver='liblinear')\n",
    "    model.fit(X_train, y_train)\n",
    "\n",
    "    # The predicted probabilities given to each sample in the test set. `predict_proba` gives you the probabilities of both classes, we take the probs of class 1 for simplicity.\n",
    "    probs = model.predict_proba(X_test)[:,1]\n",
    "\n",
    "    # The predictions in the form of a dataset to make manipulation easier. We put together here 'labels' and 'probabilities'.\n",
    "    predictions = pd.DataFrame({'survived':y_test, 'pred':probs})\n",
    "    \n",
    "    # ROC\n",
    "    fpr, tpr, thresholds = roc_curve(predictions.survived, predictions.pred)\n",
    "    \n",
    "    # Find the optimal threshold\n",
    "    optimal_idx = np.argmax(tpr - fpr)\n",
    "    optimal_threshold = thresholds[optimal_idx]\n",
    "    \n",
    "    # Accuracy Score\n",
    "    return accuracy_score(y_test, [pred>optimal_threshold for pred in predictions.pred])"
   ]
  },
  {
   "cell_type": "markdown",
   "metadata": {},
   "source": [
    "# Solution #1\n",
    "\n",
    "*Measure how your model results change when using different test sets. To do that, simply start over the process at least 10 times with different splits of the full dataset into training and test. Result might differ, so illustrate that difference in performance*.\n",
    "\n",
    "Now we only need to iterate _n_ times, so the general process implies to repeat steps 1 to 3, _n_ times:\n",
    "\n",
    "1. Produce a 80-20% split. If we use the `split_df` function without setting any random seed, it will randomly generate a different splitting every time.\n",
    "2. Fit a model, and evaluate its performance by using the `model_evaluation` method\n",
    "  \n",
    "and get the maximum performance achieved among the _n_ different results obtained."
   ]
  },
  {
   "cell_type": "code",
   "execution_count": 5,
   "metadata": {},
   "outputs": [
    {
     "name": "stdout",
     "output_type": "stream",
     "text": [
      "Max perfomance = 0.8664\n"
     ]
    }
   ],
   "source": [
    "perf = []\n",
    "num_iterations = 1000\n",
    "\n",
    "for i in range(1,num_iterations):\n",
    "    X_train, X_test, y_train, y_test = split_df(df)\n",
    "    perf.append(model_evaluation(X_train, y_train, X_test, y_test))\n",
    "    \n",
    "index_of_max_performance = np.argmax(perf)\n",
    "max_perf = perf[index_of_max_performance]\n",
    "\n",
    "index_of_min_performance = np.argmin(perf)\n",
    "min_perf = perf[index_of_min_performance]\n",
    "    \n",
    "print(\"Max perfomance = {0:.4f}\".format(max_perf))"
   ]
  },
  {
   "cell_type": "markdown",
   "metadata": {},
   "source": [
    "### Compare with single split\n",
    "\n",
    "What would be the performance without iterating over different splits? Lets try:"
   ]
  },
  {
   "cell_type": "code",
   "execution_count": 6,
   "metadata": {},
   "outputs": [
    {
     "name": "stdout",
     "output_type": "stream",
     "text": [
      "Single Split Peformance = 0.7863\n"
     ]
    }
   ],
   "source": [
    "X_train, X_test, y_train, y_test = split_df(df, seed=123)\n",
    "single_split_performance = model_evaluation(X_train, y_train, X_test, y_test)\n",
    "print(\"Single Split Peformance = {0:.4f}\".format(single_split_performance))"
   ]
  },
  {
   "cell_type": "markdown",
   "metadata": {},
   "source": [
    "# Conclusion \n",
    "\n",
    "Plot everything together: the performance of the different splits, the max and min performance achieved (in red color), and the performance of a single split (blue color)."
   ]
  },
  {
   "cell_type": "code",
   "execution_count": 7,
   "metadata": {},
   "outputs": [
    {
     "data": {
      "image/png": "[encoded data removed]",
      "text/plain": [
       "<Figure size 720x720 with 1 Axes>"
      ]
     },
     "metadata": {
      "needs_background": "light"
     },
     "output_type": "display_data"
    }
   ],
   "source": [
    "plt.figure(figsize=(10,10))\n",
    "plt.plot(perf, 'bo')\n",
    "plt.title(\"Performance Variation\", fontsize=20)\n",
    "plt.xlabel(\"Iterations\", fontsize=16)\n",
    "plt.ylabel(\"Performance\", fontsize=16)\n",
    "\n",
    "plt.axhline(y=max_perf, color='r', linestyle='--', linewidth = 5)\n",
    "plt.text(perf[index_of_max_performance], max_perf-0.005, \"{0:.2f}\".format(max_perf), fontsize=16, color='r')\n",
    "\n",
    "plt.axhline(y=min_perf, color='r', linestyle='--', linewidth = 5)\n",
    "plt.text(perf[index_of_min_performance], min_perf+0.005, \"{0:.2f}\".format(min_perf), fontsize=16, color='r')\n",
    "\n",
    "plt.axhline(y=single_split_performance, color='b', linestyle='--', linewidth = 5)\n",
    "plt.text(1, single_split_performance-0.005, \"{0:.2f}\".format(single_split_performance), fontsize=16, color='black', fontweight='bold');"
   ]
  },
  {
   "cell_type": "markdown",
   "metadata": {},
   "source": [
    "\n",
    "Obviously, by increasing the number of iterations, we also expose our model to more heterogeneous datasets, increasing the chance to find a dataset that produces the best possible result."
   ]
  },
  {
   "cell_type": "markdown",
   "metadata": {},
   "source": [
    "# Solution #2\n",
    "\n",
    "*Following with the approach of the previous step, let’s go one step further, and apply cross-validation. This is, train your model against 60% of the data. Use another 20% cross-validation set to select the best possible threshold, and finally, measure the performance of that threshold selection against the remaining 20% test set (yet unseen to the model)*.\n",
    "\n",
    "We can reuse most of the code that we've already used in the previous step. The only difference in the portion of the full dataset they represent (60% vs 80% for training, for example), and how do we obtain the final performance of the model."
   ]
  },
  {
   "cell_type": "markdown",
   "metadata": {},
   "source": [
    "## Changes to dataset split\n",
    "\n",
    "We must divide the 100% dataset into 60% and 40% to obtain the 60%-training dataset. We use the same function to split it again into validation and test set.\n"
   ]
  },
  {
   "cell_type": "markdown",
   "metadata": {},
   "source": [
    "## Changes to model evaluation\n",
    "\n",
    "For the model evaluation part, I decided to modify the previous `model_evaluation` function to receive as input the three datasets (training, validation and test). This new function is called `cv_model_evaluation`. The only difference is that I compute two different sets of predictions: one is `cv_predictions`, used to determine the optimal threshold, and the other is `test_predictions` used to compute the performance of the model against the test set, using the optimal threshold computed in the previous step."
   ]
  },
  {
   "cell_type": "code",
   "execution_count": 8,
   "metadata": {},
   "outputs": [],
   "source": [
    "def cv_model_evaluation(X_train, y_train, X_val, y_val, X_test, y_test):\n",
    "\n",
    "    model = linear_model.LogisticRegression(max_iter=100, solver='liblinear')\n",
    "    model.fit(X_train, y_train)\n",
    "\n",
    "    # The predicted probabilities given to each sample in the test set. `predict_proba` gives you the probabilities of both classes, we take the probs of class 1 for simplicity.\n",
    "    probs = model.predict_proba(X_val)[:,1]\n",
    "\n",
    "    # Predictions over the validations set to compute the optimal threshold\n",
    "    cv_predictions = pd.DataFrame({'survived':y_val, 'pred':probs})\n",
    "    fpr, tpr, thresholds = roc_curve(cv_predictions.survived, cv_predictions.pred)\n",
    "    \n",
    "    # Find the optimal threshold\n",
    "    optimal_idx = np.argmax(tpr - fpr)\n",
    "    optimal_threshold = thresholds[optimal_idx]\n",
    "    \n",
    "    # Accuracy Score computed over the test set\n",
    "    probs = model.predict_proba(X_test)[:,1]\n",
    "    test_predictions = pd.DataFrame({'survived':y_test, 'pred':probs})\n",
    "    \n",
    "    return accuracy_score(y_test, [pred>optimal_threshold for pred in test_predictions.pred])"
   ]
  },
  {
   "cell_type": "markdown",
   "metadata": {},
   "source": [
    "The iterative process all in one"
   ]
  },
  {
   "cell_type": "code",
   "execution_count": 9,
   "metadata": {},
   "outputs": [
    {
     "name": "stdout",
     "output_type": "stream",
     "text": [
      "Max perfomance = 0.8550\n"
     ]
    }
   ],
   "source": [
    "cv_perf = []\n",
    "num_iterations = 1000\n",
    "\n",
    "for i in range(1,num_iterations):\n",
    "    X_train, X_test, y_train, y_test = split_df(df, percentage=0.6)\n",
    "    X_val, X_test, y_val, y_test = split_df(pd.concat([X_test, y_test], axis=1), percentage=0.5)\n",
    "    cv_perf.append(cv_model_evaluation(X_train, y_train, X_val, y_val, X_test, y_test))\n",
    "    \n",
    "index_of_max_performance = np.argmax(cv_perf)\n",
    "max_perf = cv_perf[index_of_max_performance]\n",
    "\n",
    "index_of_min_performance = np.argmin(cv_perf)\n",
    "min_perf = cv_perf[index_of_min_performance]\n",
    "    \n",
    "print(\"Max perfomance = {0:.4f}\".format(max_perf))"
   ]
  },
  {
   "cell_type": "markdown",
   "metadata": {},
   "source": [
    "\n",
    "To compare the results obtained with two splits vs. the three splits approach, we can use a simple boxplot, for all the perfomance (accuracy) values obtained."
   ]
  },
  {
   "cell_type": "code",
   "execution_count": 10,
   "metadata": {},
   "outputs": [
    {
     "data": {
      "image/png": "[encoded data removed]",
      "text/plain": [
       "<Figure size 720x720 with 1 Axes>"
      ]
     },
     "metadata": {
      "needs_background": "light"
     },
     "output_type": "display_data"
    }
   ],
   "source": [
    "plt.figure(figsize=(10,10))\n",
    "plt.title(\"CV results\", fontsize=20)\n",
    "plt.boxplot(cv_perf);"
   ]
  },
  {
   "cell_type": "markdown",
   "metadata": {},
   "source": [
    "\n",
    "## K-fold Cross Validation\n",
    "\n",
    "The previous function applied single cross validation, let's modify the code to perform multifold CV."
   ]
  },
  {
   "cell_type": "code",
   "execution_count": 11,
   "metadata": {},
   "outputs": [
    {
     "name": "stdout",
     "output_type": "stream",
     "text": [
      "Max perfomance = 0.8370\n"
     ]
    }
   ],
   "source": [
    "from sklearn.model_selection import KFold\n",
    "\n",
    "kfold_cv_perf = []\n",
    "num_iterations = 1000\n",
    "\n",
    "for i in range(1,num_iterations):\n",
    "    X, X_test, y, y_test = split_df(df, percentage=0.8)\n",
    "\n",
    "    cv = KFold(n_splits=10, random_state=42, shuffle=True)\n",
    "    fold_perf = []\n",
    "    for train_index, val_index in cv.split(X):\n",
    "        X_train, X_val, y_train, y_val = X.iloc[train_index], X.iloc[val_index], y.iloc[train_index], y.iloc[val_index]\n",
    "        fold_perf.append(cv_model_evaluation(X_train, y_train, X_val, y_val, X_test, y_test))\n",
    "    kfold_cv_perf.append(np.mean(fold_perf))\n",
    "    \n",
    "index_of_max_performance = np.argmax(kfold_cv_perf)\n",
    "max_perf = kfold_cv_perf[index_of_max_performance]\n",
    "\n",
    "index_of_min_performance = np.argmin(kfold_cv_perf)\n",
    "min_perf = kfold_cv_perf[index_of_min_performance]\n",
    "    \n",
    "print(\"Max perfomance = {0:.4f}\".format(max_perf))"
   ]
  },
  {
   "cell_type": "code",
   "execution_count": 12,
   "metadata": {},
   "outputs": [
    {
     "data": {
      "image/png": "[encoded data removed]",
      "text/plain": [
       "<Figure size 720x720 with 1 Axes>"
      ]
     },
     "metadata": {
      "needs_background": "light"
     },
     "output_type": "display_data"
    }
   ],
   "source": [
    "plt.figure(figsize=(10,10))\n",
    "plt.title(\"Comparison CV vs K-Fold CV\", fontsize=20)\n",
    "plt.boxplot([cv_perf, kfold_cv_perf], positions=[1,2,])\n",
    "plt.xticks([1,2], [\"CV\", \"K-fold CV\"], fontsize=16);"
   ]
  },
  {
   "cell_type": "markdown",
   "metadata": {},
   "source": [
    "\n",
    "# Conclusion\n",
    "\n",
    "First and most important, cross validation helps to produce better models, less prone to overfitting.\n",
    "\n",
    "Secondly, CV reduces a bit the max performance if compared with the two splits approach. But the reason is easy to understand as you're forcing your model to be evaluated against completely new data and results are completely unexpected. However, these lower performance is more similar to the performance you might expect when you put you model into production."
   ]
  },
  {
   "cell_type": "markdown",
   "metadata": {},
   "source": [
    "## sklearn Practicals"
   ]
  },
  {
   "cell_type": "markdown",
   "metadata": {},
   "source": [
    "As we have seen in this practice, CV is the only way of making sense of the actual performance of the model. In this practice we have programmed the entire CV process.\n",
    "However, for real applications, sklearn provides a simple way to compute these CV scores."
   ]
  },
  {
   "cell_type": "markdown",
   "metadata": {},
   "source": [
    "By means of the `cross_val_score` (https://scikit-learn.org/stable/modules/generated/sklearn.model_selection.cross_val_score.html) we can train and compute the accuracy of our model via CV.\n",
    "We only need to defined the classifier we want (LogReg in our example), the features and target variable (`X` and `y`) and the number of folds (10 in our example)"
   ]
  },
  {
   "cell_type": "code",
   "execution_count": 13,
   "metadata": {},
   "outputs": [
    {
     "data": {
      "text/plain": [
       "array([0.82857143, 0.84761905, 0.78095238, 0.75238095, 0.81730769,\n",
       "       0.76923077, 0.75      , 0.77884615, 0.74038462, 0.76923077])"
      ]
     },
     "execution_count": 13,
     "metadata": {},
     "output_type": "execute_result"
    }
   ],
   "source": [
    "from sklearn.model_selection import cross_val_score\n",
    "cross_val_score(linear_model.LogisticRegression(max_iter=100, solver='liblinear'), X, y, cv=10)"
   ]
  },
  {
   "cell_type": "markdown",
   "metadata": {},
   "source": [
    "As you can see, you get as a result the accuracy of each one of the folds. If we take their avg we can know the performance of our model"
   ]
  },
  {
   "cell_type": "code",
   "execution_count": 14,
   "metadata": {},
   "outputs": [
    {
     "name": "stdout",
     "output_type": "stream",
     "text": [
      "AVG Accuracy of the 10 folds = 0.783452380952381\n"
     ]
    }
   ],
   "source": [
    "print(\"AVG Accuracy of the 10 folds = {}\".format(np.mean(cross_val_score(linear_model.LogisticRegression(max_iter=100, solver='liblinear'), X, y, cv=10))))"
   ]
  },
  {
   "cell_type": "markdown",
   "metadata": {},
   "source": [
    "We can compute several metrics (e.g., F1) by means of this function. The only thing I need is to define the metric I want to compute by means of the `scoring` parameter. (Check all the availabe metrics already implemented in sklearn in the following link: https://scikit-learn.org/stable/modules/model_evaluation.html#scoring-parameter). \n",
    "\n",
    "You can even implement your own metrics: https://scikit-learn.org/stable/modules/generated/sklearn.metrics.make_scorer.html#sklearn.metrics.make_scorer"
   ]
  },
  {
   "cell_type": "code",
   "execution_count": 15,
   "metadata": {},
   "outputs": [
    {
     "name": "stdout",
     "output_type": "stream",
     "text": [
      "AVG F1 of the 10 folds = 0.7611379993975318\n"
     ]
    }
   ],
   "source": [
    "print(\"AVG F1 of the 10 folds = {}\".format(np.mean(cross_val_score(linear_model.LogisticRegression(max_iter=100, solver='liblinear'), X, y, cv=10, scoring='f1_macro'))))"
   ]
  },
  {
   "cell_type": "markdown",
   "metadata": {},
   "source": [
    "Finally, take a look to the `cross_val_predict` function if you want to make predictions with the model trained via CV: https://scikit-learn.org/stable/modules/generated/sklearn.metrics.make_scorer.html#sklearn.metrics.make_scorer"
   ]
  },
  {
   "cell_type": "markdown",
   "metadata": {},
   "source": [
    "For more details, I recommend you to check the sklearn documentation:\n",
    "\n",
    "https://scikit-learn.org/stable/modules/cross_validation.html#cross-validation"
   ]
  }
 ],
 "metadata": {
  "kernelspec": {
   "display_name": "Python 3",
   "language": "python",
   "name": "python3"
  },
  "language_info": {
   "codemirror_mode": {
    "name": "ipython",
    "version": 3
   },
   "file_extension": ".py",
   "mimetype": "text/x-python",
   "name": "python",
   "nbconvert_exporter": "python",
   "pygments_lexer": "ipython3",
   "version": "3.8.5"
  }
 },
 "nbformat": 4,
 "nbformat_minor": 4
}
