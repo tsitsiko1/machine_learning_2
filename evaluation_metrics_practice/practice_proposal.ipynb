{
  "nbformat": 4,
  "nbformat_minor": 0,
  "metadata": {
    "kernelspec": {
      "display_name": "Python 3",
      "language": "python",
      "name": "python3"
    },
    "language_info": {
      "codemirror_mode": {
        "name": "ipython",
        "version": 3
      },
      "file_extension": ".py",
      "mimetype": "text/x-python",
      "name": "python",
      "nbconvert_exporter": "python",
      "pygments_lexer": "ipython3",
      "version": "3.8.5"
    },
    "colab": {
      "name": "practice_proposal.ipynb",
      "provenance": [],
      "include_colab_link": true
    }
  },
  "cells": [
    {
      "cell_type": "markdown",
      "metadata": {
        "id": "view-in-github",
        "colab_type": "text"
      },
      "source": [
        "<a href=\"https://colab.research.google.com/github/acastellanos-ie/machine_learning_2/blob/master/evaluation_metrics_practice/practice_proposal.ipynb\" target=\"_parent\"><img src=\"https://colab.research.google.com/assets/colab-badge.svg\" alt=\"Open In Colab\"/></a>"
      ]
    },
    {
      "cell_type": "markdown",
      "metadata": {
        "id": "coUhsrt20sOI"
      },
      "source": [
        "# Google Colab Configuration\n",
        "\n",
        "**Execute this steps to configure the Google Colab environment in order to execute this notebook. It is not required if you are executing it locally and you have properly configured your local environment according to what explained in the Github Repository.**\n",
        "\n",
        "The first step is to clone the repository to have access to all the data and files."
      ]
    },
    {
      "cell_type": "code",
      "metadata": {
        "id": "19ecQfLVZGvm"
      },
      "source": [
        "repository_url = 'https://github.com/acastellanos-ie/machine_learning_2'"
      ],
      "execution_count": null,
      "outputs": []
    },
    {
      "cell_type": "code",
      "metadata": {
        "id": "DMgL9W4-0wXE"
      },
      "source": [
        "! git clone $repository_url"
      ],
      "execution_count": null,
      "outputs": []
    },
    {
      "cell_type": "markdown",
      "metadata": {
        "id": "5gAhosq70ypp"
      },
      "source": [
        "Install the requirements"
      ]
    },
    {
      "cell_type": "code",
      "metadata": {
        "id": "Dy8O4JuL00hJ"
      },
      "source": [
        "! pip install -Uqqr machine_learning_2/requirements.txt"
      ],
      "execution_count": null,
      "outputs": []
    },
    {
      "cell_type": "markdown",
      "metadata": {
        "id": "T6rPx_b2c43D"
      },
      "source": [
        "Go to the practice directory\n",
        "\n"
      ]
    },
    {
      "cell_type": "code",
      "metadata": {
        "id": "IPNxL2Vsch3w"
      },
      "source": [
        "%cd machine_learning_2/evaluation_metrics_practice"
      ],
      "execution_count": null,
      "outputs": []
    },
    {
      "cell_type": "markdown",
      "metadata": {
        "id": "SKqBBIxf03lS"
      },
      "source": [
        "Ensure that you have the GPU runtime activated:\n",
        "\n",
        "![](https://miro.medium.com/max/3006/1*vOkqNhJNl1204kOhqq59zA.png)\n",
        "\n",
        "Now you have everything you need to execute the code in Colab"
      ]
    },
    {
      "cell_type": "markdown",
      "metadata": {
        "id": "l05n5DfhUPWk"
      },
      "source": [
        "The following code includes some imports and configuration steps for better visualization"
      ]
    },
    {
      "cell_type": "code",
      "metadata": {
        "id": "hj-rVLo9Te7t",
        "outputId": "d9801638-7b40-4bab-dfae-e605514ad620"
      },
      "source": [
        "from IPython.core.display import display, HTML\n",
        "\n",
        "display(HTML(\"<style>.container { width:100% !important; }</style>\")) # Increase cell width\n",
        "display(HTML(\"<style>.rendered_html { font-size: 16px; }</style>\")) # Increase font size\n",
        "\n",
        "# Larger figures\n",
        "\n",
        "import matplotlib\n",
        "import matplotlib.pyplot as plt\n",
        "%matplotlib inline  \n",
        "\n",
        "import pandas as pd\n",
        "import numpy as np\n",
        "\n",
        "import warnings\n",
        "warnings.filterwarnings('ignore') # Do not print warning messages"
      ],
      "execution_count": null,
      "outputs": [
        {
          "data": {
            "text/html": [
              "<style>.container { width:100% !important; }</style>"
            ],
            "text/plain": [
              "<IPython.core.display.HTML object>"
            ]
          },
          "metadata": {},
          "output_type": "display_data"
        },
        {
          "data": {
            "text/html": [
              "<style>.rendered_html { font-size: 16px; }</style>"
            ],
            "text/plain": [
              "<IPython.core.display.HTML object>"
            ]
          },
          "metadata": {},
          "output_type": "display_data"
        }
      ]
    },
    {
      "cell_type": "markdown",
      "metadata": {
        "id": "xOscuigXVMUo"
      },
      "source": [
        "# Introduction\n",
        "\n",
        "\n",
        "This document is the guideline to the PRACTICE #2. The goals of this practice are:\n",
        "\n",
        "  1. Test different evaluation methods over probabilistic and classification models.\n",
        "  2. Experiment with model selection, namely by applying cross-validation, as main technique.\n",
        "  \n",
        "We'll use the Titanic dataset, that has been polished and simplified for you. You can download the dataset from Kaggle: https://www.kaggle.com/c/titanic.\n",
        "\n",
        "This one has been widely used in many competitions, so it will easy to find solutions if you get stuck with it. Good luck!"
      ]
    },
    {
      "cell_type": "markdown",
      "metadata": {
        "id": "w3HKHS9hVMUq"
      },
      "source": [
        "# Data Loading and Preparing\n",
        "\n",
        "Our sample dataset: passengers of the RMS Titanic. We will use an open data set with data on the passengers aboard the infamous doomed sea voyage of 1912. We will experiment with logistic regression to predict whether a given passenger would have survived this disaster. The file containing the dataset is `titanic.csv` and should be read using the simple command: "
      ]
    },
    {
      "cell_type": "code",
      "metadata": {
        "id": "D31IMV4vVMUr",
        "outputId": "271d1059-539b-40cd-f6df-d4ded2391fce"
      },
      "source": [
        "# Note that you should modify the filepath according to where you have them\n",
        "\n",
        "df = pd.read_csv(\"data/titanic.csv\", sep=\";\")\n",
        "df.dtypes"
      ],
      "execution_count": null,
      "outputs": [
        {
          "data": {
            "text/plain": [
              "pclass      float64\n",
              "survived    float64\n",
              "sex          object\n",
              "age          object\n",
              "sibsp       float64\n",
              "parch       float64\n",
              "ticket       object\n",
              "fare         object\n",
              "cabin        object\n",
              "embarked     object\n",
              "dtype: object"
            ]
          },
          "execution_count": 3,
          "metadata": {},
          "output_type": "execute_result"
        }
      ]
    },
    {
      "cell_type": "markdown",
      "metadata": {
        "id": "NssmMrnFVMUt"
      },
      "source": [
        "Some formats are not correct, let's fix that"
      ]
    },
    {
      "cell_type": "code",
      "metadata": {
        "id": "v45hB4V5VMUt",
        "outputId": "73a47818-0ee1-48dc-e0b4-29cd0a8b1746"
      },
      "source": [
        "df['sex'].replace(['female','male'],[0,1],inplace=True)\n",
        "df['embarked'].replace(['Q','S', 'C'],[0,1,2],inplace=True)\n",
        "df['age'] = df.age.apply(lambda x: str(x).replace(',','.')).astype('float64') # The numbers include commas instead of dots (26,4 instead of 26.4). We have to change it to allow its conversion to float\n",
        "df['fare'] = df.fare.apply(lambda x: str(x).replace(',','.')).astype('float64') # The nummbers include commas instead of dots (26,4 instead of 26.4). We have to change it to allow its conversion to float\n",
        "\n",
        "df.dtypes"
      ],
      "execution_count": null,
      "outputs": [
        {
          "data": {
            "text/plain": [
              "pclass      float64\n",
              "survived    float64\n",
              "sex         float64\n",
              "age         float64\n",
              "sibsp       float64\n",
              "parch       float64\n",
              "ticket       object\n",
              "fare        float64\n",
              "cabin        object\n",
              "embarked    float64\n",
              "dtype: object"
            ]
          },
          "execution_count": 4,
          "metadata": {},
          "output_type": "execute_result"
        }
      ]
    },
    {
      "cell_type": "markdown",
      "metadata": {
        "id": "ZMZ2VeM0VMUu"
      },
      "source": [
        "The column heading variables have the following meanings:\n",
        "\n",
        "  * survival: Survival (0 = no; 1 = yes)\n",
        "  * pclass: Passenger class (1 = first; 2 = second; 3 = third)\n",
        "  * name: Name\n",
        "  * sex: Sex\n",
        "  * age: Age\n",
        "  * sibsp: Number of siblings/spouses aboard\n",
        "  * parch: Number of parents/children aboard\n",
        "  * ticket: Ticket number\n",
        "  * fare: Passenger fare\n",
        "  * cabin: Cabin\n",
        "  * embarked: Port of embarkation (C = Cherbourg; Q = Queenstown; S = Southampton)\n",
        "  \n",
        "Your first decision will be whether data needs to standardized or not, and what are the relevant features for this model. My only advice is not to use `cabin` nor `ticket`."
      ]
    },
    {
      "cell_type": "code",
      "metadata": {
        "id": "AyiaFOInVMUv"
      },
      "source": [
        "del df['cabin']\n",
        "del df['ticket']"
      ],
      "execution_count": null,
      "outputs": []
    },
    {
      "cell_type": "markdown",
      "metadata": {
        "id": "FQEsBlpBVMUv"
      },
      "source": [
        "If we take a look at the dataset, we will see that we have some null values that we have to take care of"
      ]
    },
    {
      "cell_type": "code",
      "metadata": {
        "id": "in6MhsaAVMUw",
        "outputId": "3c1149f8-9ac9-4c8b-f964-2fabe2de9573"
      },
      "source": [
        "df.isnull().sum()"
      ],
      "execution_count": null,
      "outputs": [
        {
          "data": {
            "text/plain": [
              "pclass        1\n",
              "survived      1\n",
              "sex           1\n",
              "age         264\n",
              "sibsp         1\n",
              "parch         1\n",
              "fare          2\n",
              "embarked      3\n",
              "dtype: int64"
            ]
          },
          "execution_count": 6,
          "metadata": {},
          "output_type": "execute_result"
        }
      ]
    },
    {
      "cell_type": "markdown",
      "metadata": {
        "id": "-AP9Y-AuVMUw"
      },
      "source": [
        "We will impute the missing age values by using the mean of the column"
      ]
    },
    {
      "cell_type": "code",
      "metadata": {
        "id": "JVHhf_c_VMUx",
        "outputId": "8cf151de-b8d9-4035-e083-be8d749e10c5"
      },
      "source": [
        "print(df[\"age\"].mean())\n",
        "df['age'] = df['age'].replace(np.nan, df[\"age\"].mean())\n",
        "df.isnull().sum()"
      ],
      "execution_count": null,
      "outputs": [
        {
          "name": "stdout",
          "output_type": "stream",
          "text": [
            "29.8811345124283\n"
          ]
        },
        {
          "data": {
            "text/plain": [
              "pclass      1\n",
              "survived    1\n",
              "sex         1\n",
              "age         0\n",
              "sibsp       1\n",
              "parch       1\n",
              "fare        2\n",
              "embarked    3\n",
              "dtype: int64"
            ]
          },
          "execution_count": 7,
          "metadata": {},
          "output_type": "execute_result"
        }
      ]
    },
    {
      "cell_type": "markdown",
      "metadata": {
        "id": "w85jCBmWVMUx"
      },
      "source": [
        "We will just remove the rest of them for the sake of simplicity"
      ]
    },
    {
      "cell_type": "code",
      "metadata": {
        "id": "qJV2uFpjVMUy",
        "outputId": "89faff4c-1d0e-43e2-d24e-25d886e1a4d0"
      },
      "source": [
        "df.dropna(inplace=True)\n",
        "df.isnull().sum()"
      ],
      "execution_count": null,
      "outputs": [
        {
          "data": {
            "text/plain": [
              "pclass      0\n",
              "survived    0\n",
              "sex         0\n",
              "age         0\n",
              "sibsp       0\n",
              "parch       0\n",
              "fare        0\n",
              "embarked    0\n",
              "dtype: int64"
            ]
          },
          "execution_count": 8,
          "metadata": {},
          "output_type": "execute_result"
        }
      ]
    },
    {
      "cell_type": "markdown",
      "metadata": {
        "id": "JBnGAypPVMUy"
      },
      "source": [
        "We will now split the dataset in train and test"
      ]
    },
    {
      "cell_type": "markdown",
      "metadata": {
        "id": "y3dwJrxTVMUy"
      },
      "source": [
        "As we are going to split the dataset several times in this practice, I have created the following function to take care of it.\n",
        "\n",
        "This function takes the original dataset, prepare the dataset and split it into train and test by using the [`train_test_split`](https://scikit-learn.org/stable/modules/generated/sklearn.model_selection.train_test_split.html) in sklearn. As you can read in the documentation of this function, the splitting is done randomly unless you set a seed (via the `random_state` parameter). This is something to be considered in your experimentation. If you care for reproducibility, you have to set this random_state, otherwise you will get a different splitting every time."
      ]
    },
    {
      "cell_type": "code",
      "metadata": {
        "id": "Dp_b73ueVMUz"
      },
      "source": [
        "from sklearn.model_selection import train_test_split\n",
        "\n",
        "def split_df(dataframe, seed=None, percentage=0.8):\n",
        "    \n",
        "    X = dataframe.loc[:, dataframe.columns != 'survived']\n",
        "    y = dataframe['survived']\n",
        "\n",
        "    return train_test_split(X, y, test_size=1-percentage, random_state=seed)"
      ],
      "execution_count": null,
      "outputs": []
    },
    {
      "cell_type": "markdown",
      "metadata": {
        "id": "G2i-a28mVMUz"
      },
      "source": [
        "Check how by setting the random seed to a constant, we always get the same splitting"
      ]
    },
    {
      "cell_type": "code",
      "metadata": {
        "id": "k4s9OWtCVMUz"
      },
      "source": [
        "X_train, X_test, y_train, y_test = split_df(df, seed=100)"
      ],
      "execution_count": null,
      "outputs": []
    },
    {
      "cell_type": "markdown",
      "metadata": {
        "id": "55TfPEOfVMUz"
      },
      "source": [
        "# Modeling\n",
        "\n",
        "Our task is to predict if passenger survived or not. The simplest decision will be to use Logistic Regression. You must have already decided what are the relevant fields to use.\n",
        "\n",
        "The following code cells give you an idea on how to run the logistic regression, compute the true positive rate, false positive rate and a cost function associated with false positives and false negatives. "
      ]
    },
    {
      "cell_type": "code",
      "metadata": {
        "id": "WdtaHe_vVMU0",
        "outputId": "9866e206-1218-4cf0-a4b9-bf78e56409f7"
      },
      "source": [
        "from sklearn import linear_model\n",
        "\n",
        "model = linear_model.LogisticRegression(max_iter=100, solver='liblinear')\n",
        "model.fit(X_train, y_train)\n",
        "\n",
        "# The predicted probabilities given to each sample in the test set. `predict_proba` gives you the probabilities of both classes, we take the probs of class 1 for simplicity.\n",
        "probs = model.predict_proba(X_test)[:,1]\n",
        "\n",
        "# The predictions in the form of a dataset to make manipulation easier. We put together here the actual 'labels' and the predicted 'probabilities'.\n",
        "predictions = pd.DataFrame({'survived':y_test, 'pred':probs})\n",
        "predictions.head()"
      ],
      "execution_count": null,
      "outputs": [
        {
          "data": {
            "text/html": [
              "<div>\n",
              "<style scoped>\n",
              "    .dataframe tbody tr th:only-of-type {\n",
              "        vertical-align: middle;\n",
              "    }\n",
              "\n",
              "    .dataframe tbody tr th {\n",
              "        vertical-align: top;\n",
              "    }\n",
              "\n",
              "    .dataframe thead th {\n",
              "        text-align: right;\n",
              "    }\n",
              "</style>\n",
              "<table border=\"1\" class=\"dataframe\">\n",
              "  <thead>\n",
              "    <tr style=\"text-align: right;\">\n",
              "      <th></th>\n",
              "      <th>survived</th>\n",
              "      <th>pred</th>\n",
              "    </tr>\n",
              "  </thead>\n",
              "  <tbody>\n",
              "    <tr>\n",
              "      <th>979</th>\n",
              "      <td>0.0</td>\n",
              "      <td>0.077017</td>\n",
              "    </tr>\n",
              "    <tr>\n",
              "      <th>401</th>\n",
              "      <td>1.0</td>\n",
              "      <td>0.794626</td>\n",
              "    </tr>\n",
              "    <tr>\n",
              "      <th>741</th>\n",
              "      <td>0.0</td>\n",
              "      <td>0.208330</td>\n",
              "    </tr>\n",
              "    <tr>\n",
              "      <th>1144</th>\n",
              "      <td>0.0</td>\n",
              "      <td>0.059702</td>\n",
              "    </tr>\n",
              "    <tr>\n",
              "      <th>866</th>\n",
              "      <td>1.0</td>\n",
              "      <td>0.756119</td>\n",
              "    </tr>\n",
              "  </tbody>\n",
              "</table>\n",
              "</div>"
            ],
            "text/plain": [
              "      survived      pred\n",
              "979        0.0  0.077017\n",
              "401        1.0  0.794626\n",
              "741        0.0  0.208330\n",
              "1144       0.0  0.059702\n",
              "866        1.0  0.756119"
            ]
          },
          "execution_count": 11,
          "metadata": {},
          "output_type": "execute_result"
        }
      ]
    },
    {
      "cell_type": "markdown",
      "metadata": {
        "id": "7q358GUWVMU0"
      },
      "source": [
        "Our model gave us the probability of survival. However, our task was to predict the binary value survived or not. Therefore, we have to decide which threshold we use, such as if the probability of survival is larger than the threshold, we will predict that the passenger survived.\n",
        "\n",
        "Let's experiment with this threshold and check how it affects the model performance"
      ]
    },
    {
      "cell_type": "markdown",
      "metadata": {
        "id": "PAeyYOHzVMU0"
      },
      "source": [
        "## The ROC Curve\n",
        "\n",
        "As explained in class, the ROC Curve is a great tool to inspect the overall model performance according to different threshold values. To better understand how it works, let's compute how model performs for a specific threshold to then extend the analysis to different thresholds.\n",
        "\n",
        "A first sensible value to try is 0.5. If the probability of survival, as predicted by our model, is larger than 50%, we will assume that the passenger survived. The following figure shows the resulting confusion matrix for this threshold"
      ]
    },
    {
      "cell_type": "code",
      "metadata": {
        "id": "RMpAz2BJVMU1",
        "outputId": "3bf274be-e2e4-42f5-cd26-abbeb41e3bae"
      },
      "source": [
        "from sklearn.metrics import confusion_matrix\n",
        "import seaborn as sn\n",
        "\n",
        "threshold = 0.5\n",
        "\n",
        "cm = confusion_matrix(predictions.survived, [pred>threshold for pred in predictions.pred])\n",
        "sn.heatmap(cm, annot=True, cmap=plt.cm.Blues);\n"
      ],
      "execution_count": null,
      "outputs": [
        {
          "data": {
            "image/png": "[encoded data removed]",
            "text/plain": [
              "<Figure size 432x288 with 2 Axes>"
            ]
          },
          "metadata": {
            "needs_background": "light"
          },
          "output_type": "display_data"
        }
      ]
    },
    {
      "cell_type": "markdown",
      "metadata": {
        "id": "ivp_RTx2VMU1"
      },
      "source": [
        "Not bad.\n",
        "\n",
        "The ROC is based on two metrics that we can extract from the Confusion Matrix: True Positive Rate and False Positive Rate"
      ]
    },
    {
      "cell_type": "markdown",
      "metadata": {
        "id": "ka05YP1sVMU1"
      },
      "source": [
        "Function to calculate the True positive rate."
      ]
    },
    {
      "cell_type": "code",
      "metadata": {
        "id": "wKDY2IpzVMU1"
      },
      "source": [
        "def tpr(predictions, threshold):\n",
        "    cm = confusion_matrix(predictions.survived, [pred>threshold for pred in predictions.pred])\n",
        "    return cm[1,1]/sum(cm[1,:])"
      ],
      "execution_count": null,
      "outputs": []
    },
    {
      "cell_type": "code",
      "metadata": {
        "id": "HJVDgm97VMU2",
        "outputId": "9af9742b-ef81-45e9-ff2e-9c8f49108f96"
      },
      "source": [
        "print(\"TPR = {}\".format(tpr(predictions, threshold)))"
      ],
      "execution_count": null,
      "outputs": [
        {
          "name": "stdout",
          "output_type": "stream",
          "text": [
            "TPR = 0.6565656565656566\n"
          ]
        }
      ]
    },
    {
      "cell_type": "markdown",
      "metadata": {
        "id": "cPI1emOyVMU2"
      },
      "source": [
        "Function to calculate the False positive rate."
      ]
    },
    {
      "cell_type": "code",
      "metadata": {
        "id": "zjHn0TsDVMU2"
      },
      "source": [
        "def fpr(predictions, threshold):\n",
        "    cm = confusion_matrix(predictions.survived, [pred>threshold for pred in predictions.pred])\n",
        "    return cm[0,1]/sum(cm[0,:])"
      ],
      "execution_count": null,
      "outputs": []
    },
    {
      "cell_type": "code",
      "metadata": {
        "id": "mHAKx5w_VMU3",
        "outputId": "1288e682-91e5-454a-bf5e-cbc593bc591d"
      },
      "source": [
        "print(\"FPR = {}\".format(fpr(predictions, threshold)))"
      ],
      "execution_count": null,
      "outputs": [
        {
          "name": "stdout",
          "output_type": "stream",
          "text": [
            "FPR = 0.10429447852760736\n"
          ]
        }
      ]
    },
    {
      "cell_type": "markdown",
      "metadata": {
        "id": "fNrzQSR7VMU3"
      },
      "source": [
        "Function to calculate the Cost for false positives and false negatives. You can play with the cost function to penalize whatever is more important in your business case."
      ]
    },
    {
      "cell_type": "code",
      "metadata": {
        "id": "IvVoyrSjVMU3"
      },
      "source": [
        "def cost(predictions, threshold, fp_cost = 1, fn_cost=2):\n",
        "    cm = confusion_matrix(predictions.survived, [pred>threshold for pred in predictions.pred])\n",
        "    return cm[0,1] * fp_cost + cm[1,0] * fn_cost"
      ],
      "execution_count": null,
      "outputs": []
    },
    {
      "cell_type": "code",
      "metadata": {
        "id": "KcMFvn3uVMU3",
        "outputId": "27f645ed-cc8c-4fea-81d8-6e0652c92db4"
      },
      "source": [
        "print(\"Cost = {}\".format(cost(predictions, threshold)))"
      ],
      "execution_count": null,
      "outputs": [
        {
          "name": "stdout",
          "output_type": "stream",
          "text": [
            "Cost = 85\n"
          ]
        }
      ]
    },
    {
      "cell_type": "markdown",
      "metadata": {
        "id": "Ax2IKTcEVMU4"
      },
      "source": [
        "What we see as a result is the first raw conclusion without knowing if 0.5 is a good threshold. You can try different threshold values by changing the `threshold` value."
      ]
    },
    {
      "cell_type": "markdown",
      "metadata": {
        "id": "FozNqWPXVMU4"
      },
      "source": [
        "### Build the ROC\n",
        "\n",
        "A better way to understand the model performance for each threshold value as well as to understand the overall performance of the model is to create the ROC. sklearn provides a handy way of computing the TPR, FPR as well as of creating the ROC and computing the Area Under the Curve."
      ]
    },
    {
      "cell_type": "code",
      "metadata": {
        "id": "k3Y8SNi2VMU4"
      },
      "source": [
        "from sklearn.metrics import roc_curve, roc_auc_score\n",
        "\n",
        "fpr, tpr, thresholds = roc_curve(predictions.survived, predictions.pred)"
      ],
      "execution_count": null,
      "outputs": []
    },
    {
      "cell_type": "code",
      "metadata": {
        "id": "sF0387NbVMU4",
        "outputId": "3575869b-44d4-48d0-fab7-5950cf2ecb4b"
      },
      "source": [
        "plt.figure(figsize=(10,10))\n",
        "plt.plot(fpr, tpr, marker='.')\n",
        "for x, y, txt in zip(fpr[::4], tpr[::4], thresholds[::4]):\n",
        "    plt.annotate(np.round(txt,2), (x, y-0.04))\n",
        "plt.plot(np.linspace(0,1,10), np.linspace(0,1,10), label=\"diagonal\")\n",
        "# axis labels\n",
        "plt.title('Logistic Regresion with AUC = {0:.4f}'.format(roc_auc_score(predictions.survived, predictions.pred)), fontsize = 20)\n",
        "plt.xlabel('False Positive Rate', fontsize=15)\n",
        "plt.ylabel('True Positive Rate', fontsize=15)\n",
        "# show the plot\n",
        "plt.show()\n",
        "\n"
      ],
      "execution_count": null,
      "outputs": [
        {
          "data": {
            "image/png": "[encoded data removed]",
            "text/plain": [
              "<Figure size 720x720 with 1 Axes>"
            ]
          },
          "metadata": {
            "needs_background": "light"
          },
          "output_type": "display_data"
        }
      ]
    },
    {
      "cell_type": "markdown",
      "metadata": {
        "id": "CpyCgg-WVMU5"
      },
      "source": [
        "## Double Density Plot\n",
        "\n",
        "In class I mentioned the Double Density Plot, an alternative to the ROC. There is no function to print this plot in sklearn, but you can easily do it with some Python coding"
      ]
    },
    {
      "cell_type": "code",
      "metadata": {
        "id": "B8l6vO9lVMU5"
      },
      "source": [
        "from importlib import reload \n",
        "reload(plt);"
      ],
      "execution_count": null,
      "outputs": []
    },
    {
      "cell_type": "code",
      "metadata": {
        "id": "hstW8mUJVMU5",
        "outputId": "322eb232-7052-46f4-effd-4583ca5d52d1"
      },
      "source": [
        "import seaborn as sns\n",
        "plt.figure(figsize=(10,10))\n",
        "plt.yticks([])\n",
        "plt.xlim((0, 1)) \n",
        "plt.xlabel(\"Survival Probability\", fontsize=16)\n",
        "plt.title(\"Double Density Plot\", fontsize=20)\n",
        "sns.distplot([p for label, p in predictions.values if label == 1.0], hist = False, kde = True, kde_kws = {'shade': True, 'linewidth': 3, 'kernel': 'gau'}, label = \"Survived\", color='Green')\n",
        "sns.distplot([p for label, p in predictions.values if label == 0.0], hist = False, kde = True, kde_kws = {'shade': True, 'linewidth': 3, 'kernel': 'gau'}, label = \"Not Survived\", color='Red');"
      ],
      "execution_count": null,
      "outputs": [
        {
          "name": "stderr",
          "output_type": "stream",
          "text": [
            "/home/acastellanos/anaconda3/envs/ml2/lib/python3.8/site-packages/seaborn/distributions.py:2551: FutureWarning: `distplot` is a deprecated function and will be removed in a future version. Please adapt your code to use either `displot` (a figure-level function with similar flexibility) or `kdeplot` (an axes-level function for kernel density plots).\n",
            "  warnings.warn(msg, FutureWarning)\n",
            "/home/acastellanos/anaconda3/envs/ml2/lib/python3.8/site-packages/seaborn/distributions.py:1668: UserWarning: Support for alternate kernels has been removed. Using Gaussian kernel.\n",
            "  warnings.warn(msg, UserWarning)\n",
            "/home/acastellanos/anaconda3/envs/ml2/lib/python3.8/site-packages/seaborn/distributions.py:2551: FutureWarning: `distplot` is a deprecated function and will be removed in a future version. Please adapt your code to use either `displot` (a figure-level function with similar flexibility) or `kdeplot` (an axes-level function for kernel density plots).\n",
            "  warnings.warn(msg, FutureWarning)\n",
            "/home/acastellanos/anaconda3/envs/ml2/lib/python3.8/site-packages/seaborn/distributions.py:1668: UserWarning: Support for alternate kernels has been removed. Using Gaussian kernel.\n",
            "  warnings.warn(msg, UserWarning)\n"
          ]
        },
        {
          "data": {
            "image/png": "[encoded data removed]",
            "text/plain": [
              "<Figure size 720x720 with 1 Axes>"
            ]
          },
          "metadata": {
            "needs_background": "light"
          },
          "output_type": "display_data"
        }
      ]
    },
    {
      "cell_type": "markdown",
      "metadata": {
        "id": "XKhDCoRCVMU6"
      },
      "source": [
        "# Practice Goals\n",
        "\n",
        "Now you know how what features are relevant to your model, and how to measure your model's performance. But we can improve this a bit. Go through the steps below:\n",
        "\n",
        "  1. We have measured our model's performance against a single test-set. We're sure our model is the best possible model against that test-set, but we want to be sure, that is the best against any possible test set. To do that, please, measure how your model results change when using different test sets. To do that, simply start over the process at least 10 times with different splits of the full dataset into training and test. Result might differ, so illustrate that difference in performance. **(FUNDAMENTAL)**\n",
        "  2. Following with the approach of the previous step, let's go one step further, and apply cross-validation. This is, train your model against 60% of the data. Use another 20% cross-validation set to select the best possible threshold, and finally, measure the performance of that threshold selection against the remaining 20% test set (yet unseen to the model). **(FUNDAMENTAL)**\n",
        "  \n",
        "Good luck!"
      ]
    }
  ]
}