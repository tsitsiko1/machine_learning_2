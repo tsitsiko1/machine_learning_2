{
  "nbformat": 4,
  "nbformat_minor": 0,
  "metadata": {
    "kernelspec": {
      "display_name": "Python 3",
      "language": "python",
      "name": "python3"
    },
    "language_info": {
      "codemirror_mode": {
        "name": "ipython",
        "version": 3
      },
      "file_extension": ".py",
      "mimetype": "text/x-python",
      "name": "python",
      "nbconvert_exporter": "python",
      "pygments_lexer": "ipython3",
      "version": "3.8.5"
    },
    "colab": {
      "name": "practice_solution.ipynb",
      "provenance": [],
      "toc_visible": true,
      "include_colab_link": true
    }
  },
  "cells": [
    {
      "cell_type": "markdown",
      "metadata": {
        "id": "view-in-github",
        "colab_type": "text"
      },
      "source": [
        "<a href=\"https://colab.research.google.com/github/acastellanos-ie/machine_learning_2/blob/master/data_cleaning_practice/practice_solution.ipynb\" target=\"_parent\"><img src=\"https://colab.research.google.com/assets/colab-badge.svg\" alt=\"Open In Colab\"/></a>"
      ]
    },
    {
      "cell_type": "markdown",
      "metadata": {
        "id": "coUhsrt20sOI"
      },
      "source": [
        "# Google Colab Configuration\n",
        "\n",
        "**Execute this steps to configure the Google Colab environment in order to execute this notebook. It is not required if you are executing it locally and you have properly configured your local environment according to what explained in the Github Repository.**\n",
        "\n",
        "The first step is to clone the repository to have access to all the data and files."
      ]
    },
    {
      "cell_type": "code",
      "metadata": {
        "id": "19ecQfLVZGvm"
      },
      "source": [
        "repository_url = 'https://github.com/acastellanos-ie/machine_learning_2'"
      ],
      "execution_count": null,
      "outputs": []
    },
    {
      "cell_type": "code",
      "metadata": {
        "id": "DMgL9W4-0wXE",
        "colab": {
          "base_uri": "https://localhost:8080/"
        },
        "outputId": "0bce4768-c133-425f-9007-514b8f187b8f"
      },
      "source": [
        "! git clone $repository_url"
      ],
      "execution_count": null,
      "outputs": [
        {
          "output_type": "stream",
          "name": "stdout",
          "text": [
            "Cloning into 'machine_learning_2'...\n",
            "fatal: could not read Username for 'https://github.com': No such device or address\n"
          ]
        }
      ]
    },
    {
      "cell_type": "markdown",
      "metadata": {
        "id": "5gAhosq70ypp"
      },
      "source": [
        "Install the requirements"
      ]
    },
    {
      "cell_type": "code",
      "metadata": {
        "id": "Dy8O4JuL00hJ"
      },
      "source": [
        "! pip install -Uqqr machine_learning_2/requirements.txt"
      ],
      "execution_count": null,
      "outputs": []
    },
    {
      "cell_type": "markdown",
      "metadata": {
        "id": "T6rPx_b2c43D"
      },
      "source": [
        "Go to the practice directory\n",
        "\n"
      ]
    },
    {
      "cell_type": "code",
      "metadata": {
        "id": "IPNxL2Vsch3w"
      },
      "source": [
        "%cd machine_learning_2/data_cleaning_practice"
      ],
      "execution_count": null,
      "outputs": []
    },
    {
      "cell_type": "markdown",
      "metadata": {
        "id": "SKqBBIxf03lS"
      },
      "source": [
        "Ensure that you have the GPU runtime activated:\n",
        "\n",
        "![](https://miro.medium.com/max/3006/1*vOkqNhJNl1204kOhqq59zA.png)\n",
        "\n",
        "Now you have everything you need to execute the code in Colab"
      ]
    },
    {
      "cell_type": "markdown",
      "metadata": {
        "id": "iNK0jkzB65OE"
      },
      "source": [
        "The following cell includes some imports that we will need in the rest of the practice"
      ]
    },
    {
      "cell_type": "code",
      "metadata": {
        "id": "Qr6UPJp_VW8K"
      },
      "source": [
        "import matplotlib.pyplot as plt\n",
        "import numpy as np\n",
        "import pandas as pd\n",
        "\n",
        "from pandas import read_csv"
      ],
      "execution_count": null,
      "outputs": []
    },
    {
      "cell_type": "markdown",
      "metadata": {
        "id": "RbkBXRoB7C7M"
      },
      "source": [
        "In the following sections, we will cover some of the most important steps for Data Cleaning. We have covered them in class, but I want to show you how they work in practice and the impact that they can have on your Machine Learning solutions.\n",
        "\n",
        "This practice is not a guideline that you must follow step by step. I just wanted to compile them all in the same notebook to refer to it when you are implementing your own solutions. Even if you need to adapt them to your datasets and the particular scenario you are trying to solve, you will have the pointers to know where you can start.\n",
        "\n",
        "Please also consider that this is not an exhaustive list of solutions. Feel free to keep researching if you need more advanced methodologies. In any case, the solutions and examples included in this practice will help you solve most of the ML problems you will face in the future.\n",
        "\n",
        "**Disclaimer**: Most of this code comes from the two following resources:\n",
        "- Scikit-learn Documentation: I recommend you check out the Documentation for more details and examples (not only for this practice but also for the rest of the course).\n",
        "- Introduction to Machine Learning with Python (Book): The book focuses not only on Data Cleaning but also on the entire ML process. I do recommend you to check it out for more examples."
      ]
    },
    {
      "cell_type": "markdown",
      "metadata": {
        "id": "r2DnMPhOTPCB"
      },
      "source": [
        "# Scaling\n",
        "\n",
        "Let's start by talking about scaling. I hope that after the theoretical session, you are aware of the importance of scaling your data. In this practice, I will introduce you to the different scalers that sklearn provides and how to use them correctly in practice.\n",
        "\n",
        "For more details, please refer to: https://scikit-learn.org/stable/modules/preprocessing.html#standardization-or-mean-removal-and-variance-scaling"
      ]
    },
    {
      "cell_type": "markdown",
      "metadata": {
        "id": "bUWcu8DBAVdw"
      },
      "source": [
        "Do not be scared with the following piece of code. It only creates a dataset with 2 features that have different scales. Then, it applies 4 different scalers, and it plots the dataset transformed according to each of them. In particular, the following scalers are used:\n",
        "\n",
        "\n",
        "In any case, the code itself is not important. I want you to pay attention to the resultant datasets, focusing on the transformations generated by each Scaler. Bear that in mind when you need to apply them in the feature to apply the one that is more suited for your data.\n",
        "\n"
      ]
    },
    {
      "cell_type": "code",
      "metadata": {
        "colab": {
          "base_uri": "https://localhost:8080/",
          "height": 488
        },
        "id": "DKQKbgG2aOfZ",
        "outputId": "608320d7-e450-4c9f-dc88-3980b480782c"
      },
      "source": [
        "from sklearn.datasets import make_blobs\n",
        "from sklearn.preprocessing import StandardScaler, RobustScaler, MinMaxScaler, Normalizer\n",
        "\n",
        "X, y = make_blobs(n_samples=50, centers=2, random_state=4, cluster_std=1)\n",
        "X += 3 \n",
        "\n",
        "plt.figure(figsize=(15, 8))\n",
        "main_ax = plt.subplot2grid((2, 4), (0, 0), rowspan=2, colspan=2)\n",
        "\n",
        "main_ax.scatter(X[:, 0], X[:, 1], c=y, cmap=\"Accent\")\n",
        "maxx = np.abs(X[:, 0]).max()\n",
        "maxy = np.abs(X[:, 1]).max()\n",
        "\n",
        "main_ax.set_xlim(-maxx + 1, maxx + 1)\n",
        "main_ax.set_ylim(-maxy + 1, maxy + 1)\n",
        "main_ax.set_title(\"Original Data\")\n",
        "other_axes = [plt.subplot2grid((2, 4), (i, j))\n",
        "              for j in range(2, 4) for i in range(2)]\n",
        "\n",
        "for ax, scaler in zip(other_axes, [StandardScaler(), RobustScaler(), MinMaxScaler(), Normalizer(norm='l2')]):\n",
        "    X_ = scaler.fit_transform(X)\n",
        "    ax.scatter(X_[:, 0], X_[:, 1], c=y, cmap=\"Accent\")\n",
        "    ax.set_xlim(-2, 2)\n",
        "    ax.set_ylim(-2, 2)\n",
        "    ax.set_title(type(scaler).__name__)\n",
        "\n",
        "other_axes.append(main_ax)\n",
        "\n",
        "for ax in other_axes:\n",
        "    ax.spines['left'].set_position('center')\n",
        "    ax.spines['right'].set_color('none')\n",
        "    ax.spines['bottom'].set_position('center')\n",
        "    ax.spines['top'].set_color('none')\n",
        "    ax.xaxis.set_ticks_position('bottom')\n",
        "    ax.yaxis.set_ticks_position('left')"
      ],
      "execution_count": null,
      "outputs": [
        {
          "output_type": "display_data",
          "data": {
            "image/png": "[encoded data removed]",
            "text/plain": [
              "<Figure size 1080x576 with 5 Axes>"
            ]
          },
          "metadata": {
            "needs_background": "light"
          }
        }
      ]
    },
    {
      "cell_type": "code",
      "metadata": {
        "colab": {
          "base_uri": "https://localhost:8080/",
          "height": 265
        },
        "id": "ngwm67yzVG9O",
        "outputId": "a92cb6b6-a365-4556-853e-3f618b7f5ef1"
      },
      "source": [
        "# Generate the dataset\n",
        "X, y = make_blobs(n_samples=50, centers=5, random_state=4, cluster_std=2)\n",
        "\n",
        "# split it into training and test set\n",
        "X_train, X_test, y_train, y_test = train_test_split(X,y, random_state=5, test_size=.1)\n",
        "\n",
        "# plot the training and test set\n",
        "plt.scatter(X_train[:, 0], X_train[:, 1], c='b', label=\"training set\", s=60)\n",
        "plt.scatter(X_test[:, 0], X_test[:, 1], marker='^', c='r', label=\"test set\", s=60)\n",
        "plt.legend(loc='upper left');\n"
      ],
      "execution_count": null,
      "outputs": [
        {
          "output_type": "display_data",
          "data": {
            "image/png": "[encoded data removed]",
            "text/plain": [
              "<Figure size 432x288 with 1 Axes>"
            ]
          },
          "metadata": {
            "needs_background": "light"
          }
        }
      ]
    },
    {
      "cell_type": "code",
      "metadata": {
        "colab": {
          "base_uri": "https://localhost:8080/",
          "height": 265
        },
        "id": "_7Y2TlKheToZ",
        "outputId": "9d578b17-c930-47b9-ed4b-a554d5bd78b7"
      },
      "source": [
        "# scale the data using MinMaxScaler\n",
        "scaler = MinMaxScaler()\n",
        "scaler.fit(X_train)\n",
        "X_train_scaled = scaler.transform(X_train)\n",
        "X_test_scaled = scaler.transform(X_test)\n",
        "\n",
        "# visualize the properly scaled data\n",
        "plt.scatter(X_train_scaled[:, 0], X_train_scaled[:, 1], c='b', label=\"training set\", s=60)\n",
        "plt.scatter(X_test_scaled[:, 0], X_test_scaled[:, 1], marker='^', c='r', label=\"test set\", s=60);\n",
        "plt.legend(loc='upper left');"
      ],
      "execution_count": null,
      "outputs": [
        {
          "output_type": "display_data",
          "data": {
            "image/png": "[encoded data removed]",
            "text/plain": [
              "<Figure size 432x288 with 1 Axes>"
            ]
          },
          "metadata": {
            "needs_background": "light"
          }
        }
      ]
    },
    {
      "cell_type": "code",
      "metadata": {
        "colab": {
          "base_uri": "https://localhost:8080/",
          "height": 265
        },
        "id": "gEmpxMjSeo1z",
        "outputId": "cfad8966-63f5-409e-b19a-205c11feb54c"
      },
      "source": [
        "# rescale the test set separately, so that test set min is 0 and test set max is 1\n",
        "# DO NOT DO THIS! For illustration purposes only\n",
        "test_scaler = MinMaxScaler()\n",
        "test_scaler.fit(X_test)\n",
        "X_test_scaled_badly = test_scaler.transform(X_test)\n",
        "# visualize wrongly scaled data\n",
        "plt.scatter(X_train_scaled[:, 0], X_train_scaled[:, 1], c='b', label=\"training set\", s=60)\n",
        "plt.scatter(X_test_scaled_badly[:, 0], X_test_scaled_badly[:, 1], marker='^', c='r', label=\"test set\", s=60)\n",
        "plt.legend(loc='upper left');"
      ],
      "execution_count": null,
      "outputs": [
        {
          "output_type": "display_data",
          "data": {
            "image/png": "[encoded data removed]",
            "text/plain": [
              "<Figure size 432x288 with 1 Axes>"
            ]
          },
          "metadata": {
            "needs_background": "light"
          }
        }
      ]
    },
    {
      "cell_type": "code",
      "metadata": {
        "colab": {
          "base_uri": "https://localhost:8080/"
        },
        "id": "8OXRB3_YVPiC",
        "outputId": "ebd8907e-aa52-423b-8ff9-5f09cdc94cd9"
      },
      "source": [
        "pipe = make_pipeline(StandardScaler(), LogisticRegression())\n",
        "pipe.fit(X_train, y_train)  # apply scaling on training data\n",
        "pipe.score(X_test, y_test)  # apply scaling on testing data, without leaking training data."
      ],
      "execution_count": null,
      "outputs": [
        {
          "output_type": "execute_result",
          "data": {
            "text/plain": [
              "0.8"
            ]
          },
          "metadata": {},
          "execution_count": 37
        }
      ]
    },
    {
      "cell_type": "markdown",
      "metadata": {
        "id": "S5208AthEPMy"
      },
      "source": [
        "### Feature Distribution"
      ]
    },
    {
      "cell_type": "code",
      "metadata": {
        "colab": {
          "base_uri": "https://localhost:8080/"
        },
        "id": "mIvm5yTFFhgm",
        "outputId": "f836b77a-6dcb-4d32-f8c8-87466712b35b"
      },
      "source": [
        "from sklearn.datasets import fetch_openml\n",
        "\n",
        "data = fetch_openml(\"house_sales\", as_frame=True)\n",
        "target = data.frame.price\n",
        "df = data.frame.drop(['date', 'price', 'zipcode'], axis=1)\n",
        "\n",
        "X, y = df, target\n",
        "X_train, X_test, y_train, y_test = train_test_split(X, y, random_state=0)\n",
        "\n",
        "scaler = StandardScaler()\n",
        "scaler.fit(X_train)\n",
        "X_train_scaled = scaler.transform(X_train)\n",
        "X_test_scaled = scaler.transform(X_test)\n"
      ],
      "execution_count": null,
      "outputs": [
        {
          "output_type": "stream",
          "name": "stderr",
          "text": [
            "/usr/local/lib/python3.7/dist-packages/sklearn/datasets/_openml.py:372: UserWarning: Multiple active versions of the dataset matching the name house_sales exist. Versions may be fundamentally different, returning version 1.\n",
            "  \" {version}.\".format(name=name, version=res[0]['version']))\n"
          ]
        }
      ]
    },
    {
      "cell_type": "code",
      "metadata": {
        "colab": {
          "base_uri": "https://localhost:8080/",
          "height": 607
        },
        "id": "ARJQOp8aF9kj",
        "outputId": "58275c29-bcdb-4fde-fabe-8fcf35f00b9d"
      },
      "source": [
        "fig, axes = plt.subplots(3, 6, figsize=(20, 10))\n",
        "for i, ax in enumerate(axes.ravel()):\n",
        "    if i > 16:\n",
        "        ax.set_visible(False)\n",
        "        continue\n",
        "    ax.hist(X_train.iloc[:, i], bins=30)\n",
        "    ax.set_title(\"{}: {}\".format(i, X.columns[i]))"
      ],
      "execution_count": null,
      "outputs": [
        {
          "output_type": "display_data",
          "data": {
            "image/png": "[encoded data removed]",
            "text/plain": [
              "<Figure size 1440x720 with 18 Axes>"
            ]
          },
          "metadata": {
            "needs_background": "light"
          }
        }
      ]
    },
    {
      "cell_type": "code",
      "metadata": {
        "colab": {
          "base_uri": "https://localhost:8080/",
          "height": 607
        },
        "id": "fDUTyvnBGR-0",
        "outputId": "bc36f7ec-95f4-4bec-a7e8-d652daf1b739"
      },
      "source": [
        "\n",
        "from sklearn.preprocessing import PowerTransformer\n",
        "fig, axes = plt.subplots(3, 6, figsize=(20, 10))\n",
        "pt = PowerTransformer()\n",
        "X_bc = pt.fit_transform(X_train_scaled)\n",
        "\n",
        "for i, ax in enumerate(axes.ravel()):\n",
        "    if i > 16:\n",
        "        ax.set_visible(False)\n",
        "        continue\n",
        "    ax.hist(X_bc[:, i], bins=30)\n",
        "    ax.set_title(\"{}: {} {:.2f}\".format(i, X.columns[i], pt.lambdas_[i]))"
      ],
      "execution_count": null,
      "outputs": [
        {
          "output_type": "display_data",
          "data": {
            "image/png": "[encoded data removed]",
            "text/plain": [
              "<Figure size 1440x720 with 18 Axes>"
            ]
          },
          "metadata": {
            "needs_background": "light"
          }
        }
      ]
    },
    {
      "cell_type": "code",
      "metadata": {
        "colab": {
          "base_uri": "https://localhost:8080/"
        },
        "id": "g6nNjuybGv5m",
        "outputId": "816e18ec-ee51-47d4-b751-d8f7847baf12"
      },
      "source": [
        "from sklearn.linear_model import RidgeCV\n",
        "from sklearn.model_selection import cross_val_score\n",
        "\n",
        "scores = cross_val_score(RidgeCV(), X_train, y_train, cv=10)\n",
        "np.mean(scores), np.std(scores)"
      ],
      "execution_count": null,
      "outputs": [
        {
          "output_type": "execute_result",
          "data": {
            "text/plain": [
              "(0.6940091829802499, 0.02732963221745279)"
            ]
          },
          "metadata": {},
          "execution_count": 70
        }
      ]
    },
    {
      "cell_type": "code",
      "metadata": {
        "colab": {
          "base_uri": "https://localhost:8080/"
        },
        "id": "fK-re6AnGyFp",
        "outputId": "894bc8e5-d55a-403c-f79e-f0c89cfc9ad0"
      },
      "source": [
        "scores = cross_val_score(RidgeCV(), X_train_scaled, y_train, cv=10)\n",
        "print(np.mean(scores), np.std(scores))"
      ],
      "execution_count": null,
      "outputs": [
        {
          "output_type": "stream",
          "name": "stdout",
          "text": [
            "0.6939895312756573 0.027401937047029847\n"
          ]
        }
      ]
    },
    {
      "cell_type": "code",
      "metadata": {
        "colab": {
          "base_uri": "https://localhost:8080/"
        },
        "id": "wf5ia862G03U",
        "outputId": "d4cdae83-06b6-4fda-f913-85deaa0fcfa9"
      },
      "source": [
        "scores = cross_val_score(RidgeCV(), X_bc, y_train, cv=10)\n",
        "np.mean(scores), np.std(scores)"
      ],
      "execution_count": null,
      "outputs": [
        {
          "output_type": "execute_result",
          "data": {
            "text/plain": [
              "(0.6070304540760556, 0.02746838870410249)"
            ]
          },
          "metadata": {},
          "execution_count": 72
        }
      ]
    },
    {
      "cell_type": "markdown",
      "metadata": {
        "id": "Yz3x8DQdjGqz"
      },
      "source": [
        "# Categorical Columns"
      ]
    },
    {
      "cell_type": "code",
      "metadata": {
        "colab": {
          "base_uri": "https://localhost:8080/",
          "height": 235
        },
        "id": "kxhLXJnujGGz",
        "outputId": "6cc00374-c235-4f0b-ee06-e705b1888462"
      },
      "source": [
        "import pandas as pd\n",
        "df = pd.DataFrame({'boro': ['Manhattan', 'Queens', 'Manhattan', 'Brooklyn', 'Brooklyn', 'Bronx'],\n",
        "                   'salary': [103, 89, 142, 54, 63, 219],\n",
        "                   'vegan': ['No', 'No','No','Yes', 'Yes', 'No']})\n",
        "df"
      ],
      "execution_count": null,
      "outputs": [
        {
          "output_type": "execute_result",
          "data": {
            "text/html": [
              "<div>\n",
              "<style scoped>\n",
              "    .dataframe tbody tr th:only-of-type {\n",
              "        vertical-align: middle;\n",
              "    }\n",
              "\n",
              "    .dataframe tbody tr th {\n",
              "        vertical-align: top;\n",
              "    }\n",
              "\n",
              "    .dataframe thead th {\n",
              "        text-align: right;\n",
              "    }\n",
              "</style>\n",
              "<table border=\"1\" class=\"dataframe\">\n",
              "  <thead>\n",
              "    <tr style=\"text-align: right;\">\n",
              "      <th></th>\n",
              "      <th>boro</th>\n",
              "      <th>salary</th>\n",
              "      <th>vegan</th>\n",
              "    </tr>\n",
              "  </thead>\n",
              "  <tbody>\n",
              "    <tr>\n",
              "      <th>0</th>\n",
              "      <td>Manhattan</td>\n",
              "      <td>103</td>\n",
              "      <td>No</td>\n",
              "    </tr>\n",
              "    <tr>\n",
              "      <th>1</th>\n",
              "      <td>Queens</td>\n",
              "      <td>89</td>\n",
              "      <td>No</td>\n",
              "    </tr>\n",
              "    <tr>\n",
              "      <th>2</th>\n",
              "      <td>Manhattan</td>\n",
              "      <td>142</td>\n",
              "      <td>No</td>\n",
              "    </tr>\n",
              "    <tr>\n",
              "      <th>3</th>\n",
              "      <td>Brooklyn</td>\n",
              "      <td>54</td>\n",
              "      <td>Yes</td>\n",
              "    </tr>\n",
              "    <tr>\n",
              "      <th>4</th>\n",
              "      <td>Brooklyn</td>\n",
              "      <td>63</td>\n",
              "      <td>Yes</td>\n",
              "    </tr>\n",
              "    <tr>\n",
              "      <th>5</th>\n",
              "      <td>Bronx</td>\n",
              "      <td>219</td>\n",
              "      <td>No</td>\n",
              "    </tr>\n",
              "  </tbody>\n",
              "</table>\n",
              "</div>"
            ],
            "text/plain": [
              "        boro  salary vegan\n",
              "0  Manhattan     103    No\n",
              "1     Queens      89    No\n",
              "2  Manhattan     142    No\n",
              "3   Brooklyn      54   Yes\n",
              "4   Brooklyn      63   Yes\n",
              "5      Bronx     219    No"
            ]
          },
          "metadata": {},
          "execution_count": 2
        }
      ]
    },
    {
      "cell_type": "code",
      "metadata": {
        "colab": {
          "base_uri": "https://localhost:8080/",
          "height": 235
        },
        "id": "dw4RMDBnjV5B",
        "outputId": "a7c9e1ce-51a1-4332-8dbc-052ce6ed1229"
      },
      "source": [
        "df['boro_ordinal'] = df.boro.astype(\"category\").cat.codes\n",
        "# reorder columns so it looks nice\n",
        "df = df[['boro', 'boro_ordinal', 'vegan', 'salary']]\n",
        "df"
      ],
      "execution_count": null,
      "outputs": [
        {
          "output_type": "execute_result",
          "data": {
            "text/html": [
              "<div>\n",
              "<style scoped>\n",
              "    .dataframe tbody tr th:only-of-type {\n",
              "        vertical-align: middle;\n",
              "    }\n",
              "\n",
              "    .dataframe tbody tr th {\n",
              "        vertical-align: top;\n",
              "    }\n",
              "\n",
              "    .dataframe thead th {\n",
              "        text-align: right;\n",
              "    }\n",
              "</style>\n",
              "<table border=\"1\" class=\"dataframe\">\n",
              "  <thead>\n",
              "    <tr style=\"text-align: right;\">\n",
              "      <th></th>\n",
              "      <th>boro</th>\n",
              "      <th>boro_ordinal</th>\n",
              "      <th>vegan</th>\n",
              "      <th>salary</th>\n",
              "    </tr>\n",
              "  </thead>\n",
              "  <tbody>\n",
              "    <tr>\n",
              "      <th>0</th>\n",
              "      <td>Manhattan</td>\n",
              "      <td>2</td>\n",
              "      <td>No</td>\n",
              "      <td>103</td>\n",
              "    </tr>\n",
              "    <tr>\n",
              "      <th>1</th>\n",
              "      <td>Queens</td>\n",
              "      <td>3</td>\n",
              "      <td>No</td>\n",
              "      <td>89</td>\n",
              "    </tr>\n",
              "    <tr>\n",
              "      <th>2</th>\n",
              "      <td>Manhattan</td>\n",
              "      <td>2</td>\n",
              "      <td>No</td>\n",
              "      <td>142</td>\n",
              "    </tr>\n",
              "    <tr>\n",
              "      <th>3</th>\n",
              "      <td>Brooklyn</td>\n",
              "      <td>1</td>\n",
              "      <td>Yes</td>\n",
              "      <td>54</td>\n",
              "    </tr>\n",
              "    <tr>\n",
              "      <th>4</th>\n",
              "      <td>Brooklyn</td>\n",
              "      <td>1</td>\n",
              "      <td>Yes</td>\n",
              "      <td>63</td>\n",
              "    </tr>\n",
              "    <tr>\n",
              "      <th>5</th>\n",
              "      <td>Bronx</td>\n",
              "      <td>0</td>\n",
              "      <td>No</td>\n",
              "      <td>219</td>\n",
              "    </tr>\n",
              "  </tbody>\n",
              "</table>\n",
              "</div>"
            ],
            "text/plain": [
              "        boro  boro_ordinal vegan  salary\n",
              "0  Manhattan             2    No     103\n",
              "1     Queens             3    No      89\n",
              "2  Manhattan             2    No     142\n",
              "3   Brooklyn             1   Yes      54\n",
              "4   Brooklyn             1   Yes      63\n",
              "5      Bronx             0    No     219"
            ]
          },
          "metadata": {},
          "execution_count": 90
        }
      ]
    },
    {
      "cell_type": "code",
      "metadata": {
        "colab": {
          "base_uri": "https://localhost:8080/",
          "height": 235
        },
        "id": "Z7Evi10vj07R",
        "outputId": "6c1e7525-8c7d-4bd9-d030-1dba467944c8"
      },
      "source": [
        "pd.get_dummies(df)"
      ],
      "execution_count": null,
      "outputs": [
        {
          "output_type": "execute_result",
          "data": {
            "text/html": [
              "<div>\n",
              "<style scoped>\n",
              "    .dataframe tbody tr th:only-of-type {\n",
              "        vertical-align: middle;\n",
              "    }\n",
              "\n",
              "    .dataframe tbody tr th {\n",
              "        vertical-align: top;\n",
              "    }\n",
              "\n",
              "    .dataframe thead th {\n",
              "        text-align: right;\n",
              "    }\n",
              "</style>\n",
              "<table border=\"1\" class=\"dataframe\">\n",
              "  <thead>\n",
              "    <tr style=\"text-align: right;\">\n",
              "      <th></th>\n",
              "      <th>boro_ordinal</th>\n",
              "      <th>salary</th>\n",
              "      <th>boro_Bronx</th>\n",
              "      <th>boro_Brooklyn</th>\n",
              "      <th>boro_Manhattan</th>\n",
              "      <th>boro_Queens</th>\n",
              "      <th>vegan_No</th>\n",
              "      <th>vegan_Yes</th>\n",
              "    </tr>\n",
              "  </thead>\n",
              "  <tbody>\n",
              "    <tr>\n",
              "      <th>0</th>\n",
              "      <td>2</td>\n",
              "      <td>103</td>\n",
              "      <td>0</td>\n",
              "      <td>0</td>\n",
              "      <td>1</td>\n",
              "      <td>0</td>\n",
              "      <td>1</td>\n",
              "      <td>0</td>\n",
              "    </tr>\n",
              "    <tr>\n",
              "      <th>1</th>\n",
              "      <td>3</td>\n",
              "      <td>89</td>\n",
              "      <td>0</td>\n",
              "      <td>0</td>\n",
              "      <td>0</td>\n",
              "      <td>1</td>\n",
              "      <td>1</td>\n",
              "      <td>0</td>\n",
              "    </tr>\n",
              "    <tr>\n",
              "      <th>2</th>\n",
              "      <td>2</td>\n",
              "      <td>142</td>\n",
              "      <td>0</td>\n",
              "      <td>0</td>\n",
              "      <td>1</td>\n",
              "      <td>0</td>\n",
              "      <td>1</td>\n",
              "      <td>0</td>\n",
              "    </tr>\n",
              "    <tr>\n",
              "      <th>3</th>\n",
              "      <td>1</td>\n",
              "      <td>54</td>\n",
              "      <td>0</td>\n",
              "      <td>1</td>\n",
              "      <td>0</td>\n",
              "      <td>0</td>\n",
              "      <td>0</td>\n",
              "      <td>1</td>\n",
              "    </tr>\n",
              "    <tr>\n",
              "      <th>4</th>\n",
              "      <td>1</td>\n",
              "      <td>63</td>\n",
              "      <td>0</td>\n",
              "      <td>1</td>\n",
              "      <td>0</td>\n",
              "      <td>0</td>\n",
              "      <td>0</td>\n",
              "      <td>1</td>\n",
              "    </tr>\n",
              "    <tr>\n",
              "      <th>5</th>\n",
              "      <td>0</td>\n",
              "      <td>219</td>\n",
              "      <td>1</td>\n",
              "      <td>0</td>\n",
              "      <td>0</td>\n",
              "      <td>0</td>\n",
              "      <td>1</td>\n",
              "      <td>0</td>\n",
              "    </tr>\n",
              "  </tbody>\n",
              "</table>\n",
              "</div>"
            ],
            "text/plain": [
              "   boro_ordinal  salary  boro_Bronx  ...  boro_Queens  vegan_No  vegan_Yes\n",
              "0             2     103           0  ...            0         1          0\n",
              "1             3      89           0  ...            1         1          0\n",
              "2             2     142           0  ...            0         1          0\n",
              "3             1      54           0  ...            0         0          1\n",
              "4             1      63           0  ...            0         0          1\n",
              "5             0     219           1  ...            0         1          0\n",
              "\n",
              "[6 rows x 8 columns]"
            ]
          },
          "metadata": {},
          "execution_count": 93
        }
      ]
    },
    {
      "cell_type": "code",
      "metadata": {
        "colab": {
          "base_uri": "https://localhost:8080/"
        },
        "id": "v-uGr1lgkOFp",
        "outputId": "ba449dcc-6ce9-4eff-ec3b-6c2a44a065de"
      },
      "source": [
        "from sklearn.preprocessing import OneHotEncoder\n",
        "ce = OneHotEncoder().fit(df)\n",
        "ce.transform(df).toarray()"
      ],
      "execution_count": null,
      "outputs": [
        {
          "output_type": "execute_result",
          "data": {
            "text/plain": [
              "array([[0., 0., 1., 0., 0., 0., 1., 0., 1., 0., 0., 0., 0., 1., 0., 0.],\n",
              "       [0., 0., 0., 1., 0., 0., 0., 1., 1., 0., 0., 0., 1., 0., 0., 0.],\n",
              "       [0., 0., 1., 0., 0., 0., 1., 0., 1., 0., 0., 0., 0., 0., 1., 0.],\n",
              "       [0., 1., 0., 0., 0., 1., 0., 0., 0., 1., 1., 0., 0., 0., 0., 0.],\n",
              "       [0., 1., 0., 0., 0., 1., 0., 0., 0., 1., 0., 1., 0., 0., 0., 0.],\n",
              "       [1., 0., 0., 0., 1., 0., 0., 0., 1., 0., 0., 0., 0., 0., 0., 1.]])"
            ]
          },
          "metadata": {},
          "execution_count": 98
        }
      ]
    },
    {
      "cell_type": "code",
      "metadata": {
        "id": "kfk1Q0f5kfAA"
      },
      "source": [
        "from sklearn.compose import make_column_transformer\n",
        "from sklearn.linear_model import LogisticRegression\n",
        "# The Future!\n",
        "\n",
        "categorical = df.dtypes == object\n",
        "\n",
        "preprocess = make_column_transformer(\n",
        "    (StandardScaler(), ~categorical),\n",
        "    (OneHotEncoder(), categorical))\n",
        "\n",
        "model = make_pipeline(preprocess, LogisticRegression())"
      ],
      "execution_count": null,
      "outputs": []
    },
    {
      "cell_type": "code",
      "metadata": {
        "colab": {
          "base_uri": "https://localhost:8080/"
        },
        "id": "gIunDI1GmXwj",
        "outputId": "9834b11e-eee9-4e67-dbe3-2c9ec74c5b57"
      },
      "source": [
        "from sklearn.datasets import fetch_openml\n",
        "data = fetch_openml(\"house_sales\", as_frame=True)\n",
        "target = data.frame.price"
      ],
      "execution_count": null,
      "outputs": [
        {
          "output_type": "stream",
          "name": "stderr",
          "text": [
            "/usr/local/lib/python3.7/dist-packages/sklearn/datasets/_openml.py:372: UserWarning: Multiple active versions of the dataset matching the name house_sales exist. Versions may be fundamentally different, returning version 1.\n",
            "  \" {version}.\".format(name=name, version=res[0]['version']))\n"
          ]
        }
      ]
    },
    {
      "cell_type": "code",
      "metadata": {
        "id": "Tqwya5mxmlPp"
      },
      "source": [
        "X = data.frame.drop(['date', 'price'], axis=1)\n",
        "y = target"
      ],
      "execution_count": null,
      "outputs": []
    },
    {
      "cell_type": "code",
      "metadata": {
        "colab": {
          "base_uri": "https://localhost:8080/",
          "height": 376
        },
        "id": "KkiYv38gmx1H",
        "outputId": "65f028f4-c93d-4aa9-9d78-90f0052dc94c"
      },
      "source": [
        "import seaborn as sns\n",
        "plt.figure(figsize=(15, 5))\n",
        "ax = sns.boxplot(x=data.frame.zipcode, y=data.frame.price)\n",
        "ax.set_xticklabels(ax.get_xticklabels(), rotation=90);"
      ],
      "execution_count": null,
      "outputs": [
        {
          "output_type": "display_data",
          "data": {
            "image/png": "[encoded data removed]",
            "text/plain": [
              "<Figure size 1080x360 with 1 Axes>"
            ]
          },
          "metadata": {
            "needs_background": "light"
          }
        }
      ]
    },
    {
      "cell_type": "code",
      "metadata": {
        "colab": {
          "base_uri": "https://localhost:8080/"
        },
        "id": "BegmaIGinDY7",
        "outputId": "f6b0aa8a-0c31-4cad-84a3-5485ed04fe26"
      },
      "source": [
        "from sklearn.model_selection import cross_val_score\n",
        "from sklearn.linear_model import Ridge\n",
        "\n",
        "scores = cross_val_score(Ridge(), X, target)\n",
        "np.mean(scores)"
      ],
      "execution_count": null,
      "outputs": [
        {
          "output_type": "execute_result",
          "data": {
            "text/plain": [
              "0.6945962843967515"
            ]
          },
          "metadata": {},
          "execution_count": 112
        }
      ]
    },
    {
      "cell_type": "code",
      "metadata": {
        "colab": {
          "base_uri": "https://localhost:8080/"
        },
        "id": "1Zmp6BeyqVB9",
        "outputId": "5ec86256-880e-4c7d-ad94-0280f4946fac"
      },
      "source": [
        "X = data.frame.drop(['date', 'price'], axis=1)\n",
        "\n",
        "pipe_ohe = make_pipeline(make_column_transformer((OneHotEncoder(), ['zipcode']), remainder='passthrough'), Ridge())\n",
        "scores = cross_val_score(pipe_ohe, X, target)\n",
        "np.mean(scores)\n"
      ],
      "execution_count": null,
      "outputs": [
        {
          "output_type": "execute_result",
          "data": {
            "text/plain": [
              "0.5338344703914251"
            ]
          },
          "metadata": {},
          "execution_count": 122
        }
      ]
    },
    {
      "cell_type": "code",
      "metadata": {
        "colab": {
          "base_uri": "https://localhost:8080/"
        },
        "id": "iNfu-JyenuKv",
        "outputId": "e25a51e4-6c2e-4073-851f-7a1f7da418ad"
      },
      "source": [
        "! pip install -qq category_encoders\n",
        "from category_encoders import TargetEncoder\n",
        "\n",
        "pipe_target = make_pipeline(TargetEncoder(cols='zipcode'), Ridge())\n",
        "scores = cross_val_score(pipe_target, X, target)\n",
        "np.mean(scores)"
      ],
      "execution_count": null,
      "outputs": [
        {
          "output_type": "execute_result",
          "data": {
            "text/plain": [
              "0.7862175426353509"
            ]
          },
          "metadata": {},
          "execution_count": 119
        }
      ]
    },
    {
      "cell_type": "markdown",
      "metadata": {
        "id": "YWAF3HSms4Vb"
      },
      "source": [
        "# Outliers"
      ]
    },
    {
      "cell_type": "code",
      "metadata": {
        "colab": {
          "base_uri": "https://localhost:8080/"
        },
        "id": "tqfxOL1St8mW",
        "outputId": "40ac9093-eb35-4775-ea3c-a6bbcde23e58"
      },
      "source": [
        "\n",
        "# load the dataset\n",
        "url = 'https://raw.githubusercontent.com/jbrownlee/Datasets/master/housing.csv'\n",
        "df = read_csv(url, header=None)\n",
        "# retrieve the array\n",
        "data = df.values\n",
        "# split into input and output elements\n",
        "X, y = data[:, :-1], data[:, -1]\n",
        "# summarize the shape of the dataset\n",
        "print(X.shape, y.shape)"
      ],
      "execution_count": null,
      "outputs": [
        {
          "output_type": "stream",
          "name": "stdout",
          "text": [
            "(506, 13) (506,)\n"
          ]
        }
      ]
    },
    {
      "cell_type": "code",
      "metadata": {
        "colab": {
          "base_uri": "https://localhost:8080/"
        },
        "id": "ZKG5WnyMuKGV",
        "outputId": "6bd655f1-25ac-44b2-d7dc-977d4892341b"
      },
      "source": [
        "from sklearn.model_selection import cross_val_score\n",
        "from sklearn.linear_model import LinearRegression\n",
        "\n",
        "pipe = make_pipeline(LinearRegression())\n",
        "cross_val_score(pipe, X, y, cv=5)\n"
      ],
      "execution_count": null,
      "outputs": [
        {
          "output_type": "execute_result",
          "data": {
            "text/plain": [
              "array([ 0.63919994,  0.71386698,  0.58702344,  0.07923081, -0.25294154])"
            ]
          },
          "metadata": {},
          "execution_count": 29
        }
      ]
    },
    {
      "cell_type": "code",
      "metadata": {
        "colab": {
          "base_uri": "https://localhost:8080/"
        },
        "id": "S-C467iCvJYi",
        "outputId": "853c8184-f4ad-4c31-cf44-87c14daeaa44"
      },
      "source": [
        "from sklearn.ensemble import IsolationForest\n",
        "from sklearn.svm import OneClassSVM\n",
        "from sklearn.neighbors import LocalOutlierFactor\n",
        "from sklearn.covariance import EllipticEnvelope\n",
        "from sklearn.linear_model import LinearRegression\n",
        "\n",
        "\n",
        "for od in [IsolationForest(), EllipticEnvelope(), LocalOutlierFactor(), OneClassSVM()]:\n",
        "\n",
        "  yhat = od.fit_predict(X)\n",
        "\n",
        "  # select all rows that are not outliers\n",
        "  mask = yhat != -1\n",
        "  X_without_outliers, y_withouth_outliers = X[mask, :], y[mask]\n",
        "\n",
        "  pipe = make_pipeline(LinearRegression())\n",
        "  print(cross_val_score(pipe, X_without_outliers, y_withouth_outliers, cv=5))"
      ],
      "execution_count": null,
      "outputs": [
        {
          "output_type": "stream",
          "name": "stdout",
          "text": [
            "[ 0.6006483   0.71114569  0.6595133   0.08974425 -0.70274115]\n",
            "[ 0.62675426  0.7040996   0.54880932  0.31983642 -6.41373921]\n",
            "[ 0.60145967  0.56046046  0.58242692 -0.01021429 -3.17066612]\n",
            "[ 0.55393221 -0.05319951  0.43011503  0.8045749  -0.27712592]\n"
          ]
        }
      ]
    },
    {
      "cell_type": "markdown",
      "metadata": {
        "id": "KG3G4nGTzHTn"
      },
      "source": [
        "# Binning"
      ]
    },
    {
      "cell_type": "code",
      "metadata": {
        "id": "pw9JKvTfz67j"
      },
      "source": [
        "def make_wave(n_samples=100):\n",
        "    rnd = np.random.RandomState(42)\n",
        "    x = rnd.uniform(-3, 3, size=n_samples)\n",
        "    y_no_noise = (np.sin(4 * x) + x)\n",
        "    y = (y_no_noise + rnd.normal(size=len(x))) / 2\n",
        "    return x.reshape(-1, 1), y"
      ],
      "execution_count": null,
      "outputs": []
    },
    {
      "cell_type": "code",
      "metadata": {
        "id": "gj0qhwd4zJgm",
        "colab": {
          "base_uri": "https://localhost:8080/",
          "height": 279
        },
        "outputId": "e754cad1-7750-4f30-c520-599dbc5a6069"
      },
      "source": [
        "from sklearn.linear_model import LinearRegression\n",
        "from sklearn.tree import DecisionTreeRegressor\n",
        "\n",
        "X, y = make_wave(n_samples=100)\n",
        "plt.plot(X[:, 0], y, 'o')\n",
        "\n",
        "line = np.linspace(-3, 3, 1000)[:-1].reshape(-1, 1)\n",
        "reg = LinearRegression().fit(X, y)\n",
        "\n",
        "plt.plot(line, reg.predict(line), label=\"linear regression\")\n",
        "reg = DecisionTreeRegressor(min_samples_split=3).fit(X, y)\n",
        "\n",
        "plt.plot(line, reg.predict(line), label=\"decision tree\")\n",
        "plt.ylabel(\"regression output\")\n",
        "plt.xlabel(\"input feature\")\n",
        "plt.legend(loc=\"best\");"
      ],
      "execution_count": null,
      "outputs": [
        {
          "output_type": "display_data",
          "data": {
            "image/png": "[encoded data removed]",
            "text/plain": [
              "<Figure size 432x288 with 1 Axes>"
            ]
          },
          "metadata": {
            "needs_background": "light"
          }
        }
      ]
    },
    {
      "cell_type": "code",
      "metadata": {
        "id": "TyHVJTFb0TZ_",
        "colab": {
          "base_uri": "https://localhost:8080/"
        },
        "outputId": "537c34c5-ee0a-4798-8d78-52574ff6e687"
      },
      "source": [
        "np.set_printoptions(precision=2)\n",
        "bins = np.linspace(-3, 3, 11)\n",
        "bins"
      ],
      "execution_count": null,
      "outputs": [
        {
          "output_type": "execute_result",
          "data": {
            "text/plain": [
              "array([-3. , -2.4, -1.8, -1.2, -0.6,  0. ,  0.6,  1.2,  1.8,  2.4,  3. ])"
            ]
          },
          "metadata": {},
          "execution_count": 150
        }
      ]
    },
    {
      "cell_type": "code",
      "metadata": {
        "id": "8t5v2J0y0JNT",
        "colab": {
          "base_uri": "https://localhost:8080/"
        },
        "outputId": "a1bd3e89-5907-4cf4-dece-676f884ff36a"
      },
      "source": [
        "from sklearn.preprocessing import OneHotEncoder\n",
        "\n",
        "which_bin = np.digitize(X, bins=bins)\n",
        "\n",
        "# transform using the OneHotEncoder.\n",
        "encoder = OneHotEncoder(sparse=False)\n",
        "# encoder.fit finds the unique values that appear in which_bin\n",
        "encoder.fit(which_bin)\n",
        "# transform creates the one-hot encoding\n",
        "X_binned = encoder.transform(which_bin)\n",
        "print(X_binned[:5])"
      ],
      "execution_count": null,
      "outputs": [
        {
          "output_type": "stream",
          "name": "stdout",
          "text": [
            "[[0. 0. 0. 1. 0. 0. 0. 0. 0. 0.]\n",
            " [0. 0. 0. 0. 0. 0. 0. 0. 0. 1.]\n",
            " [0. 0. 0. 0. 0. 0. 0. 1. 0. 0.]\n",
            " [0. 0. 0. 0. 0. 1. 0. 0. 0. 0.]\n",
            " [0. 1. 0. 0. 0. 0. 0. 0. 0. 0.]]\n"
          ]
        }
      ]
    },
    {
      "cell_type": "code",
      "metadata": {
        "id": "U78_PVC50Yto",
        "colab": {
          "base_uri": "https://localhost:8080/",
          "height": 294
        },
        "outputId": "add3e3e9-be4b-46ab-a339-d0d5b0a27b59"
      },
      "source": [
        "line_binned = encoder.transform(np.digitize(line, bins=bins))\n",
        "plt.plot(X[:, 0], y, 'o')\n",
        "reg = LinearRegression().fit(X_binned, y)\n",
        "plt.plot(line, reg.predict(line_binned), label='linear regression binned')\n",
        "reg = DecisionTreeRegressor(min_samples_split=3).fit(X_binned, y)\n",
        "plt.plot(line, reg.predict(line_binned), label='decision tree binned')\n",
        "for bin in bins:\n",
        "  plt.plot([bin, bin], [-3, 3], ':', c='k')\n",
        "  plt.legend(loc=\"best\")\n",
        "  plt.suptitle(\"linear_binning\")"
      ],
      "execution_count": null,
      "outputs": [
        {
          "output_type": "display_data",
          "data": {
            "image/png": "[encoded data removed]",
            "text/plain": [
              "<Figure size 432x288 with 1 Axes>"
            ]
          },
          "metadata": {
            "needs_background": "light"
          }
        }
      ]
    },
    {
      "cell_type": "markdown",
      "metadata": {
        "id": "f6jMZZcVyptW"
      },
      "source": [
        "# Null Values"
      ]
    },
    {
      "cell_type": "markdown",
      "metadata": {
        "id": "wK73j6BhLBPB"
      },
      "source": [
        "## Univariate vs. Multivariate Imputation\n",
        "\n",
        "One type of imputation algorithm is univariate, which imputes values in the i-th feature dimension using only non-missing values in that feature dimension (e.g. impute.SimpleImputer). By contrast, multivariate imputation algorithms use the entire set of available feature dimensions to estimate the missing values (e.g. impute.IterativeImputer).\n",
        "\n"
      ]
    },
    {
      "cell_type": "markdown",
      "metadata": {
        "id": "LtE0uULELXUI"
      },
      "source": [
        "### Univariate: SimpleImputer\n",
        "\n",
        "The SimpleImputer class provides basic strategies for imputing missing values. Missing values can be imputed with a provided constant value, or using the statistics (mean, median or most frequent) of each column in which the missing values are located. This class also allows for different missing values encodings.\n",
        "\n",
        "The following snippet demonstrates how to replace missing values, encoded as np.nan, using the mean value of the columns (axis 0) that contain the missing values:"
      ]
    },
    {
      "cell_type": "code",
      "metadata": {
        "colab": {
          "base_uri": "https://localhost:8080/"
        },
        "id": "nFTZS9A6LFEa",
        "outputId": "8d2374c2-1a50-4057-ee33-85299f82fc19"
      },
      "source": [
        "import numpy as np\n",
        "from sklearn.impute import SimpleImputer\n",
        "imp = SimpleImputer(missing_values=np.nan, strategy='mean')\n",
        "imp.fit([[1, 2], [np.nan, 3], [7, 6]])"
      ],
      "execution_count": null,
      "outputs": [
        {
          "output_type": "execute_result",
          "data": {
            "text/plain": [
              "SimpleImputer(add_indicator=False, copy=True, fill_value=None,\n",
              "              missing_values=nan, strategy='mean', verbose=0)"
            ]
          },
          "metadata": {},
          "execution_count": 3
        }
      ]
    },
    {
      "cell_type": "code",
      "metadata": {
        "colab": {
          "base_uri": "https://localhost:8080/"
        },
        "id": "7V9sbKEjLKna",
        "outputId": "89b0af62-3ce9-4a86-be14-86fe23b4ceb3"
      },
      "source": [
        "X = [[np.nan, 2], [6, np.nan], [7, 6]]\n",
        "print(imp.transform(X))"
      ],
      "execution_count": null,
      "outputs": [
        {
          "output_type": "stream",
          "name": "stdout",
          "text": [
            "[[4.         2.        ]\n",
            " [6.         3.66666667]\n",
            " [7.         6.        ]]\n"
          ]
        }
      ]
    },
    {
      "cell_type": "markdown",
      "metadata": {
        "id": "rP4LixU5LpOF"
      },
      "source": [
        "strategystr, default=’mean’\n",
        "The imputation strategy.\n",
        "\n",
        "If “mean”, then replace missing values using the mean along each column. Can only be used with numeric data.\n",
        "\n",
        "If “median”, then replace missing values using the median along each column. Can only be used with numeric data.\n",
        "\n",
        "If “most_frequent”, then replace missing using the most frequent value along each column. Can be used with strings or numeric data. If there is more than one such value, only the smallest is returned.\n",
        "\n",
        "If “constant”, then replace missing values with fill_value. Can be used with strings or numeric data."
      ]
    },
    {
      "cell_type": "code",
      "metadata": {
        "colab": {
          "base_uri": "https://localhost:8080/"
        },
        "id": "J5CaLZnOLqxx",
        "outputId": "879efdb8-ece8-426c-9a9f-6f46276069b2"
      },
      "source": [
        "import pandas as pd\n",
        "df = pd.DataFrame([[\"a\", \"x\"],\n",
        "                   [np.nan, \"y\"],\n",
        "                   [\"a\", np.nan],\n",
        "                   [\"b\", \"y\"]], dtype=\"category\")\n",
        "\n",
        "imp = SimpleImputer(strategy=\"most_frequent\")\n",
        "print(imp.fit_transform(df))"
      ],
      "execution_count": null,
      "outputs": [
        {
          "output_type": "stream",
          "name": "stdout",
          "text": [
            "[['a' 'x']\n",
            " ['a' 'y']\n",
            " ['a' 'y']\n",
            " ['b' 'y']]\n"
          ]
        }
      ]
    },
    {
      "cell_type": "markdown",
      "metadata": {
        "id": "0LonbNZLLxJ5"
      },
      "source": [
        "### Multivariate: IterativeImputer\n",
        "\n",
        "A more sophisticated approach is to use the IterativeImputer class, which models each feature with missing values as a function of other features, and uses that estimate for imputation. It does so in an iterated round-robin fashion: at each step, a feature column is designated as output y and the other feature columns are treated as inputs X. A regressor is fit on (X, y) for known y. Then, the regressor is used to predict the missing values of y. This is done for each feature in an iterative fashion, and then is repeated for max_iter imputation rounds. The results of the final imputation round are returned."
      ]
    },
    {
      "cell_type": "code",
      "metadata": {
        "id": "x4OEuDUpMUhC",
        "colab": {
          "base_uri": "https://localhost:8080/"
        },
        "outputId": "3cd5e656-7dcc-4b22-d463-44d4cc7d7e49"
      },
      "source": [
        "import numpy as np\n",
        "from sklearn.experimental import enable_iterative_imputer\n",
        "from sklearn.impute import IterativeImputer\n",
        "imp = IterativeImputer(max_iter=10, random_state=0)\n",
        "imp.fit([[1, 2], [3, 6], [4, 8], [np.nan, 3], [7, np.nan]])\n"
      ],
      "execution_count": null,
      "outputs": [
        {
          "output_type": "execute_result",
          "data": {
            "text/plain": [
              "IterativeImputer(add_indicator=False, estimator=None,\n",
              "                 imputation_order='ascending', initial_strategy='mean',\n",
              "                 max_iter=10, max_value=None, min_value=None,\n",
              "                 missing_values=nan, n_nearest_features=None, random_state=0,\n",
              "                 sample_posterior=False, skip_complete=False, tol=0.001,\n",
              "                 verbose=0)"
            ]
          },
          "metadata": {},
          "execution_count": 6
        }
      ]
    },
    {
      "cell_type": "code",
      "metadata": {
        "id": "dtMSlsDUMeMz",
        "colab": {
          "base_uri": "https://localhost:8080/"
        },
        "outputId": "04dffeeb-f38b-45e0-aac8-0ae1b828218b"
      },
      "source": [
        "\n",
        "X_test = [[np.nan, 2], [6, np.nan], [np.nan, 6]]\n",
        "# the model learns that the second feature is double the first\n",
        "print(np.round(imp.transform(X_test)))"
      ],
      "execution_count": null,
      "outputs": [
        {
          "output_type": "stream",
          "name": "stdout",
          "text": [
            "[[ 1.  2.]\n",
            " [ 6. 12.]\n",
            " [ 3.  6.]]\n"
          ]
        }
      ]
    },
    {
      "cell_type": "markdown",
      "metadata": {
        "id": "9tgfHlLROqxX"
      },
      "source": [
        "### KNN Imputer\n",
        "\n",
        "The KNNImputer class provides imputation for filling in missing values using the k-Nearest Neighbors approach. By default, a euclidean distance metric that supports missing values, nan_euclidean_distances, is used to find the nearest neighbors. Each missing feature is imputed using values from n_neighbors nearest neighbors that have a value for the feature. The feature of the neighbors are averaged uniformly or weighted by distance to each neighbor. If a sample has more than one feature missing, then the neighbors for that sample can be different depending on the particular feature being imputed. When the number of available neighbors is less than n_neighbors and there are no defined distances to the training set, the training set average for that feature is used during imputation. If there is at least one neighbor with a defined distance, the weighted or unweighted average of the remaining neighbors will be used during imputation. If a feature is always missing in training, it is removed during transform. For more information on the methodology, see ref. [OL2001].\n",
        "\n"
      ]
    },
    {
      "cell_type": "code",
      "metadata": {
        "id": "60juci12Ou8w",
        "colab": {
          "base_uri": "https://localhost:8080/"
        },
        "outputId": "2d7be0d6-458b-4b7a-f635-1a1cc6f0abb8"
      },
      "source": [
        "import numpy as np\n",
        "from sklearn.impute import KNNImputer\n",
        "nan = np.nan\n",
        "X = [[1, 2, nan], [3, 4, 3], [nan, 6, 5], [8, 8, 7]]\n",
        "imputer = KNNImputer(n_neighbors=2, weights=\"uniform\")\n",
        "imputer.fit_transform(X)\n"
      ],
      "execution_count": null,
      "outputs": [
        {
          "output_type": "execute_result",
          "data": {
            "text/plain": [
              "array([[1. , 2. , 4. ],\n",
              "       [3. , 4. , 3. ],\n",
              "       [5.5, 6. , 5. ],\n",
              "       [8. , 8. , 7. ]])"
            ]
          },
          "metadata": {},
          "execution_count": 8
        }
      ]
    },
    {
      "cell_type": "markdown",
      "metadata": {
        "id": "Tb4izwIAPRxl"
      },
      "source": [
        "## Mark imputed values\n"
      ]
    },
    {
      "cell_type": "code",
      "metadata": {
        "id": "W66uB6fwPXAV",
        "colab": {
          "base_uri": "https://localhost:8080/"
        },
        "outputId": "04d65fca-a3ce-4543-a047-1ec3aa9b0395"
      },
      "source": [
        "from sklearn.impute import MissingIndicator\n",
        "X = np.array([[-1, -1, 1, 3],\n",
        "              [4, -1, 0, -1],\n",
        "              [8, -1, 1, 0]])\n",
        "indicator = MissingIndicator(missing_values=-1)\n",
        "mask_missing_values_only = indicator.fit_transform(X)\n",
        "mask_missing_values_only  "
      ],
      "execution_count": null,
      "outputs": [
        {
          "output_type": "execute_result",
          "data": {
            "text/plain": [
              "array([[ True,  True, False],\n",
              "       [False,  True,  True],\n",
              "       [False,  True, False]])"
            ]
          },
          "metadata": {},
          "execution_count": 9
        }
      ]
    },
    {
      "cell_type": "markdown",
      "metadata": {
        "id": "32V462AKPt0P"
      },
      "source": [
        "The features parameter is used to choose the features for which the mask is constructed. By default, it is 'missing-only' which returns the imputer mask of the features containing missing values at fit time:\n",
        "\n"
      ]
    },
    {
      "cell_type": "code",
      "metadata": {
        "id": "Ui-NL-5oPv2n",
        "colab": {
          "base_uri": "https://localhost:8080/"
        },
        "outputId": "1ff3d054-c601-4495-8871-09cc2e9168ca"
      },
      "source": [
        "indicator.features_\n"
      ],
      "execution_count": null,
      "outputs": [
        {
          "output_type": "execute_result",
          "data": {
            "text/plain": [
              "array([0, 1, 2, 3])"
            ]
          },
          "metadata": {},
          "execution_count": 12
        }
      ]
    },
    {
      "cell_type": "markdown",
      "metadata": {
        "id": "V7ySJvesPrY-"
      },
      "source": [
        "The features parameter can be set to 'all' to return all features whether or not they contain missing values:\n",
        "\n"
      ]
    },
    {
      "cell_type": "code",
      "metadata": {
        "id": "Ib_abZkCPleW",
        "colab": {
          "base_uri": "https://localhost:8080/"
        },
        "outputId": "20a69b17-90d8-45e7-b68f-6aa57cdea775"
      },
      "source": [
        "indicator = MissingIndicator(missing_values=-1, features=\"all\")\n",
        "mask_all = indicator.fit_transform(X)\n",
        "mask_all"
      ],
      "execution_count": null,
      "outputs": [
        {
          "output_type": "execute_result",
          "data": {
            "text/plain": [
              "array([[ True,  True, False, False],\n",
              "       [False,  True, False,  True],\n",
              "       [False,  True, False, False]])"
            ]
          },
          "metadata": {},
          "execution_count": 10
        }
      ]
    },
    {
      "cell_type": "code",
      "metadata": {
        "id": "CsZZkbFyPnmn",
        "colab": {
          "base_uri": "https://localhost:8080/"
        },
        "outputId": "b4823c50-3416-4481-a0cf-c0c4b090e4af"
      },
      "source": [
        "indicator.features_"
      ],
      "execution_count": null,
      "outputs": [
        {
          "output_type": "execute_result",
          "data": {
            "text/plain": [
              "array([0, 1, 2, 3])"
            ]
          },
          "metadata": {},
          "execution_count": 11
        }
      ]
    },
    {
      "cell_type": "markdown",
      "metadata": {
        "id": "2EhbeQgoP36B"
      },
      "source": [
        "## Everything together: Pipelines\n",
        "\n"
      ]
    },
    {
      "cell_type": "code",
      "metadata": {
        "id": "CnJ8PdUb-7dl"
      },
      "source": [
        "from sklearn.datasets import load_iris\n",
        "from sklearn.impute import SimpleImputer, MissingIndicator\n",
        "from sklearn.model_selection import cross_val_score\n",
        "from sklearn.model_selection import train_test_split\n",
        "from sklearn.pipeline import FeatureUnion, make_pipeline\n",
        "from sklearn.linear_model import LogisticRegression\n",
        "\n",
        "# Load the iris dataset\n",
        "X, y = load_iris(return_X_y=True)\n",
        "\n",
        "# Randomly assing null values to 20% of the dataset\n",
        "mask = np.random.randint(0, 2, size=X.shape).astype(bool)\n",
        "X[mask] = np.nan"
      ],
      "execution_count": null,
      "outputs": []
    },
    {
      "cell_type": "markdown",
      "metadata": {
        "id": "s_PNFT-T_6Gh"
      },
      "source": [
        "Now we create a FeatureUnion. All features will be imputed using SimpleImputer, in order to enable classifiers to work with this data. Additionally, it adds the indicator variables from MissingIndicator.\n",
        "\n"
      ]
    },
    {
      "cell_type": "code",
      "metadata": {
        "id": "t0BW3HJm_Ld7"
      },
      "source": [
        "transformer = FeatureUnion(\n",
        "    transformer_list=[\n",
        "        ('features', SimpleImputer(strategy='mean')),\n",
        "        ('indicators', MissingIndicator())])"
      ],
      "execution_count": null,
      "outputs": []
    },
    {
      "cell_type": "markdown",
      "metadata": {
        "id": "L-0698NV_8pU"
      },
      "source": [
        "Of course, we cannot use the transformer to make any predictions. We should wrap this in a Pipeline with a classifier (e.g., a Logistic Regression) to be able to make predictions.\n",
        "\n"
      ]
    },
    {
      "cell_type": "code",
      "metadata": {
        "colab": {
          "base_uri": "https://localhost:8080/"
        },
        "id": "KHJUlk2m_Oqs",
        "outputId": "7199d89d-e17b-48ac-e88c-955bf6e2435c"
      },
      "source": [
        "clf = make_pipeline(transformer, LogisticRegression(max_iter=1000))\n",
        "cross_val_score(clf, X, y, cv=5)"
      ],
      "execution_count": null,
      "outputs": [
        {
          "output_type": "execute_result",
          "data": {
            "text/plain": [
              "array([0.8       , 1.        , 0.86666667, 0.76666667, 0.9       ])"
            ]
          },
          "metadata": {},
          "execution_count": 19
        }
      ]
    }
  ]
}