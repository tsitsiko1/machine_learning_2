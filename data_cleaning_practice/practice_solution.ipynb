{
  "nbformat": 4,
  "nbformat_minor": 0,
  "metadata": {
    "kernelspec": {
      "display_name": "Python 3",
      "language": "python",
      "name": "python3"
    },
    "language_info": {
      "codemirror_mode": {
        "name": "ipython",
        "version": 3
      },
      "file_extension": ".py",
      "mimetype": "text/x-python",
      "name": "python",
      "nbconvert_exporter": "python",
      "pygments_lexer": "ipython3",
      "version": "3.8.5"
    },
    "colab": {
      "name": "practice_solution.ipynb",
      "provenance": [],
      "toc_visible": true,
      "include_colab_link": true
    }
  },
  "cells": [
    {
      "cell_type": "markdown",
      "metadata": {
        "id": "view-in-github",
        "colab_type": "text"
      },
      "source": [
        "<a href=\"https://colab.research.google.com/github/acastellanos-ie/machine_learning_2/blob/master/data_cleaning_practice/practice_solution.ipynb\" target=\"_parent\"><img src=\"https://colab.research.google.com/assets/colab-badge.svg\" alt=\"Open In Colab\"/></a>"
      ]
    },
    {
      "cell_type": "markdown",
      "metadata": {
        "id": "coUhsrt20sOI"
      },
      "source": [
        "# Google Colab Configuration\n",
        "\n",
        "**Execute this steps to configure the Google Colab environment in order to execute this notebook. It is not required if you are executing it locally and you have properly configured your local environment according to what explained in the Github Repository.**\n",
        "\n",
        "The first step is to clone the repository to have access to all the data and files."
      ]
    },
    {
      "cell_type": "code",
      "metadata": {
        "id": "19ecQfLVZGvm"
      },
      "source": [
        "repository_url = 'https://github.com/acastellanos-ie/machine_learning_2'"
      ],
      "execution_count": null,
      "outputs": []
    },
    {
      "cell_type": "code",
      "metadata": {
        "id": "DMgL9W4-0wXE",
        "colab": {
          "base_uri": "https://localhost:8080/"
        },
        "outputId": "0bce4768-c133-425f-9007-514b8f187b8f"
      },
      "source": [
        "! git clone $repository_url"
      ],
      "execution_count": null,
      "outputs": [
        {
          "output_type": "stream",
          "name": "stdout",
          "text": [
            "Cloning into 'machine_learning_2'...\n",
            "fatal: could not read Username for 'https://github.com': No such device or address\n"
          ]
        }
      ]
    },
    {
      "cell_type": "markdown",
      "metadata": {
        "id": "5gAhosq70ypp"
      },
      "source": [
        "Install the requirements"
      ]
    },
    {
      "cell_type": "code",
      "metadata": {
        "id": "Dy8O4JuL00hJ"
      },
      "source": [
        "! pip install -Uqqr machine_learning_2/requirements.txt"
      ],
      "execution_count": null,
      "outputs": []
    },
    {
      "cell_type": "markdown",
      "metadata": {
        "id": "T6rPx_b2c43D"
      },
      "source": [
        "Go to the practice directory\n",
        "\n"
      ]
    },
    {
      "cell_type": "code",
      "metadata": {
        "id": "IPNxL2Vsch3w"
      },
      "source": [
        "%cd machine_learning_2/data_cleaning_practice"
      ],
      "execution_count": null,
      "outputs": []
    },
    {
      "cell_type": "markdown",
      "metadata": {
        "id": "SKqBBIxf03lS"
      },
      "source": [
        "Ensure that you have the GPU runtime activated:\n",
        "\n",
        "![](https://miro.medium.com/max/3006/1*vOkqNhJNl1204kOhqq59zA.png)\n",
        "\n",
        "Now you have everything you need to execute the code in Colab"
      ]
    },
    {
      "cell_type": "markdown",
      "metadata": {
        "id": "iNK0jkzB65OE"
      },
      "source": [
        "The following cell includes some imports that we will need in the rest of the practice"
      ]
    },
    {
      "cell_type": "code",
      "metadata": {
        "id": "Qr6UPJp_VW8K"
      },
      "source": [
        "import matplotlib.pyplot as plt\n",
        "import numpy as np\n",
        "import pandas as pd\n",
        "\n",
        "from pandas import read_csv\n",
        "\n",
        "import warnings\n",
        "warnings.filterwarnings('ignore')"
      ],
      "execution_count": 2,
      "outputs": []
    },
    {
      "cell_type": "markdown",
      "metadata": {
        "id": "RbkBXRoB7C7M"
      },
      "source": [
        "In the following sections, we will cover some of the most important steps for Data Cleaning. We have covered them in class, but I want to show you how they work in practice and the impact that they can have on your Machine Learning solutions.\n",
        "\n",
        "This practice is not a guideline that you must follow step by step. I just wanted to compile them all in the same notebook to refer to it when you are implementing your own solutions. Even if you need to adapt them to your datasets and the particular scenario you are trying to solve, you will have the pointers to know where you can start.\n",
        "\n",
        "Please also consider that this is not an exhaustive list of solutions. Feel free to keep researching if you need more advanced methodologies. In any case, the solutions and examples included in this practice will help you solve most of the ML problems you will face in the future.\n",
        "\n",
        "**Disclaimer**: Most of this code comes from the two following resources:\n",
        "- [Scikit-learn Documentation](https://scikit-learn.org/stable/index.html): I recommend you check out the Documentation for more details and examples (not only for this practice but also for the rest of the course).\n",
        "- [Introduction to Machine Learning with Python (Book)](https://www.oreilly.com/library/view/introduction-to-machine/9781449369880/): The book focuses not only on Data Cleaning but also on the entire ML process. I do recommend you to check it out for more examples."
      ]
    },
    {
      "cell_type": "markdown",
      "metadata": {
        "id": "r2DnMPhOTPCB"
      },
      "source": [
        "# Scaling\n",
        "\n",
        "Let's start by talking about scaling. I hope that after the theoretical session, you are aware of the importance of scaling your data.\n",
        "For example, many machine learning methods  (such as the RBF kernel of Support Vector Machines or the L1 and L2 regularizers of linear models) assume that all features are centered around 0 and have variance in the same order. If a feature has a variance that is orders of magnitude larger that others, it might dominate the objective function and make the estimator unable to learn from other features correctly as expected.\n",
        "\n",
        "In this practice, I will introduce you to the different scalers that sklearn provides and how to use them correctly in practice.\n",
        "\n",
        "For more details, please refer to: https://scikit-learn.org/stable/modules/preprocessing.html#standardization-or-mean-removal-and-variance-scaling"
      ]
    },
    {
      "cell_type": "markdown",
      "metadata": {
        "id": "bUWcu8DBAVdw"
      },
      "source": [
        "Do not be scared with the following piece of code. It only creates a dataset with 2 features that have different scales. Then, it applies 4 different scalers, and it plots the dataset transformed according to each of them. In particular, the following scalers are used:\n",
        "\n",
        "- [StandardScaler](https://scikit-learn.org/stable/modules/generated/sklearn.preprocessing.StandardScaler.html): Standardize features by removing the mean and scaling to unit variance independently on each feature by computing the relevant statistics on the samples in the training set. Please, consider that it might behaves badly if the individual features do not more or less look like standard normally distributed data.\n",
        "- [RobustScaler](https://scikit-learn.org/stable/modules/generated/sklearn.preprocessing.RobustScaler.html?highlight=robustscaler#sklearn.preprocessing.RobustScaler): Scaling method that is robust to outliers.This Scaler removes the median and scales the data according to the quantile range (defaults to IQR: Interquartile Range). The IQR is the range between the 1st quartile (25th quantile) and the 3rd quartile (75th quantile). The scaline is independent for each feature by computing the relevant statistics on the samples in the training set. \n",
        "\n",
        "- [MinMaxScaler](https://scikit-learn.org/stable/modules/generated/sklearn.preprocessing.MinMaxScaler.html?highlight=minmax#sklearn.preprocessing.MinMaxScaler): Transform features by scaling each feature to a given range (e.g. between zero and one). This estimator scales and translates each feature individually. This Scaler is sometimes used as an alternative to the StandardSclaer. The motivation to use this scaling include robustness to very small standard deviations of features and preserving zero entries in sparse data.\n",
        "- [Normalizer](https://scikit-learn.org/stable/modules/generated/sklearn.preprocessing.Normalizer.html?highlight=normalizer#sklearn.preprocessing.Normalizer): Normalize samples individually to unit norm. Each sample (i.e. each row of the data matrix) with at least one non zero component is rescaled independently of other samples so that its norm (l1, l2 or inf) equals one.\n",
        "Scaling inputs to unit norms is a common operation for text classification or clustering for instance. For instance the dot product of two l2-normalized TF-IDF vectors is the cosine similarity of the vectors and is the base similarity metric for the Vector Space Model commonly used by the Information Retrieval community.\n",
        "\n",
        "\n",
        "\n",
        "In any case, the code itself is not important. I want you to pay attention to the resultant datasets, focusing on the transformations generated by each Scaler. Bear that in mind when you need to apply them in the feature to apply the one that is more suited for your data.\n",
        "\n"
      ]
    },
    {
      "cell_type": "code",
      "metadata": {
        "colab": {
          "base_uri": "https://localhost:8080/",
          "height": 488
        },
        "id": "DKQKbgG2aOfZ",
        "outputId": "98434c5e-b24c-4fd7-fa60-444ff4b3fea0"
      },
      "source": [
        "from sklearn.datasets import make_blobs\n",
        "from sklearn.preprocessing import StandardScaler, RobustScaler, MinMaxScaler, Normalizer\n",
        "\n",
        "# Generates the dataset\n",
        "X, y = make_blobs(n_samples=50, centers=2, random_state=4, cluster_std=1)\n",
        "# Scale the dataset\n",
        "X += 3 \n",
        "\n",
        "# Create the space to plot the figures\n",
        "plt.figure(figsize=(15, 8))\n",
        "main_ax = plt.subplot2grid((2, 4), (0, 0), rowspan=2, colspan=2)\n",
        "main_ax.scatter(X[:, 0], X[:, 1], c=y, cmap=\"Accent\")\n",
        "maxx = np.abs(X[:, 0]).max()\n",
        "maxy = np.abs(X[:, 1]).max()\n",
        "\n",
        "# Plots the orginal data\n",
        "main_ax.set_xlim(-maxx + 1, maxx + 1)\n",
        "main_ax.set_ylim(-maxy + 1, maxy + 1)\n",
        "main_ax.set_title(\"Original Data\")\n",
        "other_axes = [plt.subplot2grid((2, 4), (i, j)) for j in range(2, 4) for i in range(2)]\n",
        "\n",
        "# Applies the 4 different scalers and plot the transformed dataset\n",
        "for ax, scaler in zip(other_axes, [StandardScaler(), RobustScaler(), MinMaxScaler(), Normalizer(norm='l2')]):\n",
        "    X_ = scaler.fit_transform(X)\n",
        "    ax.scatter(X_[:, 0], X_[:, 1], c=y, cmap=\"Accent\")\n",
        "    ax.set_xlim(-2, 2)\n",
        "    ax.set_ylim(-2, 2)\n",
        "    ax.set_title(type(scaler).__name__)\n",
        "\n",
        "other_axes.append(main_ax)\n",
        "\n",
        "# Format the plots (just to look cleaner and nicer)\n",
        "for ax in other_axes:\n",
        "    ax.spines['left'].set_position('center')\n",
        "    ax.spines['right'].set_color('none')\n",
        "    ax.spines['bottom'].set_position('center')\n",
        "    ax.spines['top'].set_color('none')\n",
        "    ax.xaxis.set_ticks_position('bottom')\n",
        "    ax.yaxis.set_ticks_position('left')"
      ],
      "execution_count": null,
      "outputs": [
        {
          "output_type": "display_data",
          "data": {
            "image/png": "[encoded data removed]",
            "text/plain": [
              "<Figure size 1080x576 with 5 Axes>"
            ]
          },
          "metadata": {
            "needs_background": "light"
          }
        }
      ]
    },
    {
      "cell_type": "markdown",
      "metadata": {
        "id": "PeaCeIBOFbdX"
      },
      "source": [
        "There is something important that I would like to highlight related to the application of the Scalers (and any other of the sklearn transformers): Exactly the same transformation must be applied to the training set and the test set for the supervised model to make sense on the test set. \n",
        "\n",
        "The following figures illustrate this concept in more detail and what would happen if we did not use it properly."
      ]
    },
    {
      "cell_type": "markdown",
      "metadata": {
        "id": "V4wzGjlZGooq"
      },
      "source": [
        "The next piece of code generates a training (blue points) and test dataset (red triangles). As you can see in the picture, their distribution is not exactly the same. On top of that, the 2 features have different scales. \n",
        "Therefore, as we have learned, we need to scale them. "
      ]
    },
    {
      "cell_type": "code",
      "metadata": {
        "colab": {
          "base_uri": "https://localhost:8080/",
          "height": 265
        },
        "id": "ngwm67yzVG9O",
        "outputId": "b43936b2-6254-47d8-f96d-a5946aabd56b"
      },
      "source": [
        "from sklearn.model_selection import train_test_split\n",
        "\n",
        "# Generate the dataset\n",
        "X, y = make_blobs(n_samples=50, centers=5, random_state=4, cluster_std=2)\n",
        "\n",
        "# split it into training and test set\n",
        "X_train, X_test, y_train, y_test = train_test_split(X,y, random_state=5, test_size=.1)\n",
        "\n",
        "# plot the training and test set\n",
        "plt.scatter(X_train[:, 0], X_train[:, 1], c='b', label=\"training set\", s=60)\n",
        "plt.scatter(X_test[:, 0], X_test[:, 1], marker='^', c='r', label=\"test set\", s=60)\n",
        "plt.legend(loc='upper left');\n"
      ],
      "execution_count": null,
      "outputs": [
        {
          "output_type": "display_data",
          "data": {
            "image/png": "[encoded data removed]",
            "text/plain": [
              "<Figure size 432x288 with 1 Axes>"
            ]
          },
          "metadata": {
            "needs_background": "light"
          }
        }
      ]
    },
    {
      "cell_type": "markdown",
      "metadata": {
        "id": "FzwOfDuCHO2n"
      },
      "source": [
        "For the scaling, I have decided to apply the MinMaxScaler that we reviewed before.\n",
        "\n",
        "In order to do that, the correct process is to:\n",
        "- Fit the scaler to the training data (i.e., learn the transformation based on the statistics of the training data).\n",
        "- Transform the training data according to the transformation learned in the training set\n",
        "- Transform the test data by using the SAME transformation.\n",
        "\n",
        "As you can check in the picture, the data is properly scaled. The features are now in the 0-1 scale while respecting the structure of the data."
      ]
    },
    {
      "cell_type": "code",
      "metadata": {
        "colab": {
          "base_uri": "https://localhost:8080/",
          "height": 265
        },
        "id": "_7Y2TlKheToZ",
        "outputId": "8ad6d27d-ca0d-43df-e8aa-391bc8469ed1"
      },
      "source": [
        "# scale the data using MinMaxScaler\n",
        "scaler = MinMaxScaler()\n",
        "scaler.fit(X_train)\n",
        "X_train_scaled = scaler.transform(X_train)\n",
        "X_test_scaled = scaler.transform(X_test)\n",
        "\n",
        "# visualize the properly scaled data\n",
        "plt.scatter(X_train_scaled[:, 0], X_train_scaled[:, 1], c='b', label=\"training set\", s=60)\n",
        "plt.scatter(X_test_scaled[:, 0], X_test_scaled[:, 1], marker='^', c='r', label=\"test set\", s=60);\n",
        "plt.legend(loc='upper left');"
      ],
      "execution_count": null,
      "outputs": [
        {
          "output_type": "display_data",
          "data": {
            "image/png": "[encoded data removed]",
            "text/plain": [
              "<Figure size 432x288 with 1 Axes>"
            ]
          },
          "metadata": {
            "needs_background": "light"
          }
        }
      ]
    },
    {
      "cell_type": "markdown",
      "metadata": {
        "id": "LcQRLa4BKdRx"
      },
      "source": [
        "However, what happens if I am not careful with this transformation. Let's check it out.\n",
        "\n",
        "As depicted in the following code, a common error is to use a different transformation for the training and the test set. It happens when you fit the Scaler to the training dataset and apply the transformation to the training dataset to then fit the Scaler again to the test dataset.\n",
        "\n",
        "If you do such a thing, the training dataset's transformation will be different from the transformation to the test dataset. The transformation on the training dataset will be based on the statistics learned in the training dataset, and the transformation on the test dataset will be based on the statistics of the test dataset (which are different from the statistics from the training dataset!).\n",
        "\n",
        "You can see the error that it produces in the following picture. As you can see, the test set has been scaled according to the test statistics (in this case, the max and min value). Consequently, the structure of the data is entirely different than the original one! "
      ]
    },
    {
      "cell_type": "code",
      "metadata": {
        "colab": {
          "base_uri": "https://localhost:8080/",
          "height": 265
        },
        "id": "gEmpxMjSeo1z",
        "outputId": "407f2a4f-ef89-4111-b4d6-5ca2885fe789"
      },
      "source": [
        "# rescale the test set separately, so that test set min is 0 and test set max is 1\n",
        "# DO NOT DO THIS! For illustration purposes only\n",
        "test_scaler = MinMaxScaler()\n",
        "test_scaler.fit(X_test)\n",
        "X_test_scaled_badly = test_scaler.transform(X_test)\n",
        "\n",
        "# visualize wrongly scaled data\n",
        "plt.scatter(X_train_scaled[:, 0], X_train_scaled[:, 1], c='b', label=\"training set\", s=60)\n",
        "plt.scatter(X_test_scaled_badly[:, 0], X_test_scaled_badly[:, 1], marker='^', c='r', label=\"test set\", s=60)\n",
        "plt.legend(loc='upper left');"
      ],
      "execution_count": null,
      "outputs": [
        {
          "output_type": "display_data",
          "data": {
            "image/png": "[encoded data removed]",
            "text/plain": [
              "<Figure size 432x288 with 1 Axes>"
            ]
          },
          "metadata": {
            "needs_background": "light"
          }
        }
      ]
    },
    {
      "cell_type": "markdown",
      "metadata": {
        "id": "vl98MkKQqv8y"
      },
      "source": [
        "Be extremely careful with this error, it is easy to overlook, but it will significantly impact your machine learning solution as you can see in the following code."
      ]
    },
    {
      "cell_type": "code",
      "metadata": {
        "colab": {
          "base_uri": "https://localhost:8080/"
        },
        "id": "8OXRB3_YVPiC",
        "outputId": "be61711b-6aa1-4bac-e4dc-d8a76a9ea959"
      },
      "source": [
        "from sklearn.pipeline import make_pipeline\n",
        "from sklearn.linear_model import LogisticRegression\n",
        "\n",
        "pipe = make_pipeline(StandardScaler(), LogisticRegression())\n",
        "pipe.fit(X_train_scaled, y_train)  \n",
        "pipe.score(X_test_scaled, y_test) "
      ],
      "execution_count": null,
      "outputs": [
        {
          "output_type": "execute_result",
          "data": {
            "text/plain": [
              "0.8"
            ]
          },
          "metadata": {},
          "execution_count": 17
        }
      ]
    },
    {
      "cell_type": "code",
      "metadata": {
        "colab": {
          "base_uri": "https://localhost:8080/"
        },
        "id": "OtHnz6bZqk2c",
        "outputId": "0f43c090-0632-419e-f9b8-46b6fe3222b4"
      },
      "source": [
        "pipe.fit(X_train_scaled, y_train)  \n",
        "pipe.score(X_test_scaled_badly, y_test) "
      ],
      "execution_count": null,
      "outputs": [
        {
          "output_type": "execute_result",
          "data": {
            "text/plain": [
              "0.6"
            ]
          },
          "metadata": {},
          "execution_count": 16
        }
      ]
    },
    {
      "cell_type": "markdown",
      "metadata": {
        "id": "S5208AthEPMy"
      },
      "source": [
        "## Feature Distribution\n",
        "\n",
        "With Scaling, we have checked that all the features have the same scale. Some of the scalers also focus on providing a well-behaved distribution of the feature values (i.e., mean equals 0 and std equals 1). I would like to review in more detail this later aspect.\n",
        "\n",
        "Many ML methods and algorithms work under the assumption that your feature values will be scaled and follow a normal distribution. If that is not the case, they can fail when applied or provide misleading results. A standard procedure to avoid this problem is to check the feature distribution."
      ]
    },
    {
      "cell_type": "markdown",
      "metadata": {
        "id": "OosGHSNLs1gK"
      },
      "source": [
        "The following piece of code imports the well-known house dataset and scales it. This dataset is a clean and simplified version of the actual datasets you will find in the real world, but as it includes different features with different distributions, it will serve to illustrate this point."
      ]
    },
    {
      "cell_type": "code",
      "metadata": {
        "id": "mIvm5yTFFhgm"
      },
      "source": [
        "from sklearn.datasets import fetch_openml\n",
        "\n",
        "data = fetch_openml(\"house_sales\", as_frame=True)\n",
        "target = data.frame.price\n",
        "df = data.frame.drop(['date', 'price', 'zipcode'], axis=1)\n",
        "\n",
        "X, y = df, target\n",
        "\n",
        "scaler = StandardScaler()\n",
        "scaler.fit(X_train)\n",
        "X_scaled = scaler.transform(X)\n"
      ],
      "execution_count": null,
      "outputs": []
    },
    {
      "cell_type": "markdown",
      "metadata": {
        "id": "G83tIkrOumWf"
      },
      "source": [
        "To explore the data distribution, the following code plots the histogram for the values of each feature. As you can see, some of them are skewed to the left or the right. Therefore, we need to apply some kind of skewness correction."
      ]
    },
    {
      "cell_type": "code",
      "metadata": {
        "colab": {
          "base_uri": "https://localhost:8080/",
          "height": 607
        },
        "id": "ARJQOp8aF9kj",
        "outputId": "c3e06ff2-5ba2-4e61-9b07-951a30822bfa"
      },
      "source": [
        "fig, axes = plt.subplots(3, 6, figsize=(20, 10))\n",
        "for i, ax in enumerate(axes.ravel()):\n",
        "    if i > 16:\n",
        "        ax.set_visible(False)\n",
        "        continue\n",
        "    ax.hist(X_scaled[:, i], bins=30)\n",
        "    ax.set_title(\"{}: {}\".format(i, X.columns[i]))"
      ],
      "execution_count": null,
      "outputs": [
        {
          "output_type": "display_data",
          "data": {
            "image/png": "[encoded data removed]",
            "text/plain": [
              "<Figure size 1440x720 with 18 Axes>"
            ]
          },
          "metadata": {
            "needs_background": "light"
          }
        }
      ]
    },
    {
      "cell_type": "markdown",
      "metadata": {
        "id": "tc01XO1rv7v1"
      },
      "source": [
        "In particular, I made use of the [PowerTransform](https://scikit-learn.org/stable/modules/generated/sklearn.preprocessing.PowerTransformer.html). Power transforms are applied to make data more Gaussian-like. Currently, PowerTransformer supports the Box-Cox transform and the Yeo-Johnson transform (you have the `method` parameter to set this up).\n",
        "\n",
        "For more details, please refer to the sklearn documentation."
      ]
    },
    {
      "cell_type": "code",
      "metadata": {
        "colab": {
          "base_uri": "https://localhost:8080/",
          "height": 607
        },
        "id": "fDUTyvnBGR-0",
        "outputId": "e905c26c-313d-49cf-ce1d-4d26a41e7b78"
      },
      "source": [
        "\n",
        "from sklearn.preprocessing import PowerTransformer\n",
        "fig, axes = plt.subplots(3, 6, figsize=(20, 10))\n",
        "pt = PowerTransformer()\n",
        "X_pt = pt.fit_transform(X_scaled)\n",
        "\n",
        "for i, ax in enumerate(axes.ravel()):\n",
        "    if i > 16:\n",
        "        ax.set_visible(False)\n",
        "        continue\n",
        "    ax.hist(X_pt[:, i], bins=30)\n",
        "    ax.set_title(\"{}: {} {:.2f}\".format(i, X.columns[i], pt.lambdas_[i]))"
      ],
      "execution_count": null,
      "outputs": [
        {
          "output_type": "display_data",
          "data": {
            "image/png": "[encoded data removed]",
            "text/plain": [
              "<Figure size 1440x720 with 18 Axes>"
            ]
          },
          "metadata": {
            "needs_background": "light"
          }
        }
      ]
    },
    {
      "cell_type": "markdown",
      "metadata": {
        "id": "IYncp8y3wiKB"
      },
      "source": [
        "As you can see in the previous picture, the data looks much more Gaussian now. It is not just a cosmetic transformation. As you can check in the following code, it has a significant impact on the model performance."
      ]
    },
    {
      "cell_type": "code",
      "metadata": {
        "colab": {
          "base_uri": "https://localhost:8080/"
        },
        "id": "g6nNjuybGv5m",
        "outputId": "e9380692-729a-466f-9859-48c2511acc37"
      },
      "source": [
        "from sklearn.linear_model import RidgeCV\n",
        "from sklearn.model_selection import cross_val_score\n",
        "\n",
        "scores = cross_val_score(RidgeCV(), X, y, cv=10)\n",
        "np.mean(scores), np.std(scores)"
      ],
      "execution_count": null,
      "outputs": [
        {
          "output_type": "execute_result",
          "data": {
            "text/plain": [
              "(0.6908631122746844, 0.011110651006138771)"
            ]
          },
          "metadata": {},
          "execution_count": 27
        }
      ]
    },
    {
      "cell_type": "code",
      "metadata": {
        "colab": {
          "base_uri": "https://localhost:8080/"
        },
        "id": "fK-re6AnGyFp",
        "outputId": "2539ba91-cf3d-41d7-e2ec-dae8cda983d6"
      },
      "source": [
        "scores = cross_val_score(RidgeCV(), X_scaled, y, cv=10)\n",
        "np.mean(scores), np.std(scores)"
      ],
      "execution_count": null,
      "outputs": [
        {
          "output_type": "stream",
          "name": "stdout",
          "text": [
            "0.6909018921991266 0.01107260334293567\n"
          ]
        }
      ]
    },
    {
      "cell_type": "code",
      "metadata": {
        "colab": {
          "base_uri": "https://localhost:8080/"
        },
        "id": "wf5ia862G03U",
        "outputId": "20663d89-ddb2-4fac-96a5-901ee4f5600d"
      },
      "source": [
        "scores = cross_val_score(RidgeCV(), X_pt, y, cv=10)\n",
        "np.mean(scores), np.std(scores)"
      ],
      "execution_count": null,
      "outputs": [
        {
          "output_type": "execute_result",
          "data": {
            "text/plain": [
              "(0.5990509139560886, 0.021738690661655093)"
            ]
          },
          "metadata": {},
          "execution_count": 32
        }
      ]
    },
    {
      "cell_type": "markdown",
      "metadata": {
        "id": "Yz3x8DQdjGqz"
      },
      "source": [
        "# Categorical Columns\n",
        "\n",
        "The next thing to consider is the presence of categorical columns. Most ML algorithms come from Statistics. Consequently, they were designed to learn from numerical statistics about the data and not from categorical values. In fact, most of the ML algorithms will fail if you feed them with categorical values.\n",
        "\n",
        "However, categorical features are the basis for the majority of the business problems you will tackle with ML. Not only that, but they will likely include the most relevant information.\n",
        "\n",
        "This section will cover some ideas related to categorical features, primarily focusing on dealing with them thanks to the Encoders provided by sklearn.\n",
        "\n",
        "As usual, for more details please refer to the sklearn documentation: https://scikit-learn.org/stable/modules/preprocessing.html#encoding-categorical-features"
      ]
    },
    {
      "cell_type": "markdown",
      "metadata": {
        "id": "ybjnInMv-WnW"
      },
      "source": [
        "Let's start by creating a toy dataset with numerical and categorical columns."
      ]
    },
    {
      "cell_type": "code",
      "metadata": {
        "colab": {
          "base_uri": "https://localhost:8080/",
          "height": 235
        },
        "id": "kxhLXJnujGGz",
        "outputId": "5643fce0-5dd0-45f3-d58f-6d1cf4530cd6"
      },
      "source": [
        "df = pd.DataFrame({'boro': ['Manhattan', 'Queens', 'Manhattan', 'Brooklyn', 'Brooklyn', 'Bronx'],\n",
        "                   'salary': [103, 89, 142, 54, 63, 219],\n",
        "                   'vegan': ['No', 'No','No','Yes', 'Yes', 'No']})\n",
        "df"
      ],
      "execution_count": null,
      "outputs": [
        {
          "output_type": "execute_result",
          "data": {
            "text/html": [
              "<div>\n",
              "<style scoped>\n",
              "    .dataframe tbody tr th:only-of-type {\n",
              "        vertical-align: middle;\n",
              "    }\n",
              "\n",
              "    .dataframe tbody tr th {\n",
              "        vertical-align: top;\n",
              "    }\n",
              "\n",
              "    .dataframe thead th {\n",
              "        text-align: right;\n",
              "    }\n",
              "</style>\n",
              "<table border=\"1\" class=\"dataframe\">\n",
              "  <thead>\n",
              "    <tr style=\"text-align: right;\">\n",
              "      <th></th>\n",
              "      <th>boro</th>\n",
              "      <th>salary</th>\n",
              "      <th>vegan</th>\n",
              "    </tr>\n",
              "  </thead>\n",
              "  <tbody>\n",
              "    <tr>\n",
              "      <th>0</th>\n",
              "      <td>Manhattan</td>\n",
              "      <td>103</td>\n",
              "      <td>No</td>\n",
              "    </tr>\n",
              "    <tr>\n",
              "      <th>1</th>\n",
              "      <td>Queens</td>\n",
              "      <td>89</td>\n",
              "      <td>No</td>\n",
              "    </tr>\n",
              "    <tr>\n",
              "      <th>2</th>\n",
              "      <td>Manhattan</td>\n",
              "      <td>142</td>\n",
              "      <td>No</td>\n",
              "    </tr>\n",
              "    <tr>\n",
              "      <th>3</th>\n",
              "      <td>Brooklyn</td>\n",
              "      <td>54</td>\n",
              "      <td>Yes</td>\n",
              "    </tr>\n",
              "    <tr>\n",
              "      <th>4</th>\n",
              "      <td>Brooklyn</td>\n",
              "      <td>63</td>\n",
              "      <td>Yes</td>\n",
              "    </tr>\n",
              "    <tr>\n",
              "      <th>5</th>\n",
              "      <td>Bronx</td>\n",
              "      <td>219</td>\n",
              "      <td>No</td>\n",
              "    </tr>\n",
              "  </tbody>\n",
              "</table>\n",
              "</div>"
            ],
            "text/plain": [
              "        boro  salary vegan\n",
              "0  Manhattan     103    No\n",
              "1     Queens      89    No\n",
              "2  Manhattan     142    No\n",
              "3   Brooklyn      54   Yes\n",
              "4   Brooklyn      63   Yes\n",
              "5      Bronx     219    No"
            ]
          },
          "metadata": {},
          "execution_count": 5
        }
      ]
    },
    {
      "cell_type": "markdown",
      "metadata": {
        "id": "5a9nNJdu_ST5"
      },
      "source": [
        "The whole point of encoding categorical variables is to transform the categories to numbers (i.e., in this way, the ML algorithms will be able to handle the data). There are different ways of doing this transformation. The first one is to translate each category to a number (e.g., the Bronx is 0, Brooklyn is 1, and so on).\n",
        "\n",
        "Interestingly, categorical variables are already stored as numbers in memory by Pandas. In the following code, we are going to access this numerical representation for the feature `boro`."
      ]
    },
    {
      "cell_type": "code",
      "metadata": {
        "colab": {
          "base_uri": "https://localhost:8080/",
          "height": 235
        },
        "id": "dw4RMDBnjV5B",
        "outputId": "ed206b6c-7322-4607-d83e-8f78830a64f4"
      },
      "source": [
        "# Cast the feature boro as \"category\" and access to the numerical code used by Pandas to represent it\n",
        "df['boro_ordinal'] = df.boro.astype(\"category\").cat.codes\n",
        "\n",
        "# reorder columns so it looks nice\n",
        "df = df[['boro', 'boro_ordinal', 'vegan', 'salary']]\n",
        "df"
      ],
      "execution_count": null,
      "outputs": [
        {
          "output_type": "execute_result",
          "data": {
            "text/html": [
              "<div>\n",
              "<style scoped>\n",
              "    .dataframe tbody tr th:only-of-type {\n",
              "        vertical-align: middle;\n",
              "    }\n",
              "\n",
              "    .dataframe tbody tr th {\n",
              "        vertical-align: top;\n",
              "    }\n",
              "\n",
              "    .dataframe thead th {\n",
              "        text-align: right;\n",
              "    }\n",
              "</style>\n",
              "<table border=\"1\" class=\"dataframe\">\n",
              "  <thead>\n",
              "    <tr style=\"text-align: right;\">\n",
              "      <th></th>\n",
              "      <th>boro</th>\n",
              "      <th>boro_ordinal</th>\n",
              "      <th>vegan</th>\n",
              "      <th>salary</th>\n",
              "    </tr>\n",
              "  </thead>\n",
              "  <tbody>\n",
              "    <tr>\n",
              "      <th>0</th>\n",
              "      <td>Manhattan</td>\n",
              "      <td>2</td>\n",
              "      <td>No</td>\n",
              "      <td>103</td>\n",
              "    </tr>\n",
              "    <tr>\n",
              "      <th>1</th>\n",
              "      <td>Queens</td>\n",
              "      <td>3</td>\n",
              "      <td>No</td>\n",
              "      <td>89</td>\n",
              "    </tr>\n",
              "    <tr>\n",
              "      <th>2</th>\n",
              "      <td>Manhattan</td>\n",
              "      <td>2</td>\n",
              "      <td>No</td>\n",
              "      <td>142</td>\n",
              "    </tr>\n",
              "    <tr>\n",
              "      <th>3</th>\n",
              "      <td>Brooklyn</td>\n",
              "      <td>1</td>\n",
              "      <td>Yes</td>\n",
              "      <td>54</td>\n",
              "    </tr>\n",
              "    <tr>\n",
              "      <th>4</th>\n",
              "      <td>Brooklyn</td>\n",
              "      <td>1</td>\n",
              "      <td>Yes</td>\n",
              "      <td>63</td>\n",
              "    </tr>\n",
              "    <tr>\n",
              "      <th>5</th>\n",
              "      <td>Bronx</td>\n",
              "      <td>0</td>\n",
              "      <td>No</td>\n",
              "      <td>219</td>\n",
              "    </tr>\n",
              "  </tbody>\n",
              "</table>\n",
              "</div>"
            ],
            "text/plain": [
              "        boro  boro_ordinal vegan  salary\n",
              "0  Manhattan             2    No     103\n",
              "1     Queens             3    No      89\n",
              "2  Manhattan             2    No     142\n",
              "3   Brooklyn             1   Yes      54\n",
              "4   Brooklyn             1   Yes      63\n",
              "5      Bronx             0    No     219"
            ]
          },
          "metadata": {},
          "execution_count": 6
        }
      ]
    },
    {
      "cell_type": "markdown",
      "metadata": {
        "id": "IglmdQ28ASIr"
      },
      "source": [
        "This representation is similar to that provided by the sklearn's [OrdinalEncoder](https://scikit-learn.org/stable/modules/generated/sklearn.preprocessing.OrdinalEncoder.html#sklearn.preprocessing.OrdinalEncoder). This estimator transforms each categorical feature to one new feature of integers (0 to n_categories - 1). Such integer representation can, however, not be used directly with all scikit-learn estimators, as these expect continuous input, and would interpret the categories as being ordered, which is often not desired (i.e. the set of boroughs was ordered arbitrarily).\n",
        "\n",
        "\n",
        "\n",
        " "
      ]
    },
    {
      "cell_type": "markdown",
      "metadata": {
        "id": "xJijbcRPci-S"
      },
      "source": [
        "Another option for the encoding of categorical features is what is known as One-Hot Encoding or Dummy Encoding. This type of encoding transforms each categorical feature with n_categories possible values into n_categories binary features, with one of them 1, and all others 0.\n",
        "\n",
        "Pandas provide a simple way of performing this encoding with the `get_dummies` function, as shown below."
      ]
    },
    {
      "cell_type": "code",
      "metadata": {
        "colab": {
          "base_uri": "https://localhost:8080/",
          "height": 235
        },
        "id": "Z7Evi10vj07R",
        "outputId": "6c1e7525-8c7d-4bd9-d030-1dba467944c8"
      },
      "source": [
        "pd.get_dummies(df)"
      ],
      "execution_count": null,
      "outputs": [
        {
          "output_type": "execute_result",
          "data": {
            "text/html": [
              "<div>\n",
              "<style scoped>\n",
              "    .dataframe tbody tr th:only-of-type {\n",
              "        vertical-align: middle;\n",
              "    }\n",
              "\n",
              "    .dataframe tbody tr th {\n",
              "        vertical-align: top;\n",
              "    }\n",
              "\n",
              "    .dataframe thead th {\n",
              "        text-align: right;\n",
              "    }\n",
              "</style>\n",
              "<table border=\"1\" class=\"dataframe\">\n",
              "  <thead>\n",
              "    <tr style=\"text-align: right;\">\n",
              "      <th></th>\n",
              "      <th>boro_ordinal</th>\n",
              "      <th>salary</th>\n",
              "      <th>boro_Bronx</th>\n",
              "      <th>boro_Brooklyn</th>\n",
              "      <th>boro_Manhattan</th>\n",
              "      <th>boro_Queens</th>\n",
              "      <th>vegan_No</th>\n",
              "      <th>vegan_Yes</th>\n",
              "    </tr>\n",
              "  </thead>\n",
              "  <tbody>\n",
              "    <tr>\n",
              "      <th>0</th>\n",
              "      <td>2</td>\n",
              "      <td>103</td>\n",
              "      <td>0</td>\n",
              "      <td>0</td>\n",
              "      <td>1</td>\n",
              "      <td>0</td>\n",
              "      <td>1</td>\n",
              "      <td>0</td>\n",
              "    </tr>\n",
              "    <tr>\n",
              "      <th>1</th>\n",
              "      <td>3</td>\n",
              "      <td>89</td>\n",
              "      <td>0</td>\n",
              "      <td>0</td>\n",
              "      <td>0</td>\n",
              "      <td>1</td>\n",
              "      <td>1</td>\n",
              "      <td>0</td>\n",
              "    </tr>\n",
              "    <tr>\n",
              "      <th>2</th>\n",
              "      <td>2</td>\n",
              "      <td>142</td>\n",
              "      <td>0</td>\n",
              "      <td>0</td>\n",
              "      <td>1</td>\n",
              "      <td>0</td>\n",
              "      <td>1</td>\n",
              "      <td>0</td>\n",
              "    </tr>\n",
              "    <tr>\n",
              "      <th>3</th>\n",
              "      <td>1</td>\n",
              "      <td>54</td>\n",
              "      <td>0</td>\n",
              "      <td>1</td>\n",
              "      <td>0</td>\n",
              "      <td>0</td>\n",
              "      <td>0</td>\n",
              "      <td>1</td>\n",
              "    </tr>\n",
              "    <tr>\n",
              "      <th>4</th>\n",
              "      <td>1</td>\n",
              "      <td>63</td>\n",
              "      <td>0</td>\n",
              "      <td>1</td>\n",
              "      <td>0</td>\n",
              "      <td>0</td>\n",
              "      <td>0</td>\n",
              "      <td>1</td>\n",
              "    </tr>\n",
              "    <tr>\n",
              "      <th>5</th>\n",
              "      <td>0</td>\n",
              "      <td>219</td>\n",
              "      <td>1</td>\n",
              "      <td>0</td>\n",
              "      <td>0</td>\n",
              "      <td>0</td>\n",
              "      <td>1</td>\n",
              "      <td>0</td>\n",
              "    </tr>\n",
              "  </tbody>\n",
              "</table>\n",
              "</div>"
            ],
            "text/plain": [
              "   boro_ordinal  salary  boro_Bronx  ...  boro_Queens  vegan_No  vegan_Yes\n",
              "0             2     103           0  ...            0         1          0\n",
              "1             3      89           0  ...            1         1          0\n",
              "2             2     142           0  ...            0         1          0\n",
              "3             1      54           0  ...            0         0          1\n",
              "4             1      63           0  ...            0         0          1\n",
              "5             0     219           1  ...            0         1          0\n",
              "\n",
              "[6 rows x 8 columns]"
            ]
          },
          "metadata": {},
          "execution_count": 93
        }
      ]
    },
    {
      "cell_type": "markdown",
      "metadata": {
        "id": "G2AtmpRQdS51"
      },
      "source": [
        "Nevertheless, I strongly recommend you to make use of the [OneHotEncoder](https://scikit-learn.org/stable/modules/generated/sklearn.preprocessing.OneHotEncoder.html#sklearn.preprocessing.OneHotEncoder) provided by sklearn. In this way, you can easily integrate the encoding with the rest of your machine learning pipeline.\n",
        "\n",
        "The following piece of code shows how to perform the encoding."
      ]
    },
    {
      "cell_type": "code",
      "metadata": {
        "colab": {
          "base_uri": "https://localhost:8080/"
        },
        "id": "v-uGr1lgkOFp",
        "outputId": "87cfb402-ba1f-463b-d376-93799fa5e3d0"
      },
      "source": [
        "from sklearn.preprocessing import OneHotEncoder\n",
        "ce = OneHotEncoder().fit(df)\n",
        "ce.transform(df).toarray()"
      ],
      "execution_count": null,
      "outputs": [
        {
          "output_type": "execute_result",
          "data": {
            "text/plain": [
              "array([[0., 0., 1., 0., 0., 0., 1., 0., 1., 0., 0., 0., 0., 1., 0., 0.],\n",
              "       [0., 0., 0., 1., 0., 0., 0., 1., 1., 0., 0., 0., 1., 0., 0., 0.],\n",
              "       [0., 0., 1., 0., 0., 0., 1., 0., 1., 0., 0., 0., 0., 0., 1., 0.],\n",
              "       [0., 1., 0., 0., 0., 1., 0., 0., 0., 1., 1., 0., 0., 0., 0., 0.],\n",
              "       [0., 1., 0., 0., 0., 1., 0., 0., 0., 1., 0., 1., 0., 0., 0., 0.],\n",
              "       [1., 0., 0., 0., 1., 0., 0., 0., 1., 0., 0., 0., 0., 0., 0., 1.]])"
            ]
          },
          "metadata": {},
          "execution_count": 10
        }
      ]
    },
    {
      "cell_type": "markdown",
      "metadata": {
        "id": "M3_F4s2-eK7W"
      },
      "source": [
        "And, as I said before, this encoder can be easily integrated into the rest of the machine learning pipeline. In particular, the following piece of code transforms the dataset by:\n",
        "1. Applying the StandardScaler for numerical features\n",
        "2. Applying the OneHotEncoder to the categorical features.\n",
        "3. Create a pipeline that applies both transformations (StandardScaler and OneHotEncoder) to the dataset, thanks to the [`make_column_transformer`](https://scikit-learn.org/stable/modules/generated/sklearn.compose.make_column_transformer.html) function.\n",
        "4. Create a pipeline to execute the transformations and train a logistic regression model."
      ]
    },
    {
      "cell_type": "code",
      "metadata": {
        "id": "kfk1Q0f5kfAA"
      },
      "source": [
        "from sklearn.compose import make_column_transformer\n",
        "from sklearn.linear_model import LogisticRegression \n",
        "\n",
        "# Define what is a categorical feature (the type of the feature is equal to object)\n",
        "categorical = df.dtypes == object\n",
        "\n",
        "# Create a column transformer to define different transformations for each column\n",
        "preprocess = make_column_transformer(\n",
        "    (StandardScaler(), ~categorical), # StandardScaler for non-categorical features\n",
        "    (OneHotEncoder(handle_unknown='ignore'), categorical)) # OneHotEncoder for the categorical features (the handler_unknown param avoids future errors if a new category appears)\n",
        "\n",
        "# Define a pipeline with the pre-processing and the LogReg model\n",
        "model = make_pipeline(preprocess, LogisticRegression())"
      ],
      "execution_count": null,
      "outputs": []
    },
    {
      "cell_type": "markdown",
      "metadata": {
        "id": "41rhpShFgA0y"
      },
      "source": [
        "As we have seen, the OneHotEncoder is the default strategy to encode categorical features. For more details on it, please refer to the sklearn documentation: https://scikit-learn.org/stable/modules/preprocessing.html#encoding-categorical-features. \n",
        "\n",
        "However, there is an issue with this encoding. To illustrate this point, we are going to use the houses dataset again. Let us suppose that we have a feature with many different values (i.e., levels). As you can see in the following picture, the feature `zipcode` has many different values."
      ]
    },
    {
      "cell_type": "code",
      "metadata": {
        "id": "gIunDI1GmXwj"
      },
      "source": [
        "from sklearn.datasets import fetch_openml\n",
        "data = fetch_openml(\"house_sales\", as_frame=True)\n",
        "target = data.frame.price\n",
        "\n",
        "X = data.frame.drop(['date', 'price'], axis=1)\n",
        "y = target"
      ],
      "execution_count": null,
      "outputs": []
    },
    {
      "cell_type": "code",
      "metadata": {
        "colab": {
          "base_uri": "https://localhost:8080/",
          "height": 648
        },
        "id": "KkiYv38gmx1H",
        "outputId": "833d95af-61cf-43af-ff8c-688c490e7273"
      },
      "source": [
        "import seaborn as sns\n",
        "plt.figure(figsize=(25, 10))\n",
        "ax = sns.boxplot(x=data.frame.zipcode, y=data.frame.price)\n",
        "ax.set_xticklabels(ax.get_xticklabels(), rotation=90);"
      ],
      "execution_count": null,
      "outputs": [
        {
          "output_type": "display_data",
          "data": {
            "image/png": "[encoded data removed]",
            "text/plain": [
              "<Figure size 1800x720 with 1 Axes>"
            ]
          },
          "metadata": {
            "needs_background": "light"
          }
        }
      ]
    },
    {
      "cell_type": "markdown",
      "metadata": {
        "id": "ytmtGNF4jGey"
      },
      "source": [
        "Therefore, as you can see below, if you apply the OneHotEncoding to the `zipcode`, you will end up with 70 features (i.e., given that the `zipcode` feature has 70 different values).\n",
        "\n",
        "This is a unique feature, but what would happen if you have many of these features with many different levels for each one? You will easily end up with hundreds or even thousands of features."
      ]
    },
    {
      "cell_type": "code",
      "metadata": {
        "colab": {
          "base_uri": "https://localhost:8080/",
          "height": 439
        },
        "id": "0yVltiVkifKL",
        "outputId": "d6a2e1db-bacc-4803-88e8-cd9d33e06dbc"
      },
      "source": [
        "pd.get_dummies(X.zipcode)"
      ],
      "execution_count": null,
      "outputs": [
        {
          "output_type": "execute_result",
          "data": {
            "text/html": [
              "<div>\n",
              "<style scoped>\n",
              "    .dataframe tbody tr th:only-of-type {\n",
              "        vertical-align: middle;\n",
              "    }\n",
              "\n",
              "    .dataframe tbody tr th {\n",
              "        vertical-align: top;\n",
              "    }\n",
              "\n",
              "    .dataframe thead th {\n",
              "        text-align: right;\n",
              "    }\n",
              "</style>\n",
              "<table border=\"1\" class=\"dataframe\">\n",
              "  <thead>\n",
              "    <tr style=\"text-align: right;\">\n",
              "      <th></th>\n",
              "      <th>98001.0</th>\n",
              "      <th>98002.0</th>\n",
              "      <th>98003.0</th>\n",
              "      <th>98004.0</th>\n",
              "      <th>98005.0</th>\n",
              "      <th>98006.0</th>\n",
              "      <th>98007.0</th>\n",
              "      <th>98008.0</th>\n",
              "      <th>98010.0</th>\n",
              "      <th>98011.0</th>\n",
              "      <th>98014.0</th>\n",
              "      <th>98019.0</th>\n",
              "      <th>98022.0</th>\n",
              "      <th>98023.0</th>\n",
              "      <th>98024.0</th>\n",
              "      <th>98027.0</th>\n",
              "      <th>98028.0</th>\n",
              "      <th>98029.0</th>\n",
              "      <th>98030.0</th>\n",
              "      <th>98031.0</th>\n",
              "      <th>98032.0</th>\n",
              "      <th>98033.0</th>\n",
              "      <th>98034.0</th>\n",
              "      <th>98038.0</th>\n",
              "      <th>98039.0</th>\n",
              "      <th>98040.0</th>\n",
              "      <th>98042.0</th>\n",
              "      <th>98045.0</th>\n",
              "      <th>98052.0</th>\n",
              "      <th>98053.0</th>\n",
              "      <th>98055.0</th>\n",
              "      <th>98056.0</th>\n",
              "      <th>98058.0</th>\n",
              "      <th>98059.0</th>\n",
              "      <th>98065.0</th>\n",
              "      <th>98070.0</th>\n",
              "      <th>98072.0</th>\n",
              "      <th>98074.0</th>\n",
              "      <th>98075.0</th>\n",
              "      <th>98077.0</th>\n",
              "      <th>98092.0</th>\n",
              "      <th>98102.0</th>\n",
              "      <th>98103.0</th>\n",
              "      <th>98105.0</th>\n",
              "      <th>98106.0</th>\n",
              "      <th>98107.0</th>\n",
              "      <th>98108.0</th>\n",
              "      <th>98109.0</th>\n",
              "      <th>98112.0</th>\n",
              "      <th>98115.0</th>\n",
              "      <th>98116.0</th>\n",
              "      <th>98117.0</th>\n",
              "      <th>98118.0</th>\n",
              "      <th>98119.0</th>\n",
              "      <th>98122.0</th>\n",
              "      <th>98125.0</th>\n",
              "      <th>98126.0</th>\n",
              "      <th>98133.0</th>\n",
              "      <th>98136.0</th>\n",
              "      <th>98144.0</th>\n",
              "      <th>98146.0</th>\n",
              "      <th>98148.0</th>\n",
              "      <th>98155.0</th>\n",
              "      <th>98166.0</th>\n",
              "      <th>98168.0</th>\n",
              "      <th>98177.0</th>\n",
              "      <th>98178.0</th>\n",
              "      <th>98188.0</th>\n",
              "      <th>98198.0</th>\n",
              "      <th>98199.0</th>\n",
              "    </tr>\n",
              "  </thead>\n",
              "  <tbody>\n",
              "    <tr>\n",
              "      <th>0</th>\n",
              "      <td>0</td>\n",
              "      <td>0</td>\n",
              "      <td>0</td>\n",
              "      <td>0</td>\n",
              "      <td>0</td>\n",
              "      <td>0</td>\n",
              "      <td>0</td>\n",
              "      <td>0</td>\n",
              "      <td>0</td>\n",
              "      <td>0</td>\n",
              "      <td>0</td>\n",
              "      <td>0</td>\n",
              "      <td>0</td>\n",
              "      <td>0</td>\n",
              "      <td>0</td>\n",
              "      <td>0</td>\n",
              "      <td>0</td>\n",
              "      <td>0</td>\n",
              "      <td>0</td>\n",
              "      <td>0</td>\n",
              "      <td>0</td>\n",
              "      <td>0</td>\n",
              "      <td>0</td>\n",
              "      <td>0</td>\n",
              "      <td>0</td>\n",
              "      <td>0</td>\n",
              "      <td>0</td>\n",
              "      <td>0</td>\n",
              "      <td>0</td>\n",
              "      <td>0</td>\n",
              "      <td>0</td>\n",
              "      <td>0</td>\n",
              "      <td>0</td>\n",
              "      <td>0</td>\n",
              "      <td>0</td>\n",
              "      <td>0</td>\n",
              "      <td>0</td>\n",
              "      <td>0</td>\n",
              "      <td>0</td>\n",
              "      <td>0</td>\n",
              "      <td>0</td>\n",
              "      <td>0</td>\n",
              "      <td>0</td>\n",
              "      <td>0</td>\n",
              "      <td>0</td>\n",
              "      <td>0</td>\n",
              "      <td>0</td>\n",
              "      <td>0</td>\n",
              "      <td>0</td>\n",
              "      <td>0</td>\n",
              "      <td>0</td>\n",
              "      <td>0</td>\n",
              "      <td>0</td>\n",
              "      <td>0</td>\n",
              "      <td>0</td>\n",
              "      <td>0</td>\n",
              "      <td>0</td>\n",
              "      <td>0</td>\n",
              "      <td>0</td>\n",
              "      <td>0</td>\n",
              "      <td>0</td>\n",
              "      <td>0</td>\n",
              "      <td>0</td>\n",
              "      <td>0</td>\n",
              "      <td>0</td>\n",
              "      <td>0</td>\n",
              "      <td>1</td>\n",
              "      <td>0</td>\n",
              "      <td>0</td>\n",
              "      <td>0</td>\n",
              "    </tr>\n",
              "    <tr>\n",
              "      <th>1</th>\n",
              "      <td>0</td>\n",
              "      <td>0</td>\n",
              "      <td>0</td>\n",
              "      <td>0</td>\n",
              "      <td>0</td>\n",
              "      <td>0</td>\n",
              "      <td>0</td>\n",
              "      <td>0</td>\n",
              "      <td>0</td>\n",
              "      <td>0</td>\n",
              "      <td>0</td>\n",
              "      <td>0</td>\n",
              "      <td>0</td>\n",
              "      <td>0</td>\n",
              "      <td>0</td>\n",
              "      <td>0</td>\n",
              "      <td>0</td>\n",
              "      <td>0</td>\n",
              "      <td>0</td>\n",
              "      <td>0</td>\n",
              "      <td>0</td>\n",
              "      <td>0</td>\n",
              "      <td>0</td>\n",
              "      <td>0</td>\n",
              "      <td>0</td>\n",
              "      <td>0</td>\n",
              "      <td>0</td>\n",
              "      <td>0</td>\n",
              "      <td>0</td>\n",
              "      <td>0</td>\n",
              "      <td>0</td>\n",
              "      <td>0</td>\n",
              "      <td>0</td>\n",
              "      <td>0</td>\n",
              "      <td>0</td>\n",
              "      <td>0</td>\n",
              "      <td>0</td>\n",
              "      <td>0</td>\n",
              "      <td>0</td>\n",
              "      <td>0</td>\n",
              "      <td>0</td>\n",
              "      <td>0</td>\n",
              "      <td>0</td>\n",
              "      <td>0</td>\n",
              "      <td>0</td>\n",
              "      <td>0</td>\n",
              "      <td>0</td>\n",
              "      <td>0</td>\n",
              "      <td>0</td>\n",
              "      <td>0</td>\n",
              "      <td>0</td>\n",
              "      <td>0</td>\n",
              "      <td>0</td>\n",
              "      <td>0</td>\n",
              "      <td>0</td>\n",
              "      <td>1</td>\n",
              "      <td>0</td>\n",
              "      <td>0</td>\n",
              "      <td>0</td>\n",
              "      <td>0</td>\n",
              "      <td>0</td>\n",
              "      <td>0</td>\n",
              "      <td>0</td>\n",
              "      <td>0</td>\n",
              "      <td>0</td>\n",
              "      <td>0</td>\n",
              "      <td>0</td>\n",
              "      <td>0</td>\n",
              "      <td>0</td>\n",
              "      <td>0</td>\n",
              "    </tr>\n",
              "    <tr>\n",
              "      <th>2</th>\n",
              "      <td>0</td>\n",
              "      <td>0</td>\n",
              "      <td>0</td>\n",
              "      <td>0</td>\n",
              "      <td>0</td>\n",
              "      <td>0</td>\n",
              "      <td>0</td>\n",
              "      <td>0</td>\n",
              "      <td>0</td>\n",
              "      <td>0</td>\n",
              "      <td>0</td>\n",
              "      <td>0</td>\n",
              "      <td>0</td>\n",
              "      <td>0</td>\n",
              "      <td>0</td>\n",
              "      <td>0</td>\n",
              "      <td>1</td>\n",
              "      <td>0</td>\n",
              "      <td>0</td>\n",
              "      <td>0</td>\n",
              "      <td>0</td>\n",
              "      <td>0</td>\n",
              "      <td>0</td>\n",
              "      <td>0</td>\n",
              "      <td>0</td>\n",
              "      <td>0</td>\n",
              "      <td>0</td>\n",
              "      <td>0</td>\n",
              "      <td>0</td>\n",
              "      <td>0</td>\n",
              "      <td>0</td>\n",
              "      <td>0</td>\n",
              "      <td>0</td>\n",
              "      <td>0</td>\n",
              "      <td>0</td>\n",
              "      <td>0</td>\n",
              "      <td>0</td>\n",
              "      <td>0</td>\n",
              "      <td>0</td>\n",
              "      <td>0</td>\n",
              "      <td>0</td>\n",
              "      <td>0</td>\n",
              "      <td>0</td>\n",
              "      <td>0</td>\n",
              "      <td>0</td>\n",
              "      <td>0</td>\n",
              "      <td>0</td>\n",
              "      <td>0</td>\n",
              "      <td>0</td>\n",
              "      <td>0</td>\n",
              "      <td>0</td>\n",
              "      <td>0</td>\n",
              "      <td>0</td>\n",
              "      <td>0</td>\n",
              "      <td>0</td>\n",
              "      <td>0</td>\n",
              "      <td>0</td>\n",
              "      <td>0</td>\n",
              "      <td>0</td>\n",
              "      <td>0</td>\n",
              "      <td>0</td>\n",
              "      <td>0</td>\n",
              "      <td>0</td>\n",
              "      <td>0</td>\n",
              "      <td>0</td>\n",
              "      <td>0</td>\n",
              "      <td>0</td>\n",
              "      <td>0</td>\n",
              "      <td>0</td>\n",
              "      <td>0</td>\n",
              "    </tr>\n",
              "    <tr>\n",
              "      <th>3</th>\n",
              "      <td>0</td>\n",
              "      <td>0</td>\n",
              "      <td>0</td>\n",
              "      <td>0</td>\n",
              "      <td>0</td>\n",
              "      <td>0</td>\n",
              "      <td>0</td>\n",
              "      <td>0</td>\n",
              "      <td>0</td>\n",
              "      <td>0</td>\n",
              "      <td>0</td>\n",
              "      <td>0</td>\n",
              "      <td>0</td>\n",
              "      <td>0</td>\n",
              "      <td>0</td>\n",
              "      <td>0</td>\n",
              "      <td>0</td>\n",
              "      <td>0</td>\n",
              "      <td>0</td>\n",
              "      <td>0</td>\n",
              "      <td>0</td>\n",
              "      <td>0</td>\n",
              "      <td>0</td>\n",
              "      <td>0</td>\n",
              "      <td>0</td>\n",
              "      <td>0</td>\n",
              "      <td>0</td>\n",
              "      <td>0</td>\n",
              "      <td>0</td>\n",
              "      <td>0</td>\n",
              "      <td>0</td>\n",
              "      <td>0</td>\n",
              "      <td>0</td>\n",
              "      <td>0</td>\n",
              "      <td>0</td>\n",
              "      <td>0</td>\n",
              "      <td>0</td>\n",
              "      <td>0</td>\n",
              "      <td>0</td>\n",
              "      <td>0</td>\n",
              "      <td>0</td>\n",
              "      <td>0</td>\n",
              "      <td>0</td>\n",
              "      <td>0</td>\n",
              "      <td>0</td>\n",
              "      <td>0</td>\n",
              "      <td>0</td>\n",
              "      <td>0</td>\n",
              "      <td>0</td>\n",
              "      <td>0</td>\n",
              "      <td>0</td>\n",
              "      <td>0</td>\n",
              "      <td>0</td>\n",
              "      <td>0</td>\n",
              "      <td>0</td>\n",
              "      <td>0</td>\n",
              "      <td>0</td>\n",
              "      <td>0</td>\n",
              "      <td>1</td>\n",
              "      <td>0</td>\n",
              "      <td>0</td>\n",
              "      <td>0</td>\n",
              "      <td>0</td>\n",
              "      <td>0</td>\n",
              "      <td>0</td>\n",
              "      <td>0</td>\n",
              "      <td>0</td>\n",
              "      <td>0</td>\n",
              "      <td>0</td>\n",
              "      <td>0</td>\n",
              "    </tr>\n",
              "    <tr>\n",
              "      <th>4</th>\n",
              "      <td>0</td>\n",
              "      <td>0</td>\n",
              "      <td>0</td>\n",
              "      <td>0</td>\n",
              "      <td>0</td>\n",
              "      <td>0</td>\n",
              "      <td>0</td>\n",
              "      <td>0</td>\n",
              "      <td>0</td>\n",
              "      <td>0</td>\n",
              "      <td>0</td>\n",
              "      <td>0</td>\n",
              "      <td>0</td>\n",
              "      <td>0</td>\n",
              "      <td>0</td>\n",
              "      <td>0</td>\n",
              "      <td>0</td>\n",
              "      <td>0</td>\n",
              "      <td>0</td>\n",
              "      <td>0</td>\n",
              "      <td>0</td>\n",
              "      <td>0</td>\n",
              "      <td>0</td>\n",
              "      <td>0</td>\n",
              "      <td>0</td>\n",
              "      <td>0</td>\n",
              "      <td>0</td>\n",
              "      <td>0</td>\n",
              "      <td>0</td>\n",
              "      <td>0</td>\n",
              "      <td>0</td>\n",
              "      <td>0</td>\n",
              "      <td>0</td>\n",
              "      <td>0</td>\n",
              "      <td>0</td>\n",
              "      <td>0</td>\n",
              "      <td>0</td>\n",
              "      <td>1</td>\n",
              "      <td>0</td>\n",
              "      <td>0</td>\n",
              "      <td>0</td>\n",
              "      <td>0</td>\n",
              "      <td>0</td>\n",
              "      <td>0</td>\n",
              "      <td>0</td>\n",
              "      <td>0</td>\n",
              "      <td>0</td>\n",
              "      <td>0</td>\n",
              "      <td>0</td>\n",
              "      <td>0</td>\n",
              "      <td>0</td>\n",
              "      <td>0</td>\n",
              "      <td>0</td>\n",
              "      <td>0</td>\n",
              "      <td>0</td>\n",
              "      <td>0</td>\n",
              "      <td>0</td>\n",
              "      <td>0</td>\n",
              "      <td>0</td>\n",
              "      <td>0</td>\n",
              "      <td>0</td>\n",
              "      <td>0</td>\n",
              "      <td>0</td>\n",
              "      <td>0</td>\n",
              "      <td>0</td>\n",
              "      <td>0</td>\n",
              "      <td>0</td>\n",
              "      <td>0</td>\n",
              "      <td>0</td>\n",
              "      <td>0</td>\n",
              "    </tr>\n",
              "    <tr>\n",
              "      <th>...</th>\n",
              "      <td>...</td>\n",
              "      <td>...</td>\n",
              "      <td>...</td>\n",
              "      <td>...</td>\n",
              "      <td>...</td>\n",
              "      <td>...</td>\n",
              "      <td>...</td>\n",
              "      <td>...</td>\n",
              "      <td>...</td>\n",
              "      <td>...</td>\n",
              "      <td>...</td>\n",
              "      <td>...</td>\n",
              "      <td>...</td>\n",
              "      <td>...</td>\n",
              "      <td>...</td>\n",
              "      <td>...</td>\n",
              "      <td>...</td>\n",
              "      <td>...</td>\n",
              "      <td>...</td>\n",
              "      <td>...</td>\n",
              "      <td>...</td>\n",
              "      <td>...</td>\n",
              "      <td>...</td>\n",
              "      <td>...</td>\n",
              "      <td>...</td>\n",
              "      <td>...</td>\n",
              "      <td>...</td>\n",
              "      <td>...</td>\n",
              "      <td>...</td>\n",
              "      <td>...</td>\n",
              "      <td>...</td>\n",
              "      <td>...</td>\n",
              "      <td>...</td>\n",
              "      <td>...</td>\n",
              "      <td>...</td>\n",
              "      <td>...</td>\n",
              "      <td>...</td>\n",
              "      <td>...</td>\n",
              "      <td>...</td>\n",
              "      <td>...</td>\n",
              "      <td>...</td>\n",
              "      <td>...</td>\n",
              "      <td>...</td>\n",
              "      <td>...</td>\n",
              "      <td>...</td>\n",
              "      <td>...</td>\n",
              "      <td>...</td>\n",
              "      <td>...</td>\n",
              "      <td>...</td>\n",
              "      <td>...</td>\n",
              "      <td>...</td>\n",
              "      <td>...</td>\n",
              "      <td>...</td>\n",
              "      <td>...</td>\n",
              "      <td>...</td>\n",
              "      <td>...</td>\n",
              "      <td>...</td>\n",
              "      <td>...</td>\n",
              "      <td>...</td>\n",
              "      <td>...</td>\n",
              "      <td>...</td>\n",
              "      <td>...</td>\n",
              "      <td>...</td>\n",
              "      <td>...</td>\n",
              "      <td>...</td>\n",
              "      <td>...</td>\n",
              "      <td>...</td>\n",
              "      <td>...</td>\n",
              "      <td>...</td>\n",
              "      <td>...</td>\n",
              "    </tr>\n",
              "    <tr>\n",
              "      <th>21608</th>\n",
              "      <td>0</td>\n",
              "      <td>0</td>\n",
              "      <td>0</td>\n",
              "      <td>0</td>\n",
              "      <td>0</td>\n",
              "      <td>0</td>\n",
              "      <td>0</td>\n",
              "      <td>0</td>\n",
              "      <td>0</td>\n",
              "      <td>0</td>\n",
              "      <td>0</td>\n",
              "      <td>0</td>\n",
              "      <td>0</td>\n",
              "      <td>0</td>\n",
              "      <td>0</td>\n",
              "      <td>0</td>\n",
              "      <td>0</td>\n",
              "      <td>0</td>\n",
              "      <td>0</td>\n",
              "      <td>0</td>\n",
              "      <td>0</td>\n",
              "      <td>0</td>\n",
              "      <td>0</td>\n",
              "      <td>0</td>\n",
              "      <td>0</td>\n",
              "      <td>0</td>\n",
              "      <td>0</td>\n",
              "      <td>0</td>\n",
              "      <td>0</td>\n",
              "      <td>0</td>\n",
              "      <td>0</td>\n",
              "      <td>0</td>\n",
              "      <td>0</td>\n",
              "      <td>0</td>\n",
              "      <td>0</td>\n",
              "      <td>0</td>\n",
              "      <td>0</td>\n",
              "      <td>0</td>\n",
              "      <td>0</td>\n",
              "      <td>0</td>\n",
              "      <td>0</td>\n",
              "      <td>0</td>\n",
              "      <td>1</td>\n",
              "      <td>0</td>\n",
              "      <td>0</td>\n",
              "      <td>0</td>\n",
              "      <td>0</td>\n",
              "      <td>0</td>\n",
              "      <td>0</td>\n",
              "      <td>0</td>\n",
              "      <td>0</td>\n",
              "      <td>0</td>\n",
              "      <td>0</td>\n",
              "      <td>0</td>\n",
              "      <td>0</td>\n",
              "      <td>0</td>\n",
              "      <td>0</td>\n",
              "      <td>0</td>\n",
              "      <td>0</td>\n",
              "      <td>0</td>\n",
              "      <td>0</td>\n",
              "      <td>0</td>\n",
              "      <td>0</td>\n",
              "      <td>0</td>\n",
              "      <td>0</td>\n",
              "      <td>0</td>\n",
              "      <td>0</td>\n",
              "      <td>0</td>\n",
              "      <td>0</td>\n",
              "      <td>0</td>\n",
              "    </tr>\n",
              "    <tr>\n",
              "      <th>21609</th>\n",
              "      <td>0</td>\n",
              "      <td>0</td>\n",
              "      <td>0</td>\n",
              "      <td>0</td>\n",
              "      <td>0</td>\n",
              "      <td>0</td>\n",
              "      <td>0</td>\n",
              "      <td>0</td>\n",
              "      <td>0</td>\n",
              "      <td>0</td>\n",
              "      <td>0</td>\n",
              "      <td>0</td>\n",
              "      <td>0</td>\n",
              "      <td>0</td>\n",
              "      <td>0</td>\n",
              "      <td>0</td>\n",
              "      <td>0</td>\n",
              "      <td>0</td>\n",
              "      <td>0</td>\n",
              "      <td>0</td>\n",
              "      <td>0</td>\n",
              "      <td>0</td>\n",
              "      <td>0</td>\n",
              "      <td>0</td>\n",
              "      <td>0</td>\n",
              "      <td>0</td>\n",
              "      <td>0</td>\n",
              "      <td>0</td>\n",
              "      <td>0</td>\n",
              "      <td>0</td>\n",
              "      <td>0</td>\n",
              "      <td>0</td>\n",
              "      <td>0</td>\n",
              "      <td>0</td>\n",
              "      <td>0</td>\n",
              "      <td>0</td>\n",
              "      <td>0</td>\n",
              "      <td>0</td>\n",
              "      <td>0</td>\n",
              "      <td>0</td>\n",
              "      <td>0</td>\n",
              "      <td>0</td>\n",
              "      <td>0</td>\n",
              "      <td>0</td>\n",
              "      <td>0</td>\n",
              "      <td>0</td>\n",
              "      <td>0</td>\n",
              "      <td>0</td>\n",
              "      <td>0</td>\n",
              "      <td>0</td>\n",
              "      <td>0</td>\n",
              "      <td>0</td>\n",
              "      <td>0</td>\n",
              "      <td>0</td>\n",
              "      <td>0</td>\n",
              "      <td>0</td>\n",
              "      <td>0</td>\n",
              "      <td>0</td>\n",
              "      <td>0</td>\n",
              "      <td>0</td>\n",
              "      <td>1</td>\n",
              "      <td>0</td>\n",
              "      <td>0</td>\n",
              "      <td>0</td>\n",
              "      <td>0</td>\n",
              "      <td>0</td>\n",
              "      <td>0</td>\n",
              "      <td>0</td>\n",
              "      <td>0</td>\n",
              "      <td>0</td>\n",
              "    </tr>\n",
              "    <tr>\n",
              "      <th>21610</th>\n",
              "      <td>0</td>\n",
              "      <td>0</td>\n",
              "      <td>0</td>\n",
              "      <td>0</td>\n",
              "      <td>0</td>\n",
              "      <td>0</td>\n",
              "      <td>0</td>\n",
              "      <td>0</td>\n",
              "      <td>0</td>\n",
              "      <td>0</td>\n",
              "      <td>0</td>\n",
              "      <td>0</td>\n",
              "      <td>0</td>\n",
              "      <td>0</td>\n",
              "      <td>0</td>\n",
              "      <td>0</td>\n",
              "      <td>0</td>\n",
              "      <td>0</td>\n",
              "      <td>0</td>\n",
              "      <td>0</td>\n",
              "      <td>0</td>\n",
              "      <td>0</td>\n",
              "      <td>0</td>\n",
              "      <td>0</td>\n",
              "      <td>0</td>\n",
              "      <td>0</td>\n",
              "      <td>0</td>\n",
              "      <td>0</td>\n",
              "      <td>0</td>\n",
              "      <td>0</td>\n",
              "      <td>0</td>\n",
              "      <td>0</td>\n",
              "      <td>0</td>\n",
              "      <td>0</td>\n",
              "      <td>0</td>\n",
              "      <td>0</td>\n",
              "      <td>0</td>\n",
              "      <td>0</td>\n",
              "      <td>0</td>\n",
              "      <td>0</td>\n",
              "      <td>0</td>\n",
              "      <td>0</td>\n",
              "      <td>0</td>\n",
              "      <td>0</td>\n",
              "      <td>0</td>\n",
              "      <td>0</td>\n",
              "      <td>0</td>\n",
              "      <td>0</td>\n",
              "      <td>0</td>\n",
              "      <td>0</td>\n",
              "      <td>0</td>\n",
              "      <td>0</td>\n",
              "      <td>0</td>\n",
              "      <td>0</td>\n",
              "      <td>0</td>\n",
              "      <td>0</td>\n",
              "      <td>0</td>\n",
              "      <td>0</td>\n",
              "      <td>0</td>\n",
              "      <td>1</td>\n",
              "      <td>0</td>\n",
              "      <td>0</td>\n",
              "      <td>0</td>\n",
              "      <td>0</td>\n",
              "      <td>0</td>\n",
              "      <td>0</td>\n",
              "      <td>0</td>\n",
              "      <td>0</td>\n",
              "      <td>0</td>\n",
              "      <td>0</td>\n",
              "    </tr>\n",
              "    <tr>\n",
              "      <th>21611</th>\n",
              "      <td>0</td>\n",
              "      <td>0</td>\n",
              "      <td>0</td>\n",
              "      <td>0</td>\n",
              "      <td>0</td>\n",
              "      <td>0</td>\n",
              "      <td>0</td>\n",
              "      <td>0</td>\n",
              "      <td>0</td>\n",
              "      <td>0</td>\n",
              "      <td>0</td>\n",
              "      <td>0</td>\n",
              "      <td>0</td>\n",
              "      <td>0</td>\n",
              "      <td>0</td>\n",
              "      <td>1</td>\n",
              "      <td>0</td>\n",
              "      <td>0</td>\n",
              "      <td>0</td>\n",
              "      <td>0</td>\n",
              "      <td>0</td>\n",
              "      <td>0</td>\n",
              "      <td>0</td>\n",
              "      <td>0</td>\n",
              "      <td>0</td>\n",
              "      <td>0</td>\n",
              "      <td>0</td>\n",
              "      <td>0</td>\n",
              "      <td>0</td>\n",
              "      <td>0</td>\n",
              "      <td>0</td>\n",
              "      <td>0</td>\n",
              "      <td>0</td>\n",
              "      <td>0</td>\n",
              "      <td>0</td>\n",
              "      <td>0</td>\n",
              "      <td>0</td>\n",
              "      <td>0</td>\n",
              "      <td>0</td>\n",
              "      <td>0</td>\n",
              "      <td>0</td>\n",
              "      <td>0</td>\n",
              "      <td>0</td>\n",
              "      <td>0</td>\n",
              "      <td>0</td>\n",
              "      <td>0</td>\n",
              "      <td>0</td>\n",
              "      <td>0</td>\n",
              "      <td>0</td>\n",
              "      <td>0</td>\n",
              "      <td>0</td>\n",
              "      <td>0</td>\n",
              "      <td>0</td>\n",
              "      <td>0</td>\n",
              "      <td>0</td>\n",
              "      <td>0</td>\n",
              "      <td>0</td>\n",
              "      <td>0</td>\n",
              "      <td>0</td>\n",
              "      <td>0</td>\n",
              "      <td>0</td>\n",
              "      <td>0</td>\n",
              "      <td>0</td>\n",
              "      <td>0</td>\n",
              "      <td>0</td>\n",
              "      <td>0</td>\n",
              "      <td>0</td>\n",
              "      <td>0</td>\n",
              "      <td>0</td>\n",
              "      <td>0</td>\n",
              "    </tr>\n",
              "    <tr>\n",
              "      <th>21612</th>\n",
              "      <td>0</td>\n",
              "      <td>0</td>\n",
              "      <td>0</td>\n",
              "      <td>0</td>\n",
              "      <td>0</td>\n",
              "      <td>0</td>\n",
              "      <td>0</td>\n",
              "      <td>0</td>\n",
              "      <td>0</td>\n",
              "      <td>0</td>\n",
              "      <td>0</td>\n",
              "      <td>0</td>\n",
              "      <td>0</td>\n",
              "      <td>0</td>\n",
              "      <td>0</td>\n",
              "      <td>0</td>\n",
              "      <td>0</td>\n",
              "      <td>0</td>\n",
              "      <td>0</td>\n",
              "      <td>0</td>\n",
              "      <td>0</td>\n",
              "      <td>0</td>\n",
              "      <td>0</td>\n",
              "      <td>0</td>\n",
              "      <td>0</td>\n",
              "      <td>0</td>\n",
              "      <td>0</td>\n",
              "      <td>0</td>\n",
              "      <td>0</td>\n",
              "      <td>0</td>\n",
              "      <td>0</td>\n",
              "      <td>0</td>\n",
              "      <td>0</td>\n",
              "      <td>0</td>\n",
              "      <td>0</td>\n",
              "      <td>0</td>\n",
              "      <td>0</td>\n",
              "      <td>0</td>\n",
              "      <td>0</td>\n",
              "      <td>0</td>\n",
              "      <td>0</td>\n",
              "      <td>0</td>\n",
              "      <td>0</td>\n",
              "      <td>0</td>\n",
              "      <td>0</td>\n",
              "      <td>0</td>\n",
              "      <td>0</td>\n",
              "      <td>0</td>\n",
              "      <td>0</td>\n",
              "      <td>0</td>\n",
              "      <td>0</td>\n",
              "      <td>0</td>\n",
              "      <td>0</td>\n",
              "      <td>0</td>\n",
              "      <td>0</td>\n",
              "      <td>0</td>\n",
              "      <td>0</td>\n",
              "      <td>0</td>\n",
              "      <td>0</td>\n",
              "      <td>1</td>\n",
              "      <td>0</td>\n",
              "      <td>0</td>\n",
              "      <td>0</td>\n",
              "      <td>0</td>\n",
              "      <td>0</td>\n",
              "      <td>0</td>\n",
              "      <td>0</td>\n",
              "      <td>0</td>\n",
              "      <td>0</td>\n",
              "      <td>0</td>\n",
              "    </tr>\n",
              "  </tbody>\n",
              "</table>\n",
              "<p>21613 rows × 70 columns</p>\n",
              "</div>"
            ],
            "text/plain": [
              "       98001.0  98002.0  98003.0  98004.0  ...  98178.0  98188.0  98198.0  98199.0\n",
              "0            0        0        0        0  ...        1        0        0        0\n",
              "1            0        0        0        0  ...        0        0        0        0\n",
              "2            0        0        0        0  ...        0        0        0        0\n",
              "3            0        0        0        0  ...        0        0        0        0\n",
              "4            0        0        0        0  ...        0        0        0        0\n",
              "...        ...      ...      ...      ...  ...      ...      ...      ...      ...\n",
              "21608        0        0        0        0  ...        0        0        0        0\n",
              "21609        0        0        0        0  ...        0        0        0        0\n",
              "21610        0        0        0        0  ...        0        0        0        0\n",
              "21611        0        0        0        0  ...        0        0        0        0\n",
              "21612        0        0        0        0  ...        0        0        0        0\n",
              "\n",
              "[21613 rows x 70 columns]"
            ]
          },
          "metadata": {},
          "execution_count": 20
        }
      ]
    },
    {
      "cell_type": "markdown",
      "metadata": {
        "id": "btKgFkEUka1q"
      },
      "source": [
        "As we presented in class, this situation can pose a problem for some Machine Learning methods. A potential solution is the use of the [TargetEncoder](https://contrib.scikit-learn.org/category_encoders/targetencoder.html).\n",
        "\n",
        "Very briefly, by applying the TargetEncoder, the features are replaced with the target's expected value for each categorical value."
      ]
    },
    {
      "cell_type": "code",
      "metadata": {
        "colab": {
          "base_uri": "https://localhost:8080/",
          "height": 419
        },
        "id": "YajnobBSnY5j",
        "outputId": "76acd707-856c-4996-be00-4c1753d0e0df"
      },
      "source": [
        "! pip install -qq category_encoders\n",
        "from category_encoders import TargetEncoder\n",
        "\n",
        "target_encoder = TargetEncoder()\n",
        "X['zipcode_transformed'] = target_encoder.fit_transform(data.frame.zipcode.astype(\"category\"), target)\n",
        "\n",
        "X[['zipcode', 'zipcode_transformed']]"
      ],
      "execution_count": null,
      "outputs": [
        {
          "output_type": "execute_result",
          "data": {
            "text/html": [
              "<div>\n",
              "<style scoped>\n",
              "    .dataframe tbody tr th:only-of-type {\n",
              "        vertical-align: middle;\n",
              "    }\n",
              "\n",
              "    .dataframe tbody tr th {\n",
              "        vertical-align: top;\n",
              "    }\n",
              "\n",
              "    .dataframe thead th {\n",
              "        text-align: right;\n",
              "    }\n",
              "</style>\n",
              "<table border=\"1\" class=\"dataframe\">\n",
              "  <thead>\n",
              "    <tr style=\"text-align: right;\">\n",
              "      <th></th>\n",
              "      <th>zipcode</th>\n",
              "      <th>zipcode_transformed</th>\n",
              "    </tr>\n",
              "  </thead>\n",
              "  <tbody>\n",
              "    <tr>\n",
              "      <th>0</th>\n",
              "      <td>98178.0</td>\n",
              "      <td>310612.755725</td>\n",
              "    </tr>\n",
              "    <tr>\n",
              "      <th>1</th>\n",
              "      <td>98125.0</td>\n",
              "      <td>469455.770732</td>\n",
              "    </tr>\n",
              "    <tr>\n",
              "      <th>2</th>\n",
              "      <td>98028.0</td>\n",
              "      <td>462480.035336</td>\n",
              "    </tr>\n",
              "    <tr>\n",
              "      <th>3</th>\n",
              "      <td>98136.0</td>\n",
              "      <td>551688.673004</td>\n",
              "    </tr>\n",
              "    <tr>\n",
              "      <th>4</th>\n",
              "      <td>98074.0</td>\n",
              "      <td>685605.775510</td>\n",
              "    </tr>\n",
              "    <tr>\n",
              "      <th>...</th>\n",
              "      <td>...</td>\n",
              "      <td>...</td>\n",
              "    </tr>\n",
              "    <tr>\n",
              "      <th>21608</th>\n",
              "      <td>98103.0</td>\n",
              "      <td>584919.210963</td>\n",
              "    </tr>\n",
              "    <tr>\n",
              "      <th>21609</th>\n",
              "      <td>98146.0</td>\n",
              "      <td>359483.239583</td>\n",
              "    </tr>\n",
              "    <tr>\n",
              "      <th>21610</th>\n",
              "      <td>98144.0</td>\n",
              "      <td>594547.650146</td>\n",
              "    </tr>\n",
              "    <tr>\n",
              "      <th>21611</th>\n",
              "      <td>98027.0</td>\n",
              "      <td>616990.592233</td>\n",
              "    </tr>\n",
              "    <tr>\n",
              "      <th>21612</th>\n",
              "      <td>98144.0</td>\n",
              "      <td>594547.650146</td>\n",
              "    </tr>\n",
              "  </tbody>\n",
              "</table>\n",
              "<p>21613 rows × 2 columns</p>\n",
              "</div>"
            ],
            "text/plain": [
              "       zipcode  zipcode_transformed\n",
              "0      98178.0        310612.755725\n",
              "1      98125.0        469455.770732\n",
              "2      98028.0        462480.035336\n",
              "3      98136.0        551688.673004\n",
              "4      98074.0        685605.775510\n",
              "...        ...                  ...\n",
              "21608  98103.0        584919.210963\n",
              "21609  98146.0        359483.239583\n",
              "21610  98144.0        594547.650146\n",
              "21611  98027.0        616990.592233\n",
              "21612  98144.0        594547.650146\n",
              "\n",
              "[21613 rows x 2 columns]"
            ]
          },
          "metadata": {},
          "execution_count": 45
        }
      ]
    },
    {
      "cell_type": "markdown",
      "metadata": {
        "id": "XAE80QY0rs6C"
      },
      "source": [
        "As usual, you can integrate this encoder into any pipeline too."
      ]
    },
    {
      "cell_type": "code",
      "metadata": {
        "id": "iNfu-JyenuKv"
      },
      "source": [
        "pipe_target = make_pipeline(TargetEncoder(cols='zipcode'), Ridge())"
      ],
      "execution_count": null,
      "outputs": []
    },
    {
      "cell_type": "markdown",
      "metadata": {
        "id": "YWAF3HSms4Vb"
      },
      "source": [
        "# Outliers\n",
        "\n",
        "The next aspect to consider for Data Cleaning is the presence of outliers. We have already discussed this in class. Outliers are extreme values that can affect the final model performance. Nevertheless, the are situations in which we would like to keep them (e.g., they are informative, they help in predicting the target variables, we want to focus on them, such as when we are doing anomaly detection).\n",
        "\n",
        "In this exercise, we are not going to focus on analyzing the importance of outliers. To that end, you need to apply your knowledge about the business domain in which you are working and analyze if the outliers carry any meaning or they are just mistakes or extrema values that you do not want to focus on. \n",
        "\n",
        "We will assume that you know about the outliers and you want to remove them. For this identification and removal, you have several options. You can rely on your intuition and set a threshold for the feature value. You can visualize the distribution of the feature values. You can apply some statistical method (e.g., the Z-score or the interquartile range to remove them).\n",
        "\n",
        "However, I recommend you to use some of the outlier removal techniques already implemented in sklearn (refer to https://scikit-learn.org/stable/modules/outlier_detection.html for more details). These methods are focused on training a model to detect that some value is an outlier. Once identified, you can decide to keep them, impute them to a more sensible value or even remove them.\n",
        "\n",
        "\n",
        "\n",
        "\n",
        "\n"
      ]
    },
    {
      "cell_type": "markdown",
      "metadata": {
        "id": "mKfLOksGhZZK"
      },
      "source": [
        "For the experimentation, let's make use of another version of the housing dataset."
      ]
    },
    {
      "cell_type": "code",
      "metadata": {
        "id": "tqfxOL1St8mW"
      },
      "source": [
        "\n",
        "# load the dataset\n",
        "url = 'https://raw.githubusercontent.com/jbrownlee/Datasets/master/housing.csv'\n",
        "df = read_csv(url, header=None)\n",
        "# retrieve the array\n",
        "data = df.values\n",
        "# split into input and output elements\n",
        "X, y = data[:, :-1], data[:, -1]"
      ],
      "execution_count": 3,
      "outputs": []
    },
    {
      "cell_type": "markdown",
      "metadata": {
        "id": "r2cx0WrvhyN9"
      },
      "source": [
        "Let's train a Logistic Regression model with the data as it is to serve as baseline"
      ]
    },
    {
      "cell_type": "code",
      "metadata": {
        "colab": {
          "base_uri": "https://localhost:8080/"
        },
        "id": "ZKG5WnyMuKGV",
        "outputId": "6bd655f1-25ac-44b2-d7dc-977d4892341b"
      },
      "source": [
        "from sklearn.model_selection import cross_val_score\n",
        "from sklearn.linear_model import LinearRegression\n",
        "\n",
        "pipe = make_pipeline(LinearRegression())\n",
        "print(cross_val_score(pipe, X, y, cv=5)\n"
      ],
      "execution_count": null,
      "outputs": [
        {
          "output_type": "execute_result",
          "data": {
            "text/plain": [
              "array([ 0.63919994,  0.71386698,  0.58702344,  0.07923081, -0.25294154])"
            ]
          },
          "metadata": {},
          "execution_count": 29
        }
      ]
    },
    {
      "cell_type": "code",
      "metadata": {
        "colab": {
          "base_uri": "https://localhost:8080/"
        },
        "id": "S-C467iCvJYi",
        "outputId": "853c8184-f4ad-4c31-cf44-87c14daeaa44"
      },
      "source": [
        "from sklearn.ensemble import IsolationForest\n",
        "from sklearn.svm import OneClassSVM\n",
        "from sklearn.neighbors import LocalOutlierFactor\n",
        "from sklearn.covariance import EllipticEnvelope\n",
        "from sklearn.linear_model import LinearRegression\n",
        "\n",
        "\n",
        "for od in [IsolationForest(), EllipticEnvelope(), LocalOutlierFactor(), OneClassSVM()]:\n",
        "\n",
        "  yhat = od.fit_predict(X)\n",
        "\n",
        "  # select all rows that are not outliers\n",
        "  mask = yhat != -1\n",
        "  X_without_outliers, y_withouth_outliers = X[mask, :], y[mask]\n",
        "\n",
        "  pipe = make_pipeline(LinearRegression())\n",
        "  print(cross_val_score(pipe, X_without_outliers, y_withouth_outliers, cv=5))"
      ],
      "execution_count": null,
      "outputs": [
        {
          "output_type": "stream",
          "name": "stdout",
          "text": [
            "[ 0.6006483   0.71114569  0.6595133   0.08974425 -0.70274115]\n",
            "[ 0.62675426  0.7040996   0.54880932  0.31983642 -6.41373921]\n",
            "[ 0.60145967  0.56046046  0.58242692 -0.01021429 -3.17066612]\n",
            "[ 0.55393221 -0.05319951  0.43011503  0.8045749  -0.27712592]\n"
          ]
        }
      ]
    },
    {
      "cell_type": "markdown",
      "metadata": {
        "id": "KG3G4nGTzHTn"
      },
      "source": [
        "# Binning"
      ]
    },
    {
      "cell_type": "code",
      "metadata": {
        "id": "pw9JKvTfz67j"
      },
      "source": [
        "def make_wave(n_samples=100):\n",
        "    rnd = np.random.RandomState(42)\n",
        "    x = rnd.uniform(-3, 3, size=n_samples)\n",
        "    y_no_noise = (np.sin(4 * x) + x)\n",
        "    y = (y_no_noise + rnd.normal(size=len(x))) / 2\n",
        "    return x.reshape(-1, 1), y"
      ],
      "execution_count": null,
      "outputs": []
    },
    {
      "cell_type": "code",
      "metadata": {
        "id": "gj0qhwd4zJgm",
        "colab": {
          "base_uri": "https://localhost:8080/",
          "height": 279
        },
        "outputId": "e754cad1-7750-4f30-c520-599dbc5a6069"
      },
      "source": [
        "from sklearn.linear_model import LinearRegression\n",
        "from sklearn.tree import DecisionTreeRegressor\n",
        "\n",
        "X, y = make_wave(n_samples=100)\n",
        "plt.plot(X[:, 0], y, 'o')\n",
        "\n",
        "line = np.linspace(-3, 3, 1000)[:-1].reshape(-1, 1)\n",
        "reg = LinearRegression().fit(X, y)\n",
        "\n",
        "plt.plot(line, reg.predict(line), label=\"linear regression\")\n",
        "reg = DecisionTreeRegressor(min_samples_split=3).fit(X, y)\n",
        "\n",
        "plt.plot(line, reg.predict(line), label=\"decision tree\")\n",
        "plt.ylabel(\"regression output\")\n",
        "plt.xlabel(\"input feature\")\n",
        "plt.legend(loc=\"best\");"
      ],
      "execution_count": null,
      "outputs": [
        {
          "output_type": "display_data",
          "data": {
            "image/png": "[encoded data removed]",
            "text/plain": [
              "<Figure size 432x288 with 1 Axes>"
            ]
          },
          "metadata": {
            "needs_background": "light"
          }
        }
      ]
    },
    {
      "cell_type": "code",
      "metadata": {
        "id": "TyHVJTFb0TZ_",
        "colab": {
          "base_uri": "https://localhost:8080/"
        },
        "outputId": "537c34c5-ee0a-4798-8d78-52574ff6e687"
      },
      "source": [
        "np.set_printoptions(precision=2)\n",
        "bins = np.linspace(-3, 3, 11)\n",
        "bins"
      ],
      "execution_count": null,
      "outputs": [
        {
          "output_type": "execute_result",
          "data": {
            "text/plain": [
              "array([-3. , -2.4, -1.8, -1.2, -0.6,  0. ,  0.6,  1.2,  1.8,  2.4,  3. ])"
            ]
          },
          "metadata": {},
          "execution_count": 150
        }
      ]
    },
    {
      "cell_type": "code",
      "metadata": {
        "id": "8t5v2J0y0JNT",
        "colab": {
          "base_uri": "https://localhost:8080/"
        },
        "outputId": "a1bd3e89-5907-4cf4-dece-676f884ff36a"
      },
      "source": [
        "from sklearn.preprocessing import OneHotEncoder\n",
        "\n",
        "which_bin = np.digitize(X, bins=bins)\n",
        "\n",
        "# transform using the OneHotEncoder.\n",
        "encoder = OneHotEncoder(sparse=False)\n",
        "# encoder.fit finds the unique values that appear in which_bin\n",
        "encoder.fit(which_bin)\n",
        "# transform creates the one-hot encoding\n",
        "X_binned = encoder.transform(which_bin)\n",
        "print(X_binned[:5])"
      ],
      "execution_count": null,
      "outputs": [
        {
          "output_type": "stream",
          "name": "stdout",
          "text": [
            "[[0. 0. 0. 1. 0. 0. 0. 0. 0. 0.]\n",
            " [0. 0. 0. 0. 0. 0. 0. 0. 0. 1.]\n",
            " [0. 0. 0. 0. 0. 0. 0. 1. 0. 0.]\n",
            " [0. 0. 0. 0. 0. 1. 0. 0. 0. 0.]\n",
            " [0. 1. 0. 0. 0. 0. 0. 0. 0. 0.]]\n"
          ]
        }
      ]
    },
    {
      "cell_type": "code",
      "metadata": {
        "id": "U78_PVC50Yto",
        "colab": {
          "base_uri": "https://localhost:8080/",
          "height": 294
        },
        "outputId": "add3e3e9-be4b-46ab-a339-d0d5b0a27b59"
      },
      "source": [
        "line_binned = encoder.transform(np.digitize(line, bins=bins))\n",
        "plt.plot(X[:, 0], y, 'o')\n",
        "reg = LinearRegression().fit(X_binned, y)\n",
        "plt.plot(line, reg.predict(line_binned), label='linear regression binned')\n",
        "reg = DecisionTreeRegressor(min_samples_split=3).fit(X_binned, y)\n",
        "plt.plot(line, reg.predict(line_binned), label='decision tree binned')\n",
        "for bin in bins:\n",
        "  plt.plot([bin, bin], [-3, 3], ':', c='k')\n",
        "  plt.legend(loc=\"best\")\n",
        "  plt.suptitle(\"linear_binning\")"
      ],
      "execution_count": null,
      "outputs": [
        {
          "output_type": "display_data",
          "data": {
            "image/png": "[encoded data removed]",
            "text/plain": [
              "<Figure size 432x288 with 1 Axes>"
            ]
          },
          "metadata": {
            "needs_background": "light"
          }
        }
      ]
    },
    {
      "cell_type": "markdown",
      "metadata": {
        "id": "f6jMZZcVyptW"
      },
      "source": [
        "# Null Values"
      ]
    },
    {
      "cell_type": "markdown",
      "metadata": {
        "id": "wK73j6BhLBPB"
      },
      "source": [
        "## Univariate vs. Multivariate Imputation\n",
        "\n",
        "One type of imputation algorithm is univariate, which imputes values in the i-th feature dimension using only non-missing values in that feature dimension (e.g. impute.SimpleImputer). By contrast, multivariate imputation algorithms use the entire set of available feature dimensions to estimate the missing values (e.g. impute.IterativeImputer).\n",
        "\n"
      ]
    },
    {
      "cell_type": "markdown",
      "metadata": {
        "id": "LtE0uULELXUI"
      },
      "source": [
        "### Univariate: SimpleImputer\n",
        "\n",
        "The SimpleImputer class provides basic strategies for imputing missing values. Missing values can be imputed with a provided constant value, or using the statistics (mean, median or most frequent) of each column in which the missing values are located. This class also allows for different missing values encodings.\n",
        "\n",
        "The following snippet demonstrates how to replace missing values, encoded as np.nan, using the mean value of the columns (axis 0) that contain the missing values:"
      ]
    },
    {
      "cell_type": "code",
      "metadata": {
        "colab": {
          "base_uri": "https://localhost:8080/"
        },
        "id": "nFTZS9A6LFEa",
        "outputId": "8d2374c2-1a50-4057-ee33-85299f82fc19"
      },
      "source": [
        "import numpy as np\n",
        "from sklearn.impute import SimpleImputer\n",
        "imp = SimpleImputer(missing_values=np.nan, strategy='mean')\n",
        "imp.fit([[1, 2], [np.nan, 3], [7, 6]])"
      ],
      "execution_count": null,
      "outputs": [
        {
          "output_type": "execute_result",
          "data": {
            "text/plain": [
              "SimpleImputer(add_indicator=False, copy=True, fill_value=None,\n",
              "              missing_values=nan, strategy='mean', verbose=0)"
            ]
          },
          "metadata": {},
          "execution_count": 3
        }
      ]
    },
    {
      "cell_type": "code",
      "metadata": {
        "colab": {
          "base_uri": "https://localhost:8080/"
        },
        "id": "7V9sbKEjLKna",
        "outputId": "89b0af62-3ce9-4a86-be14-86fe23b4ceb3"
      },
      "source": [
        "X = [[np.nan, 2], [6, np.nan], [7, 6]]\n",
        "print(imp.transform(X))"
      ],
      "execution_count": null,
      "outputs": [
        {
          "output_type": "stream",
          "name": "stdout",
          "text": [
            "[[4.         2.        ]\n",
            " [6.         3.66666667]\n",
            " [7.         6.        ]]\n"
          ]
        }
      ]
    },
    {
      "cell_type": "markdown",
      "metadata": {
        "id": "rP4LixU5LpOF"
      },
      "source": [
        "strategystr, default=’mean’\n",
        "The imputation strategy.\n",
        "\n",
        "If “mean”, then replace missing values using the mean along each column. Can only be used with numeric data.\n",
        "\n",
        "If “median”, then replace missing values using the median along each column. Can only be used with numeric data.\n",
        "\n",
        "If “most_frequent”, then replace missing using the most frequent value along each column. Can be used with strings or numeric data. If there is more than one such value, only the smallest is returned.\n",
        "\n",
        "If “constant”, then replace missing values with fill_value. Can be used with strings or numeric data."
      ]
    },
    {
      "cell_type": "code",
      "metadata": {
        "colab": {
          "base_uri": "https://localhost:8080/"
        },
        "id": "J5CaLZnOLqxx",
        "outputId": "879efdb8-ece8-426c-9a9f-6f46276069b2"
      },
      "source": [
        "import pandas as pd\n",
        "df = pd.DataFrame([[\"a\", \"x\"],\n",
        "                   [np.nan, \"y\"],\n",
        "                   [\"a\", np.nan],\n",
        "                   [\"b\", \"y\"]], dtype=\"category\")\n",
        "\n",
        "imp = SimpleImputer(strategy=\"most_frequent\")\n",
        "print(imp.fit_transform(df))"
      ],
      "execution_count": null,
      "outputs": [
        {
          "output_type": "stream",
          "name": "stdout",
          "text": [
            "[['a' 'x']\n",
            " ['a' 'y']\n",
            " ['a' 'y']\n",
            " ['b' 'y']]\n"
          ]
        }
      ]
    },
    {
      "cell_type": "markdown",
      "metadata": {
        "id": "0LonbNZLLxJ5"
      },
      "source": [
        "### Multivariate: IterativeImputer\n",
        "\n",
        "A more sophisticated approach is to use the IterativeImputer class, which models each feature with missing values as a function of other features, and uses that estimate for imputation. It does so in an iterated round-robin fashion: at each step, a feature column is designated as output y and the other feature columns are treated as inputs X. A regressor is fit on (X, y) for known y. Then, the regressor is used to predict the missing values of y. This is done for each feature in an iterative fashion, and then is repeated for max_iter imputation rounds. The results of the final imputation round are returned."
      ]
    },
    {
      "cell_type": "code",
      "metadata": {
        "id": "x4OEuDUpMUhC",
        "colab": {
          "base_uri": "https://localhost:8080/"
        },
        "outputId": "3cd5e656-7dcc-4b22-d463-44d4cc7d7e49"
      },
      "source": [
        "import numpy as np\n",
        "from sklearn.experimental import enable_iterative_imputer\n",
        "from sklearn.impute import IterativeImputer\n",
        "imp = IterativeImputer(max_iter=10, random_state=0)\n",
        "imp.fit([[1, 2], [3, 6], [4, 8], [np.nan, 3], [7, np.nan]])\n"
      ],
      "execution_count": null,
      "outputs": [
        {
          "output_type": "execute_result",
          "data": {
            "text/plain": [
              "IterativeImputer(add_indicator=False, estimator=None,\n",
              "                 imputation_order='ascending', initial_strategy='mean',\n",
              "                 max_iter=10, max_value=None, min_value=None,\n",
              "                 missing_values=nan, n_nearest_features=None, random_state=0,\n",
              "                 sample_posterior=False, skip_complete=False, tol=0.001,\n",
              "                 verbose=0)"
            ]
          },
          "metadata": {},
          "execution_count": 6
        }
      ]
    },
    {
      "cell_type": "code",
      "metadata": {
        "id": "dtMSlsDUMeMz",
        "colab": {
          "base_uri": "https://localhost:8080/"
        },
        "outputId": "04dffeeb-f38b-45e0-aac8-0ae1b828218b"
      },
      "source": [
        "\n",
        "X_test = [[np.nan, 2], [6, np.nan], [np.nan, 6]]\n",
        "# the model learns that the second feature is double the first\n",
        "print(np.round(imp.transform(X_test)))"
      ],
      "execution_count": null,
      "outputs": [
        {
          "output_type": "stream",
          "name": "stdout",
          "text": [
            "[[ 1.  2.]\n",
            " [ 6. 12.]\n",
            " [ 3.  6.]]\n"
          ]
        }
      ]
    },
    {
      "cell_type": "markdown",
      "metadata": {
        "id": "9tgfHlLROqxX"
      },
      "source": [
        "### KNN Imputer\n",
        "\n",
        "The KNNImputer class provides imputation for filling in missing values using the k-Nearest Neighbors approach. By default, a euclidean distance metric that supports missing values, nan_euclidean_distances, is used to find the nearest neighbors. Each missing feature is imputed using values from n_neighbors nearest neighbors that have a value for the feature. The feature of the neighbors are averaged uniformly or weighted by distance to each neighbor. If a sample has more than one feature missing, then the neighbors for that sample can be different depending on the particular feature being imputed. When the number of available neighbors is less than n_neighbors and there are no defined distances to the training set, the training set average for that feature is used during imputation. If there is at least one neighbor with a defined distance, the weighted or unweighted average of the remaining neighbors will be used during imputation. If a feature is always missing in training, it is removed during transform. For more information on the methodology, see ref. [OL2001].\n",
        "\n"
      ]
    },
    {
      "cell_type": "code",
      "metadata": {
        "id": "60juci12Ou8w",
        "colab": {
          "base_uri": "https://localhost:8080/"
        },
        "outputId": "2d7be0d6-458b-4b7a-f635-1a1cc6f0abb8"
      },
      "source": [
        "import numpy as np\n",
        "from sklearn.impute import KNNImputer\n",
        "nan = np.nan\n",
        "X = [[1, 2, nan], [3, 4, 3], [nan, 6, 5], [8, 8, 7]]\n",
        "imputer = KNNImputer(n_neighbors=2, weights=\"uniform\")\n",
        "imputer.fit_transform(X)\n"
      ],
      "execution_count": null,
      "outputs": [
        {
          "output_type": "execute_result",
          "data": {
            "text/plain": [
              "array([[1. , 2. , 4. ],\n",
              "       [3. , 4. , 3. ],\n",
              "       [5.5, 6. , 5. ],\n",
              "       [8. , 8. , 7. ]])"
            ]
          },
          "metadata": {},
          "execution_count": 8
        }
      ]
    },
    {
      "cell_type": "markdown",
      "metadata": {
        "id": "Tb4izwIAPRxl"
      },
      "source": [
        "## Mark imputed values\n"
      ]
    },
    {
      "cell_type": "code",
      "metadata": {
        "id": "W66uB6fwPXAV",
        "colab": {
          "base_uri": "https://localhost:8080/"
        },
        "outputId": "04d65fca-a3ce-4543-a047-1ec3aa9b0395"
      },
      "source": [
        "from sklearn.impute import MissingIndicator\n",
        "X = np.array([[-1, -1, 1, 3],\n",
        "              [4, -1, 0, -1],\n",
        "              [8, -1, 1, 0]])\n",
        "indicator = MissingIndicator(missing_values=-1)\n",
        "mask_missing_values_only = indicator.fit_transform(X)\n",
        "mask_missing_values_only  "
      ],
      "execution_count": null,
      "outputs": [
        {
          "output_type": "execute_result",
          "data": {
            "text/plain": [
              "array([[ True,  True, False],\n",
              "       [False,  True,  True],\n",
              "       [False,  True, False]])"
            ]
          },
          "metadata": {},
          "execution_count": 9
        }
      ]
    },
    {
      "cell_type": "markdown",
      "metadata": {
        "id": "32V462AKPt0P"
      },
      "source": [
        "The features parameter is used to choose the features for which the mask is constructed. By default, it is 'missing-only' which returns the imputer mask of the features containing missing values at fit time:\n",
        "\n"
      ]
    },
    {
      "cell_type": "code",
      "metadata": {
        "id": "Ui-NL-5oPv2n",
        "colab": {
          "base_uri": "https://localhost:8080/"
        },
        "outputId": "1ff3d054-c601-4495-8871-09cc2e9168ca"
      },
      "source": [
        "indicator.features_\n"
      ],
      "execution_count": null,
      "outputs": [
        {
          "output_type": "execute_result",
          "data": {
            "text/plain": [
              "array([0, 1, 2, 3])"
            ]
          },
          "metadata": {},
          "execution_count": 12
        }
      ]
    },
    {
      "cell_type": "markdown",
      "metadata": {
        "id": "V7ySJvesPrY-"
      },
      "source": [
        "The features parameter can be set to 'all' to return all features whether or not they contain missing values:\n",
        "\n"
      ]
    },
    {
      "cell_type": "code",
      "metadata": {
        "id": "Ib_abZkCPleW",
        "colab": {
          "base_uri": "https://localhost:8080/"
        },
        "outputId": "20a69b17-90d8-45e7-b68f-6aa57cdea775"
      },
      "source": [
        "indicator = MissingIndicator(missing_values=-1, features=\"all\")\n",
        "mask_all = indicator.fit_transform(X)\n",
        "mask_all"
      ],
      "execution_count": null,
      "outputs": [
        {
          "output_type": "execute_result",
          "data": {
            "text/plain": [
              "array([[ True,  True, False, False],\n",
              "       [False,  True, False,  True],\n",
              "       [False,  True, False, False]])"
            ]
          },
          "metadata": {},
          "execution_count": 10
        }
      ]
    },
    {
      "cell_type": "code",
      "metadata": {
        "id": "CsZZkbFyPnmn",
        "colab": {
          "base_uri": "https://localhost:8080/"
        },
        "outputId": "b4823c50-3416-4481-a0cf-c0c4b090e4af"
      },
      "source": [
        "indicator.features_"
      ],
      "execution_count": null,
      "outputs": [
        {
          "output_type": "execute_result",
          "data": {
            "text/plain": [
              "array([0, 1, 2, 3])"
            ]
          },
          "metadata": {},
          "execution_count": 11
        }
      ]
    },
    {
      "cell_type": "markdown",
      "metadata": {
        "id": "2EhbeQgoP36B"
      },
      "source": [
        "## Everything together: Pipelines\n",
        "\n"
      ]
    },
    {
      "cell_type": "code",
      "metadata": {
        "id": "CnJ8PdUb-7dl"
      },
      "source": [
        "from sklearn.datasets import load_iris\n",
        "from sklearn.impute import SimpleImputer, MissingIndicator\n",
        "from sklearn.model_selection import cross_val_score\n",
        "from sklearn.model_selection import train_test_split\n",
        "from sklearn.pipeline import FeatureUnion, make_pipeline\n",
        "from sklearn.linear_model import LogisticRegression\n",
        "\n",
        "# Load the iris dataset\n",
        "X, y = load_iris(return_X_y=True)\n",
        "\n",
        "# Randomly assing null values to 20% of the dataset\n",
        "mask = np.random.randint(0, 2, size=X.shape).astype(bool)\n",
        "X[mask] = np.nan"
      ],
      "execution_count": null,
      "outputs": []
    },
    {
      "cell_type": "markdown",
      "metadata": {
        "id": "s_PNFT-T_6Gh"
      },
      "source": [
        "Now we create a FeatureUnion. All features will be imputed using SimpleImputer, in order to enable classifiers to work with this data. Additionally, it adds the indicator variables from MissingIndicator.\n",
        "\n"
      ]
    },
    {
      "cell_type": "code",
      "metadata": {
        "id": "t0BW3HJm_Ld7"
      },
      "source": [
        "transformer = FeatureUnion(\n",
        "    transformer_list=[\n",
        "        ('features', SimpleImputer(strategy='mean')),\n",
        "        ('indicators', MissingIndicator())])"
      ],
      "execution_count": null,
      "outputs": []
    },
    {
      "cell_type": "markdown",
      "metadata": {
        "id": "L-0698NV_8pU"
      },
      "source": [
        "Of course, we cannot use the transformer to make any predictions. We should wrap this in a Pipeline with a classifier (e.g., a Logistic Regression) to be able to make predictions.\n",
        "\n"
      ]
    },
    {
      "cell_type": "code",
      "metadata": {
        "colab": {
          "base_uri": "https://localhost:8080/"
        },
        "id": "KHJUlk2m_Oqs",
        "outputId": "7199d89d-e17b-48ac-e88c-955bf6e2435c"
      },
      "source": [
        "clf = make_pipeline(transformer, LogisticRegression(max_iter=1000))\n",
        "cross_val_score(clf, X, y, cv=5)"
      ],
      "execution_count": null,
      "outputs": [
        {
          "output_type": "execute_result",
          "data": {
            "text/plain": [
              "array([0.8       , 1.        , 0.86666667, 0.76666667, 0.9       ])"
            ]
          },
          "metadata": {},
          "execution_count": 19
        }
      ]
    }
  ]
}